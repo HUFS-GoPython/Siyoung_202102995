{
 "cells": [
  {
   "cell_type": "markdown",
   "id": "37460f9d-2559-4f65-8adc-c8b1c5710036",
   "metadata": {},
   "source": [
    "## Ch02. Variables\n",
    "- 자료형 변환하기\n",
    "- int -> float\n",
    "- int -> bool\n",
    "- int -> str\n",
    "- float -> int\n",
    "- str -> int"
   ]
  },
  {
   "cell_type": "markdown",
   "id": "ccd9f5d3-df1e-4a0a-9ff0-dbbd35a4e390",
   "metadata": {},
   "source": [
    "#### int -> float"
   ]
  },
  {
   "cell_type": "code",
   "execution_count": 4,
   "id": "b6849280-5314-42e9-b23c-fe6eae036b66",
   "metadata": {},
   "outputs": [
    {
     "data": {
      "text/plain": [
       "int"
      ]
     },
     "execution_count": 4,
     "metadata": {},
     "output_type": "execute_result"
    }
   ],
   "source": [
    "num = 835\n",
    "type(num)"
   ]
  },
  {
   "cell_type": "code",
   "execution_count": 5,
   "id": "81dd8ee9-4bb2-42c6-a81e-8d722b3f1b0e",
   "metadata": {},
   "outputs": [
    {
     "name": "stdout",
     "output_type": "stream",
     "text": [
      "835.0\n"
     ]
    },
    {
     "data": {
      "text/plain": [
       "float"
      ]
     },
     "execution_count": 5,
     "metadata": {},
     "output_type": "execute_result"
    }
   ],
   "source": [
    "num2 = float(num)\n",
    "print(num2)\n",
    "type(num2)"
   ]
  },
  {
   "cell_type": "markdown",
   "id": "3e481008-a846-4863-bcaf-8c3f282ecb88",
   "metadata": {},
   "source": [
    "#### int -> str"
   ]
  },
  {
   "cell_type": "code",
   "execution_count": 7,
   "id": "86e21285-cd2f-4150-b95b-dab7dbec1063",
   "metadata": {},
   "outputs": [
    {
     "name": "stdout",
     "output_type": "stream",
     "text": [
      "835\n"
     ]
    },
    {
     "data": {
      "text/plain": [
       "str"
      ]
     },
     "execution_count": 7,
     "metadata": {},
     "output_type": "execute_result"
    }
   ],
   "source": [
    "num3 = str(num)\n",
    "print(num3)\n",
    "type(num3)"
   ]
  },
  {
   "cell_type": "markdown",
   "id": "43bada18-fc0e-4697-a639-a70bd9a7d919",
   "metadata": {},
   "source": [
    "#### int -> bool"
   ]
  },
  {
   "cell_type": "code",
   "execution_count": 8,
   "id": "4b61de19-04f1-470d-8846-ca3208c8ec84",
   "metadata": {},
   "outputs": [
    {
     "name": "stdout",
     "output_type": "stream",
     "text": [
      "True\n"
     ]
    },
    {
     "data": {
      "text/plain": [
       "bool"
      ]
     },
     "execution_count": 8,
     "metadata": {},
     "output_type": "execute_result"
    }
   ],
   "source": [
    "num4 = bool(num)\n",
    "print(num4)\n",
    "type(num4)"
   ]
  },
  {
   "cell_type": "markdown",
   "id": "46f81725-99c8-4a80-83fc-eaa8d4a6714d",
   "metadata": {},
   "source": [
    "#### float -> int\n",
    "- 복합 소수형에서 정수형으로 형 변환 시 소수점 이하의 값은 버린다."
   ]
  },
  {
   "cell_type": "code",
   "execution_count": 9,
   "id": "8cb08595-3323-41e4-a1bf-d5ce1e984486",
   "metadata": {},
   "outputs": [
    {
     "name": "stdout",
     "output_type": "stream",
     "text": [
      "10\n",
      "10\n",
      "10\n"
     ]
    }
   ],
   "source": [
    "print(int(10.6))\n",
    "print(int(10.4))\n",
    "print(int(10.5))"
   ]
  },
  {
   "cell_type": "code",
   "execution_count": 11,
   "id": "d4fc8ff1-14ed-498c-9c89-33f95f1495fd",
   "metadata": {},
   "outputs": [
    {
     "name": "stdout",
     "output_type": "stream",
     "text": [
      "12\n",
      "11\n"
     ]
    }
   ],
   "source": [
    "x = 5.7\n",
    "y = 6.4\n",
    "\n",
    "# 두 소수를 더하고 정수형 변환 시 12.1이기 때문에 12로 값이 도출되고, 각각 정수형 변환 시 5+6이 되기 때문에 11로 도출된다.\n",
    "print(int(x+y))\n",
    "print(int(x)+int(y))"
   ]
  },
  {
   "cell_type": "markdown",
   "id": "3910f17b-7059-46e2-b219-3ceae31cf3e8",
   "metadata": {},
   "source": [
    "#### str -> int\n",
    "- 스트링에서 변형할 때에는 그 숫자의 정수형과 소수형을 맞춰야 한다.\n",
    "- 그렇다면 스트링에서 형 변환을 할 때에는 그 숫자를 정확히 모른다면 int로 변환하는 것보다 float로 변환하는 것이 나을 것이라고 생각됨.\n",
    "- float으로 변환하면 정수도 변환이 가능하지만 int로 변환 시 소수형은 변환이 안 되기 때문이다."
   ]
  },
  {
   "cell_type": "code",
   "execution_count": 12,
   "id": "9eb44b66-93f2-411d-ba27-7ed6e0fa704b",
   "metadata": {},
   "outputs": [
    {
     "ename": "ValueError",
     "evalue": "invalid literal for int() with base 10: '99.9'",
     "output_type": "error",
     "traceback": [
      "\u001b[1;31m---------------------------------------------------------------------------\u001b[0m",
      "\u001b[1;31mValueError\u001b[0m                                Traceback (most recent call last)",
      "\u001b[1;32m~\\AppData\\Local\\Temp/ipykernel_11840/3256772020.py\u001b[0m in \u001b[0;36m<module>\u001b[1;34m\u001b[0m\n\u001b[0;32m      1\u001b[0m \u001b[0mnum5\u001b[0m \u001b[1;33m=\u001b[0m \u001b[1;34m'99.9'\u001b[0m\u001b[1;33m\u001b[0m\u001b[1;33m\u001b[0m\u001b[0m\n\u001b[1;32m----> 2\u001b[1;33m \u001b[0mint\u001b[0m\u001b[1;33m(\u001b[0m\u001b[0mnum5\u001b[0m\u001b[1;33m)\u001b[0m\u001b[1;33m\u001b[0m\u001b[1;33m\u001b[0m\u001b[0m\n\u001b[0m",
      "\u001b[1;31mValueError\u001b[0m: invalid literal for int() with base 10: '99.9'"
     ]
    }
   ],
   "source": [
    "num5 = '99.9'\n",
    "int(num5)"
   ]
  },
  {
   "cell_type": "code",
   "execution_count": 13,
   "id": "7d470a5f-3ee4-4ca4-adee-bd88b9a618fe",
   "metadata": {},
   "outputs": [
    {
     "data": {
      "text/plain": [
       "99.9"
      ]
     },
     "execution_count": 13,
     "metadata": {},
     "output_type": "execute_result"
    }
   ],
   "source": [
    "float(num5)"
   ]
  },
  {
   "cell_type": "markdown",
   "id": "c8748a87-b5eb-4c91-a989-0c28ba681e45",
   "metadata": {},
   "source": [
    "### print()명령과 관련된 꿀팁"
   ]
  },
  {
   "cell_type": "code",
   "execution_count": 14,
   "id": "127bf0d2-609c-4374-9d88-7e337125d872",
   "metadata": {},
   "outputs": [
    {
     "name": "stdout",
     "output_type": "stream",
     "text": [
      "guns germs steel\n",
      "재레드 다이아몬드\n"
     ]
    }
   ],
   "source": [
    "print('guns', 'germs', 'steel') # default 값은 띄어쓰기, 줄바꾸기\n",
    "print('재레드 다이아몬드')"
   ]
  },
  {
   "cell_type": "code",
   "execution_count": 16,
   "id": "299b2d5b-68ce-4778-91b4-673ea67e2cd0",
   "metadata": {},
   "outputs": [
    {
     "name": "stdout",
     "output_type": "stream",
     "text": [
      "gunsgermssteel\n",
      "guns germs steel\n",
      "guns/germs/steel\n",
      "\n",
      "재레드 다이아몬드\n"
     ]
    }
   ],
   "source": [
    "word1 = 'guns'\n",
    "word2 = 'germs'\n",
    "word3 = 'steel'\n",
    "\n",
    "#라인이 짧을 때에는 위의 내용을 다음과 같이 정리하는 것이 가능\n",
    "# word = 'guns' ; word2 = 'germs'; word3 = 'steel'\n",
    "\n",
    "#1.\n",
    "print(word1 + word2 + word3)\n",
    "print(word1, word2, word3, sep=' ', end='\\n') #print 명령의 default 값\n",
    "print(word1, word2, word3, sep='/', end='\\n\\n') #이런식으로 명령에 대한 조절이 가능\n",
    "print('재레드 다이아몬드')"
   ]
  },
  {
   "cell_type": "markdown",
   "id": "9246a8c6-0954-43fb-9840-7d4e39e5173e",
   "metadata": {},
   "source": [
    "## input()\n",
    "- console에서 사용자에게 값을 입력 받는 함수\n",
    "- 입출력 관련된 함수\n",
    "- 입력 받는 값의 타입은 '문자열'\n",
    "- console에서 입력 받은 값을 변수에 담아서 사용한다."
   ]
  },
  {
   "cell_type": "code",
   "execution_count": 17,
   "id": "9425df35-8d78-4c78-92b8-617eca6dd77f",
   "metadata": {},
   "outputs": [
    {
     "name": "stdin",
     "output_type": "stream",
     "text": [
      "What is your hobby? Walking\n"
     ]
    },
    {
     "data": {
      "text/plain": [
       "'Walking'"
      ]
     },
     "execution_count": 17,
     "metadata": {},
     "output_type": "execute_result"
    }
   ],
   "source": [
    "input('What is your hobby?')"
   ]
  },
  {
   "cell_type": "code",
   "execution_count": 18,
   "id": "50b53409-d475-408c-87b7-8798d2e7c0e7",
   "metadata": {},
   "outputs": [
    {
     "name": "stdin",
     "output_type": "stream",
     "text": [
      "What is your hobby? Game\n"
     ]
    }
   ],
   "source": [
    "#1.\n",
    "hobby = input('What is your hobby?')"
   ]
  },
  {
   "cell_type": "code",
   "execution_count": 19,
   "id": "b740de68-f19e-4490-91e3-62101cc3df4c",
   "metadata": {},
   "outputs": [
    {
     "data": {
      "text/plain": [
       "'Game'"
      ]
     },
     "execution_count": 19,
     "metadata": {},
     "output_type": "execute_result"
    }
   ],
   "source": [
    "hobby"
   ]
  },
  {
   "cell_type": "code",
   "execution_count": 20,
   "id": "eb70619d-3407-42e5-8c72-3f910bc4d9e9",
   "metadata": {},
   "outputs": [
    {
     "name": "stdout",
     "output_type": "stream",
     "text": [
      "What's your name?\n"
     ]
    },
    {
     "name": "stdin",
     "output_type": "stream",
     "text": [
      " 재레드 다이아몬드\n"
     ]
    }
   ],
   "source": [
    "#2.\n",
    "print(\"What's your name?\")\n",
    "name = input()"
   ]
  },
  {
   "cell_type": "code",
   "execution_count": 21,
   "id": "125b94ac-fb26-415e-b933-32c3a24b6032",
   "metadata": {},
   "outputs": [
    {
     "data": {
      "text/plain": [
       "'재레드 다이아몬드'"
      ]
     },
     "execution_count": 21,
     "metadata": {},
     "output_type": "execute_result"
    }
   ],
   "source": [
    "name"
   ]
  },
  {
   "cell_type": "code",
   "execution_count": 22,
   "id": "e5cb6584-b4d6-4ad0-9771-8cc1b9a607da",
   "metadata": {},
   "outputs": [
    {
     "name": "stdin",
     "output_type": "stream",
     "text": [
      "How much is it? 20000\n"
     ]
    }
   ],
   "source": [
    "price = input(\"How much is it?\")"
   ]
  },
  {
   "cell_type": "code",
   "execution_count": 24,
   "id": "a44522a1-3dfc-4466-a9a4-387e36da4837",
   "metadata": {},
   "outputs": [
    {
     "data": {
      "text/plain": [
       "str"
      ]
     },
     "execution_count": 24,
     "metadata": {},
     "output_type": "execute_result"
    }
   ],
   "source": [
    "type(price)"
   ]
  },
  {
   "cell_type": "markdown",
   "id": "8c6c1ce0-2ea8-4973-8da1-79325c22de81",
   "metadata": {},
   "source": [
    "- input 명령의 default는 입력받는 값을 str로 받는다.\n",
    "- input을 str이 아닌 타입으로 사용하고자 한다면 형 변환을 사용해야 한다.\n",
    "- str이 아닌 int나 float 형으로 입력을 받으면 연산이 가능해진다."
   ]
  },
  {
   "cell_type": "code",
   "execution_count": 25,
   "id": "ade131eb-23b8-4e60-8dca-32f6c99f6729",
   "metadata": {},
   "outputs": [
    {
     "name": "stdin",
     "output_type": "stream",
     "text": [
      "How much is it? 25000\n"
     ]
    }
   ],
   "source": [
    "price = int(input(\"How much is it?\"))"
   ]
  },
  {
   "cell_type": "code",
   "execution_count": 27,
   "id": "985b2b0d-bec3-413f-9ec8-84545b407b46",
   "metadata": {},
   "outputs": [
    {
     "name": "stdout",
     "output_type": "stream",
     "text": [
      "이 상품의 가격은 10% 할인되어 22500 원입니다\n"
     ]
    }
   ],
   "source": [
    "print(\"이 상품의 가격은 10% 할인되어\", int(price*0.9), \"원입니다\")"
   ]
  },
  {
   "cell_type": "code",
   "execution_count": 33,
   "id": "bd08dc46-c1a3-41aa-ab96-d3c3fb8abdd7",
   "metadata": {},
   "outputs": [],
   "source": [
    "#위의 print를 더 편하게 하는 방법\n",
    "#print(f'{<variable>}')을 사용하면 하나의 문장에서 표현이 가능하다"
   ]
  },
  {
   "cell_type": "code",
   "execution_count": 30,
   "id": "86883b0f-9d1e-4629-82b8-12850da87e04",
   "metadata": {},
   "outputs": [
    {
     "name": "stdout",
     "output_type": "stream",
     "text": [
      "이 상품의 가격은 10% 할인되어 22500원입니다\n"
     ]
    }
   ],
   "source": [
    "print(f\"이 상품의 가격은 10% 할인되어 {int(price*0.9)}원입니다\")"
   ]
  },
  {
   "cell_type": "markdown",
   "id": "99958970-363e-40ca-9561-2c96a813f2e3",
   "metadata": {},
   "source": [
    "#### Quiz 1(input명령) - 다시 풀어보기\n",
    "- 택배 정보를 입력 받고 무게에 따른 값 산정하기\n",
    "    - 수취인 성명:\n",
    "    - 수취인 주소:\n",
    "    - 배송비: 3000원\n",
    "    - 물건 비용: <계산된 값>원\n",
    "    - 총 합계: <계산된 값>원\n",
    "- 물건 비용은 무게(g) * 5\n",
    "- 입력 값 = 이름, 주소, 무게"
   ]
  },
  {
   "cell_type": "code",
   "execution_count": 31,
   "id": "e048a7a7-1563-49c8-bf35-0faa7f874fa5",
   "metadata": {},
   "outputs": [
    {
     "name": "stdin",
     "output_type": "stream",
     "text": [
      "수취인 성명:  한국외대\n",
      "수취인 주소:  동대문구\n",
      "물건 무게(g):  3000\n"
     ]
    }
   ],
   "source": [
    "name = input('수취인 성명: ')\n",
    "address = input('수취인 주소: ')\n",
    "weight = int(input('물건 무게(g): '))\n",
    "d_price = 3000\n",
    "cost = weight * 5\n",
    "total_cost = cost + d_price"
   ]
  },
  {
   "cell_type": "code",
   "execution_count": 34,
   "id": "2e6182a9-eb7f-40ca-a8b8-b0c6ef4b7d8d",
   "metadata": {},
   "outputs": [
    {
     "name": "stdout",
     "output_type": "stream",
     "text": [
      "수취인 성명: 한국외대\n",
      "수취인 주소: 동대문구 \n",
      "배송비: 3000원 \n",
      "물건비용: 15000원 \n",
      "총 합계: 18000원\n"
     ]
    }
   ],
   "source": [
    "#기존의 하나씩 프린트하던 방식이 아니라 한줄로 작성해봄.\n",
    "#다만 어느쪽이 더 효율적인지는 잘...\n",
    "print(f'수취인 성명: {name}\\n수취인 주소: {address} \\n배송비: {d_price}원 \\n물건비용: {cost}원 \\n총 합계: {total_cost}원')"
   ]
  },
  {
   "cell_type": "markdown",
   "id": "6a709b48-b775-477d-b670-092faeb6ed03",
   "metadata": {},
   "source": [
    "## Ch03. Numbers"
   ]
  },
  {
   "cell_type": "markdown",
   "id": "e70e1f0b-1a93-4588-9fd0-b1a801433b2d",
   "metadata": {},
   "source": [
    "#### boolean\n",
    "- True/False\n",
    "- if문(조건식)에서 자주 사용됨.\n",
    "- 만약 어떤 값이 True면,... 등과 같은 방식으로 사용됨."
   ]
  },
  {
   "cell_type": "code",
   "execution_count": 9,
   "id": "1a55368e-1cfe-4c38-bead-0d92f4a56a1f",
   "metadata": {},
   "outputs": [
    {
     "name": "stdout",
     "output_type": "stream",
     "text": [
      "False\n",
      "False\n",
      "False\n"
     ]
    }
   ],
   "source": [
    "#항상 False가 나오는 값들\n",
    "print(bool(0)) # 0은 항상 False\n",
    "print(bool('')) # 공백(아무것도 없음)도 항상 False\n",
    "print(bool(None)) # None도 아무것도 없음을 의미하기 때문에 항상 False"
   ]
  },
  {
   "cell_type": "markdown",
   "id": "5c444f72-4286-486c-a96b-3c2e5b7d1d76",
   "metadata": {},
   "source": [
    "### integer\n",
    "- 분수나 소수의 형태를 띄는 것이 아닌 정수의 형태를 나타내는 수\n",
    "- 음수로 표기할 때에는 숫자 앞에 (-)부호를 붙인다.\n",
    "- 아무런 부호도 붙이지 않는 default 값은 양수라고 생각하면 된다.\n",
    "- 숫자 앞에는 0을 사용할 수 없다.\n",
    "- 큰 숫자를 표현하기 위해서 숫자 사이에 (,)표시를 추가하면 오류가 발생한다.\n",
    "    - 이를 해결하기 위해서는 숫자 사이에 (,)표시 대신에 (_)표시를 한다.\n",
    "    - 숫자 사이의 (_)표시는 인식하지 않는다."
   ]
  },
  {
   "cell_type": "code",
   "execution_count": 37,
   "id": "b8492244-b998-4179-98ff-dde8c9f96f52",
   "metadata": {},
   "outputs": [
    {
     "ename": "SyntaxError",
     "evalue": "leading zeros in decimal integer literals are not permitted; use an 0o prefix for octal integers (Temp/ipykernel_11840/1293963658.py, line 1)",
     "output_type": "error",
     "traceback": [
      "\u001b[1;36m  File \u001b[1;32m\"C:\\Users\\user\\AppData\\Local\\Temp/ipykernel_11840/1293963658.py\"\u001b[1;36m, line \u001b[1;32m1\u001b[0m\n\u001b[1;33m    a = 0123\u001b[0m\n\u001b[1;37m           ^\u001b[0m\n\u001b[1;31mSyntaxError\u001b[0m\u001b[1;31m:\u001b[0m leading zeros in decimal integer literals are not permitted; use an 0o prefix for octal integers\n"
     ]
    }
   ],
   "source": [
    "a = 0123"
   ]
  },
  {
   "cell_type": "code",
   "execution_count": 38,
   "id": "8fb47dbb-1615-45ed-bc58-0c2321956f1d",
   "metadata": {},
   "outputs": [
    {
     "data": {
      "text/plain": [
       "-50"
      ]
     },
     "execution_count": 38,
     "metadata": {},
     "output_type": "execute_result"
    }
   ],
   "source": [
    "a = -50\n",
    "a"
   ]
  },
  {
   "cell_type": "code",
   "execution_count": 39,
   "id": "98c2f656-5125-4ce2-9cd6-2686fb07caa5",
   "metadata": {},
   "outputs": [
    {
     "data": {
      "text/plain": [
       "77"
      ]
     },
     "execution_count": 39,
     "metadata": {},
     "output_type": "execute_result"
    }
   ],
   "source": [
    "b = 77\n",
    "b"
   ]
  },
  {
   "cell_type": "code",
   "execution_count": 40,
   "id": "1d9a9713-747d-4b42-a29d-365bcc24e8f4",
   "metadata": {},
   "outputs": [
    {
     "data": {
      "text/plain": [
       "27"
      ]
     },
     "execution_count": 40,
     "metadata": {},
     "output_type": "execute_result"
    }
   ],
   "source": [
    "a+b"
   ]
  },
  {
   "cell_type": "markdown",
   "id": "1f5d4fd0-c615-4f77-819c-754de702ca8a",
   "metadata": {},
   "source": [
    "#### 연산자(operator)\n",
    "- +,-,*,/ 등과 같이 숫자를 계산할 때 사용되는 것을 의미\n",
    "- 피연산자(opreand): 여러 숫자들\n",
    "- 수식(expression)"
   ]
  },
  {
   "cell_type": "markdown",
   "id": "6810aa79-332f-48aa-9cc5-6f2419f091fd",
   "metadata": {},
   "source": [
    "##### 연산 종류\n",
    "- 덧셈: x + y\n",
    "- 뺄셈: x - y\n",
    "- 곱셈: x * y\n",
    "- 나눗셈(결과물): x / y\n",
    "- 나눗셈(몫만): x // y\n",
    "- 나눗셈(나머지만): x % y\n",
    "- divmod(x, y): 목과 나머지 동시에 출력"
   ]
  },
  {
   "cell_type": "markdown",
   "id": "5e05adf4-e5fa-401f-b505-588d81be91ec",
   "metadata": {},
   "source": [
    "- 나눗셈의 경우에는 y의 값이 0이 되어서는 안됨\n",
    "- 따라서 이 경우에 대해 항상 유의하는 것이 필요함"
   ]
  },
  {
   "cell_type": "code",
   "execution_count": 42,
   "id": "e7a2b9b9-5dab-4f27-b438-570f889b13e1",
   "metadata": {},
   "outputs": [
    {
     "name": "stdout",
     "output_type": "stream",
     "text": [
      "139124\n",
      "29380\n",
      "4623075744\n",
      "1.5354279049424113\n",
      "1\n",
      "29380\n",
      "(1, 29380)\n"
     ]
    }
   ],
   "source": [
    "#숫자가 아무리 크더라도 계산 가능\n",
    "x = 84252\n",
    "y = 54872\n",
    "print(x + y)\n",
    "print(x - y)\n",
    "print(x * y)\n",
    "print(x / y)\n",
    "print(x // y)\n",
    "print(x % y)\n",
    "print(divmod(x,y))"
   ]
  },
  {
   "cell_type": "code",
   "execution_count": 43,
   "id": "86a601f2-0fd9-40ab-b89a-281bd2dc3bdf",
   "metadata": {},
   "outputs": [
    {
     "ename": "ZeroDivisionError",
     "evalue": "division by zero",
     "output_type": "error",
     "traceback": [
      "\u001b[1;31m---------------------------------------------------------------------------\u001b[0m",
      "\u001b[1;31mZeroDivisionError\u001b[0m                         Traceback (most recent call last)",
      "\u001b[1;32m~\\AppData\\Local\\Temp/ipykernel_11840/2867618848.py\u001b[0m in \u001b[0;36m<module>\u001b[1;34m\u001b[0m\n\u001b[0;32m      1\u001b[0m \u001b[1;31m#division by zero\u001b[0m\u001b[1;33m\u001b[0m\u001b[1;33m\u001b[0m\u001b[0m\n\u001b[0;32m      2\u001b[0m \u001b[0mz\u001b[0m \u001b[1;33m=\u001b[0m \u001b[1;36m0\u001b[0m\u001b[1;33m\u001b[0m\u001b[1;33m\u001b[0m\u001b[0m\n\u001b[1;32m----> 3\u001b[1;33m \u001b[0mprint\u001b[0m\u001b[1;33m(\u001b[0m\u001b[0mx\u001b[0m \u001b[1;33m/\u001b[0m \u001b[0mz\u001b[0m\u001b[1;33m)\u001b[0m\u001b[1;33m\u001b[0m\u001b[1;33m\u001b[0m\u001b[0m\n\u001b[0m",
      "\u001b[1;31mZeroDivisionError\u001b[0m: division by zero"
     ]
    }
   ],
   "source": [
    "#division by zero\n",
    "z = 0\n",
    "print(x / z)"
   ]
  },
  {
   "cell_type": "markdown",
   "id": "0701bb66-b07a-40fe-b098-2aade9488c03",
   "metadata": {},
   "source": [
    "#### 복합 대입 연산자(compound assignment operator)\n",
    "- 수식에 의해 계산된 값을 다시 변수에 할당하는 것"
   ]
  },
  {
   "cell_type": "code",
   "execution_count": 46,
   "id": "1dab443f-ef6c-4844-ae0f-2a0a0faede94",
   "metadata": {},
   "outputs": [
    {
     "data": {
      "text/plain": [
       "84252"
      ]
     },
     "execution_count": 46,
     "metadata": {},
     "output_type": "execute_result"
    }
   ],
   "source": [
    "x = 84252\n",
    "x - 5423 #대입을 해주지 않고 그냥 수식만 적을 경우 수식이 적용되지 않음\n",
    "x"
   ]
  },
  {
   "cell_type": "code",
   "execution_count": 47,
   "id": "a4b9997b-771e-45c3-af2c-4c1c157dac26",
   "metadata": {},
   "outputs": [
    {
     "name": "stdout",
     "output_type": "stream",
     "text": [
      "78829\n"
     ]
    }
   ],
   "source": [
    "x = 84252\n",
    "x = x - 5423\n",
    "print(x)"
   ]
  },
  {
   "cell_type": "markdown",
   "id": "fc730561-0564-4dd1-8ee0-393b13f1103b",
   "metadata": {},
   "source": [
    "##### 복합 대입 연산자의 과정"
   ]
  },
  {
   "cell_type": "code",
   "execution_count": 48,
   "id": "fc917590-6cff-4d74-8b3e-3ddad8cf0e22",
   "metadata": {},
   "outputs": [],
   "source": [
    "#1. (x - <number>를 계산)\n",
    "#2. temp = x - <number>(임시 변수에 값을 저장)\n",
    "#3. x = temp"
   ]
  },
  {
   "cell_type": "markdown",
   "id": "a6e2902b-f6cc-4432-b0b7-2844c2cf7856",
   "metadata": {},
   "source": [
    "###### 꿀팁"
   ]
  },
  {
   "cell_type": "markdown",
   "id": "0b91933e-a424-4103-9643-8b2d23a10939",
   "metadata": {},
   "source": [
    "- x = x + 3은 x += 3으로 표기할 수 있다.\n",
    "- 이 방법은 +, -, *, / 모두에 적용될 수 있다."
   ]
  },
  {
   "cell_type": "code",
   "execution_count": 3,
   "id": "1ee6288b-1542-446c-b48b-1319f571a99c",
   "metadata": {},
   "outputs": [
    {
     "data": {
      "text/plain": [
       "12"
      ]
     },
     "execution_count": 3,
     "metadata": {},
     "output_type": "execute_result"
    }
   ],
   "source": [
    "x = 9\n",
    "x = x + 3\n",
    "x"
   ]
  },
  {
   "cell_type": "code",
   "execution_count": 5,
   "id": "cc156fd5-75a3-4790-a025-d8740fb2c67a",
   "metadata": {},
   "outputs": [
    {
     "data": {
      "text/plain": [
       "18"
      ]
     },
     "execution_count": 5,
     "metadata": {},
     "output_type": "execute_result"
    }
   ],
   "source": [
    "x += 3\n",
    "x"
   ]
  },
  {
   "cell_type": "markdown",
   "id": "58ba4a9f-ddb3-494e-9693-f46887c05ad4",
   "metadata": {},
   "source": [
    "#### 지수 표현\n",
    "- 예: '1.0e-4'\n",
    "- e의 앞부분은 소수, 정수 둘다 가능\n",
    "- 뒷부분은 반드시 정수여야 함\n",
    "- 뒷부분이 음수일 경우 소수점의 자리를 의미\n",
    "- e는 대문자로 사용하는 것이 가능함"
   ]
  },
  {
   "cell_type": "code",
   "execution_count": 6,
   "id": "63a12a19-8216-4826-b7f6-f05348309cf7",
   "metadata": {},
   "outputs": [
    {
     "data": {
      "text/plain": [
       "0.0001"
      ]
     },
     "execution_count": 6,
     "metadata": {},
     "output_type": "execute_result"
    }
   ],
   "source": [
    "1.0e-4"
   ]
  },
  {
   "cell_type": "code",
   "execution_count": 7,
   "id": "4f4ea437-fe11-48ee-81b5-07d084523b90",
   "metadata": {},
   "outputs": [
    {
     "data": {
      "text/plain": [
       "80000000.0"
      ]
     },
     "execution_count": 7,
     "metadata": {},
     "output_type": "execute_result"
    }
   ],
   "source": [
    "0.8e8"
   ]
  },
  {
   "cell_type": "code",
   "execution_count": 8,
   "id": "765ec6de-bb5c-4931-b6c8-b8c63083e81b",
   "metadata": {},
   "outputs": [
    {
     "data": {
      "text/plain": [
       "0.0005018"
      ]
     },
     "execution_count": 8,
     "metadata": {},
     "output_type": "execute_result"
    }
   ],
   "source": [
    "#0.0005018 -> 지수로\n",
    "5018.e-7"
   ]
  },
  {
   "cell_type": "code",
   "execution_count": 9,
   "id": "e33c80b4-0878-4658-8fa1-763a34c837a8",
   "metadata": {},
   "outputs": [
    {
     "data": {
      "text/plain": [
       "0.0005018"
      ]
     },
     "execution_count": 9,
     "metadata": {},
     "output_type": "execute_result"
    }
   ],
   "source": [
    "5.018e-4"
   ]
  },
  {
   "cell_type": "code",
   "execution_count": 10,
   "id": "b0a4b0a8-bbab-458f-b2a0-23570d26ebed",
   "metadata": {},
   "outputs": [
    {
     "data": {
      "text/plain": [
       "0.0005018"
      ]
     },
     "execution_count": 10,
     "metadata": {},
     "output_type": "execute_result"
    }
   ],
   "source": [
    "50.18e-5"
   ]
  },
  {
   "cell_type": "markdown",
   "id": "e34c0ed3-1de5-408a-8c65-256f3a09b2f2",
   "metadata": {},
   "source": [
    "###### 여러가지의 방법으로 표현하는 것이 가능함"
   ]
  },
  {
   "cell_type": "markdown",
   "id": "e5a180b7-3236-44f6-bc6f-53f4f39c0bdb",
   "metadata": {},
   "source": [
    "#### Quiz 2 복습\n",
    "- 반지름을 입력 받아서 원의 둘레를 구하기\n",
    "- 둘레 = pi * 2 * r"
   ]
  },
  {
   "cell_type": "code",
   "execution_count": 11,
   "id": "eff4402d-9d47-4665-bcc1-82dd503d5611",
   "metadata": {},
   "outputs": [
    {
     "name": "stdin",
     "output_type": "stream",
     "text": [
      "원의 반지름 값을 입력하세요:  58.7\n"
     ]
    },
    {
     "name": "stdout",
     "output_type": "stream",
     "text": [
      "368.636\n"
     ]
    }
   ],
   "source": [
    "radius = float(input(\"원의 반지름 값을 입력하세요: \"))\n",
    "pi = 3.14\n",
    "circum = pi * 2 * radius\n",
    "print(circum)"
   ]
  },
  {
   "cell_type": "markdown",
   "id": "a345aba9-0a93-4bcc-9113-41e76db44c22",
   "metadata": {},
   "source": [
    "#### Quiz 3 복습\n",
    "- 숫자를 입력받고 그 숫자가 5의 배수인지 판별"
   ]
  },
  {
   "cell_type": "code",
   "execution_count": 12,
   "id": "32ba0160-f389-45a1-baac-0a463e76325f",
   "metadata": {},
   "outputs": [
    {
     "name": "stdin",
     "output_type": "stream",
     "text": [
      "5의 배수를 입력하세요:  49\n"
     ]
    },
    {
     "data": {
      "text/plain": [
       "False"
      ]
     },
     "execution_count": 12,
     "metadata": {},
     "output_type": "execute_result"
    }
   ],
   "source": [
    "number = int(input(\"5의 배수를 입력하세요: \"))\n",
    "number % 5 == 0 #이것이 True로 반환되면 입력받은 숫자는 5의 배수"
   ]
  },
  {
   "cell_type": "markdown",
   "id": "e76fe850-1e7f-432a-9ce6-bbc8f1c5dfc3",
   "metadata": {},
   "source": [
    "## Ch04. if"
   ]
  },
  {
   "cell_type": "markdown",
   "id": "47b46bf4-0e82-45d6-9ddf-bd7c0aa0d455",
   "metadata": {},
   "source": [
    "#### 코드 짜는 팁\n",
    "\n",
    "- 주석 달기\n",
    "    - '#' 시작 지점부터 라인 끝까지 주석 처리됨. 라인이 바뀌면(Enter) 코드로 인식\n",
    "    - 긴 주석을 달기 위해서는 (\"\"\"     \"\"\")을 사용\n",
    "    - 문자 안에 있는 '#'는 부호로 인식\n",
    "    - 주석을 넣는 목적은 의도를 나타내기 위함, 혹은 오류에 대해 적을 때\n",
    "    - 코드에 대한 설명은 안 하는 것이 좋은 코딩\n",
    "- 라인 유지하기\n",
    "    - 들여쓰기(default 값은 space 4개임 그러나 space를 4번 입력하는 것이 아니라 Tab키를 사용함)\n",
    "    - 논리 구조를 나타내기 위해 굉장히 중요함(if문 등에서 굉장히 중요하게 다루어짐)\n",
    "    - 한 라인에 80자 정도의 내용만 입력(백슬래시로 라인을 끊어주어야함)\n",
    "   "
   ]
  },
  {
   "cell_type": "code",
   "execution_count": 13,
   "id": "e4c1a671-0a9a-45a5-b66f-a3f43e00e5bf",
   "metadata": {},
   "outputs": [
    {
     "name": "stdout",
     "output_type": "stream",
     "text": [
      "주석\n"
     ]
    }
   ],
   "source": [
    "a = '주석' # 주석으로 입력된다.\n",
    "\"\"\"\n",
    "이 안에 어떤 내용이 입력되도 전부 주석으로 처리됨\n",
    "그래서 아무리 내용을 입력해도 출력에는 반영되지 않음\n",
    "설령 작성자가 아무 말이나 쓰더라도 출력에는 영향을 주지 않음\n",
    "\"\"\"\n",
    "print(a)"
   ]
  },
  {
   "cell_type": "code",
   "execution_count": 14,
   "id": "020e9b42-9b73-4ef6-b719-488c4d4a3e8b",
   "metadata": {},
   "outputs": [
    {
     "name": "stdout",
     "output_type": "stream",
     "text": [
      "push the #\n"
     ]
    }
   ],
   "source": [
    "# \" # \" 따옴표 안에 #은 문자로 인식\n",
    "print(\"push the #\")"
   ]
  },
  {
   "cell_type": "markdown",
   "id": "c96255b9-b7ed-4f79-8682-aba01193f292",
   "metadata": {},
   "source": [
    "#### if\n",
    "- if <조건식>:\n",
    "    + <실행할 코드>"
   ]
  },
  {
   "cell_type": "code",
   "execution_count": 1,
   "id": "13dc1e59-79eb-4610-a835-f9bb52614df0",
   "metadata": {},
   "outputs": [
    {
     "name": "stdout",
     "output_type": "stream",
     "text": [
      "인증되었습니다\n"
     ]
    }
   ],
   "source": [
    "password = 112233\n",
    "if password == 112233:\n",
    "    print(\"인증되었습니다\")"
   ]
  },
  {
   "cell_type": "markdown",
   "id": "e458e939-6083-4ee3-a5e4-bd418cd2b922",
   "metadata": {},
   "source": [
    "- if <조건식>:\n",
    "    + <실행할 코드1>\n",
    "- else:\n",
    "    + <실행할 코드2>"
   ]
  },
  {
   "cell_type": "code",
   "execution_count": 2,
   "id": "24c5d8f4-f4ec-4475-aecd-948872fb00c0",
   "metadata": {},
   "outputs": [
    {
     "name": "stdout",
     "output_type": "stream",
     "text": [
      "인증되었습니다\n"
     ]
    }
   ],
   "source": [
    "if password == 112233:\n",
    "    print(\"인증되었습니다\")\n",
    "else:\n",
    "    print(\"인증되지 않았습니다\")"
   ]
  },
  {
   "cell_type": "markdown",
   "id": "9eb80f99-f147-4361-848e-fb20d354d66c",
   "metadata": {},
   "source": [
    "- if <조건식1>:\n",
    "    + <실행할 코드1>\n",
    "- elif <조건식2>:\n",
    "    + <실행할 코드2>\n",
    "- else:\n",
    "    + <실행할 코드3>"
   ]
  },
  {
   "cell_type": "code",
   "execution_count": 3,
   "id": "fc418a31-416c-4a25-9691-3ea00d0b8cc7",
   "metadata": {},
   "outputs": [
    {
     "name": "stdout",
     "output_type": "stream",
     "text": [
      "통과입니다\n"
     ]
    }
   ],
   "source": [
    "score = 80\n",
    "if score == 100:\n",
    "    print(\"만점입니다\")\n",
    "elif 100 > score >= 70:\n",
    "    print(\"통과입니다\")\n",
    "else:\n",
    "    print(\"다음번에 다시 도전해주세요\")    "
   ]
  },
  {
   "cell_type": "markdown",
   "id": "3025d944-6bba-4c99-8e4a-d525f2afe367",
   "metadata": {},
   "source": [
    "- 세 가지의 조건을 사용할 때 if, elif, else를 사용해야함\n",
    "- if를 여러번 사용할 경우 각각을 개별로 취급하게 되어 제대로 작동하지 않을 수 있음"
   ]
  },
  {
   "cell_type": "markdown",
   "id": "3b2013a1-0006-491f-9557-5977f30f761c",
   "metadata": {},
   "source": [
    "#### 비교연산자\n",
    "- x < y\n",
    "- x > y\n",
    "- x >= y\n",
    "- x <= y\n",
    "- x == y(x갑과 y의 값이 같다)\n",
    "- x != y\n",
    "- x is y(값, 메모리주소)\n",
    "- x is not y "
   ]
  },
  {
   "cell_type": "markdown",
   "id": "6a4b33fa-329c-4f72-8b63-acec220b3b0b",
   "metadata": {},
   "source": [
    "#### Quiz 4\n",
    "- 1. password를 입력받고, 지정된 password와 일치하면 통과를 일치하지 않으면 다시 입력하시오를 반환하기\n",
    "- 2. 자판기에서 금액을 입력받고 같은 금액일 경우 음료수를 제공하고, 금액이 초과할 경우 차액만큼 잔돈을 반환하고, 금액이 부족할 경우 추가 요금을 요청하는 코드를 작성"
   ]
  },
  {
   "cell_type": "code",
   "execution_count": 6,
   "id": "b49f4eec-231c-4a51-aa83-9c1caa9f1108",
   "metadata": {},
   "outputs": [
    {
     "name": "stdin",
     "output_type": "stream",
     "text": [
      "password: 112233\n"
     ]
    },
    {
     "name": "stdout",
     "output_type": "stream",
     "text": [
      "인증되었습니다.\n"
     ]
    }
   ],
   "source": [
    "password = int(input(\"password:\"))\n",
    "if password == 112233:\n",
    "    print(\"인증되었습니다.\")\n",
    "else:\n",
    "    print(\"비밀번호를 다시 확인해주세요.\")"
   ]
  },
  {
   "cell_type": "code",
   "execution_count": 7,
   "id": "1bc2580d-ccb8-4f77-aece-a033492ef77d",
   "metadata": {},
   "outputs": [
    {
     "name": "stdin",
     "output_type": "stream",
     "text": [
      "자판기에 돈을 넣어주세요:  1500\n"
     ]
    },
    {
     "name": "stdout",
     "output_type": "stream",
     "text": [
      "음료를 제공하고 남은 잔돈은 200원입니다.\n"
     ]
    }
   ],
   "source": [
    "price = 1300\n",
    "cost = int(input(\"자판기에 돈을 넣어주세요: \"))\n",
    "if cost == price:\n",
    "    print(\"음료를 제공합니다\")\n",
    "elif cost > price:\n",
    "    change = cost - price\n",
    "    print(f\"음료를 제공하고 남은 잔돈은 {change}원입니다.\")\n",
    "else:\n",
    "    print(\"잔액이 부족합니다.\")"
   ]
  },
  {
   "cell_type": "markdown",
   "id": "5a412a01-aa27-4153-8db0-125f968410e4",
   "metadata": {},
   "source": [
    "#### Ch.3 연습문제 "
   ]
  },
  {
   "cell_type": "code",
   "execution_count": 8,
   "id": "a563f562-e2e3-4394-b5b4-3d5c4cea1fb5",
   "metadata": {},
   "outputs": [
    {
     "name": "stdout",
     "output_type": "stream",
     "text": [
      "3600\n",
      "86400\n",
      "24.0\n",
      "24\n"
     ]
    },
    {
     "data": {
      "text/plain": [
       "True"
      ]
     },
     "execution_count": 8,
     "metadata": {},
     "output_type": "execute_result"
    }
   ],
   "source": [
    "seconds_per_hour = 60 * 60\n",
    "print(seconds_per_hour)\n",
    "seconds_per_day = seconds_per_hour * 24\n",
    "print(seconds_per_day)\n",
    "print(seconds_per_day / seconds_per_hour)\n",
    "print(seconds_per_day // seconds_per_hour)\n",
    "seconds_per_day / seconds_per_hour == seconds_per_day // seconds_per_hour"
   ]
  },
  {
   "cell_type": "markdown",
   "id": "9d29ba22-a239-4ae7-b0f2-60e99503b011",
   "metadata": {},
   "source": [
    "#### Ch.4 연습문제"
   ]
  },
  {
   "cell_type": "code",
   "execution_count": 11,
   "id": "5bd3ecce-764e-4d2e-b02c-599bfb797a73",
   "metadata": {},
   "outputs": [
    {
     "name": "stdin",
     "output_type": "stream",
     "text": [
      "1~10의 수 중 하나를 입력하세요:  2\n"
     ]
    },
    {
     "name": "stdout",
     "output_type": "stream",
     "text": [
      "too low\n"
     ]
    }
   ],
   "source": [
    "#1.\n",
    "secret = 7\n",
    "guess = int(input(\"1~10의 수 중 하나를 입력하세요: \" ))\n",
    "if guess > secret:\n",
    "    print(\"too high\")\n",
    "elif guess == secret:\n",
    "    print(\"just right\")\n",
    "else:\n",
    "    print(\"too low\")"
   ]
  },
  {
   "cell_type": "code",
   "execution_count": 25,
   "id": "52933ff6-5f4b-4fd2-8dfe-7eb6b7023d88",
   "metadata": {},
   "outputs": [
    {
     "name": "stdin",
     "output_type": "stream",
     "text": [
      " False\n",
      " False\n"
     ]
    },
    {
     "name": "stdout",
     "output_type": "stream",
     "text": [
      "pumpkin\n"
     ]
    }
   ],
   "source": [
    "#2. \n",
    "#이렇게 푸는 게 아닌 것 같은데 풀기는 했습니다\n",
    "small = input()\n",
    "green = input()\n",
    "if small == 'True' and green == 'True':\n",
    "    print(\"pea\")\n",
    "elif small == 'True' and green == 'False':\n",
    "    print(\"cherry\")\n",
    "elif small =='False' and green == 'True':\n",
    "    print(\"watermelon\")\n",
    "else:\n",
    "    print(\"pumpkin\")"
   ]
  },
  {
   "cell_type": "code",
   "execution_count": null,
   "id": "0c32fe1e-8b5c-4544-bb8d-4d54b80159ff",
   "metadata": {},
   "outputs": [],
   "source": []
  }
 ],
 "metadata": {
  "kernelspec": {
   "display_name": "Python 3 (ipykernel)",
   "language": "python",
   "name": "python3"
  },
  "language_info": {
   "codemirror_mode": {
    "name": "ipython",
    "version": 3
   },
   "file_extension": ".py",
   "mimetype": "text/x-python",
   "name": "python",
   "nbconvert_exporter": "python",
   "pygments_lexer": "ipython3",
   "version": "3.9.7"
  }
 },
 "nbformat": 4,
 "nbformat_minor": 5
}
