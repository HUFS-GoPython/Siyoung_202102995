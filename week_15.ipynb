{
 "cells": [
  {
   "cell_type": "markdown",
   "id": "57060c7c-8cdf-4480-aff2-c4e89862e4c2",
   "metadata": {},
   "source": [
    "###  파일과 디렉터리\n",
    "- 파일: 컴퓨터를 실행할 때 가장 기본이 되는 단위\n",
    "- 디렉터리: 폴더, 파일을 논리적으로 묶어놓은 단위\n",
    "- 파일 = 파일명 + 확장자(.txt, .csv, ...)\n",
    "- 바이너리, 텍스트\n",
    "    - 바이너리: 엑셀, 워드, pickle ...(특정한 프로그램이 없으면 열 수 없음) - 특별한 확장자\n",
    "    - 텍스트: 바이너리 -> 문자로 변환\n",
    "        - 메모장, python, html,...\n",
    "        - 기준: 아스키코드, 유니코드 재정(\"인코딩\")\n",
    "        - uff-8\n",
    "        - cp494\n",
    "- f = open(파일명, 모드)\n",
    "    - r : read (읽는것)\n",
    "    - w : write (없으면 새로 만듥 있으며 덮어쓴다)\n",
    "    - a : add (기존 파일에 마지막에 추가)\n",
    "    - x : write + (없을 때만 쓸 수 있게)\n",
    "    \n",
    "    - b: 바이너리\n",
    "    - t: (default) 텍스트\n",
    "        - rb, rt ....(바이너리 파일을 읽을 거나 쓸 때 사용)"
   ]
  },
  {
   "cell_type": "markdown",
   "id": "9b0e2ce0-e6be-4104-ba59-ba9de518c698",
   "metadata": {},
   "source": [
    "### 읽기"
   ]
  },
  {
   "cell_type": "code",
   "execution_count": 1,
   "id": "82bd03b6-0f46-4969-90cc-808ae6676c47",
   "metadata": {},
   "outputs": [],
   "source": [
    "f = open('../text2.txt', 'r')"
   ]
  },
  {
   "cell_type": "code",
   "execution_count": 2,
   "id": "288dedcc-4910-45b4-abdc-2e9449004393",
   "metadata": {},
   "outputs": [],
   "source": [
    "data = f.read(3)"
   ]
  },
  {
   "cell_type": "code",
   "execution_count": 3,
   "id": "197314e3-4187-4dfc-88c3-5a83dc507c7f",
   "metadata": {},
   "outputs": [
    {
     "data": {
      "text/plain": [
       "'hel'"
      ]
     },
     "execution_count": 3,
     "metadata": {},
     "output_type": "execute_result"
    }
   ],
   "source": [
    "data"
   ]
  },
  {
   "cell_type": "code",
   "execution_count": 5,
   "id": "6975be29-7bd6-4ca7-83a6-e77090910849",
   "metadata": {},
   "outputs": [],
   "source": [
    "f.close() # 자원 해제 -> 다른 프로그램에서 동시에 호출하면 에러남-> 여는 즉시 닫는 습관이 필요"
   ]
  },
  {
   "cell_type": "code",
   "execution_count": 23,
   "id": "4c02a79a-5e22-43b2-92b3-4daf8f8f244a",
   "metadata": {},
   "outputs": [],
   "source": [
    "# .: 현재 위치\n",
    "# ..: 상위 디렉터리"
   ]
  },
  {
   "cell_type": "code",
   "execution_count": 6,
   "id": "049542ed-eed0-465b-b4c1-3219696048e3",
   "metadata": {},
   "outputs": [
    {
     "data": {
      "text/plain": [
       "'hell'"
      ]
     },
     "execution_count": 6,
     "metadata": {},
     "output_type": "execute_result"
    }
   ],
   "source": [
    "# 자원이 자동해제\n",
    "with open('../text2.txt', 'r') as f:\n",
    "    data = f.read(4)\n",
    "data"
   ]
  },
  {
   "cell_type": "code",
   "execution_count": 7,
   "id": "386c452a-7b47-4452-b572-008514b0145c",
   "metadata": {},
   "outputs": [],
   "source": [
    "# read(): str\n",
    "# readline(): 한줄씩\n",
    "# readlines(): 젠체를 한줄씩 str 담아서 리스트로"
   ]
  },
  {
   "cell_type": "markdown",
   "id": "f4536a48-489d-43d3-9b53-d5b86c88fc0a",
   "metadata": {},
   "source": [
    "- with open('../HarryPotter.txt', 'r') as f: -> 그냥 이대로 작성하면 오류 발생\n",
    "- 그래서 encoding = 'UTF8'를 넣어줘야됨"
   ]
  },
  {
   "cell_type": "code",
   "execution_count": 27,
   "id": "33508cc2-5d84-428e-982f-3138a08c7d40",
   "metadata": {},
   "outputs": [
    {
     "name": "stdout",
     "output_type": "stream",
     "text": [
      "/ \n",
      "\n",
      "\n",
      "\n",
      "\n",
      "THE BOY WHO L\n"
     ]
    }
   ],
   "source": [
    "with open('../HarryPotter.txt', 'r', encoding = 'UTF8') as f:\n",
    "    text1 = f.read(20)\n",
    "    text2 = f.readlines(20)\n",
    "    text3 = f.readline(50)\n",
    "    text4 = [line.strip() for line in text3]\n",
    "    \n",
    "print(text1)"
   ]
  },
  {
   "cell_type": "code",
   "execution_count": 28,
   "id": "4072413b-7b56-466d-964a-f1337d3a9ab8",
   "metadata": {},
   "outputs": [
    {
     "name": "stdout",
     "output_type": "stream",
     "text": [
      "['IVED \\n', '\\n', 'Mr. and Mrs. Dursley, of number four, Privet Drive, \\n']\n"
     ]
    }
   ],
   "source": [
    "print(text2)"
   ]
  },
  {
   "cell_type": "code",
   "execution_count": 29,
   "id": "1aba5842-733c-4cb8-9a7a-3d6496d8fccc",
   "metadata": {},
   "outputs": [
    {
     "name": "stdout",
     "output_type": "stream",
     "text": [
      "were proud to say that they were perfectly normal,\n"
     ]
    }
   ],
   "source": [
    "print(text3)"
   ]
  },
  {
   "cell_type": "markdown",
   "id": "f3ed3aab-0ae3-46e6-a2b4-891e74b9b006",
   "metadata": {},
   "source": [
    "### 쓰기"
   ]
  },
  {
   "cell_type": "code",
   "execution_count": 36,
   "id": "e21bee8f-6cd4-4d69-b000-b2a9df90c7ac",
   "metadata": {},
   "outputs": [],
   "source": [
    "file = 'text.txt'\n",
    "f = open(file, 'w', encoding = 'utf-8')"
   ]
  },
  {
   "cell_type": "code",
   "execution_count": 37,
   "id": "febdfcf9-5012-487c-b8c8-c524fbafda1f",
   "metadata": {},
   "outputs": [],
   "source": [
    "text = 'Thank you!'\n",
    "f.write(text)\n",
    "f.close()"
   ]
  },
  {
   "cell_type": "markdown",
   "id": "dc0b5917-391c-41d8-958a-006ca7196872",
   "metadata": {},
   "source": [
    "### 추가"
   ]
  },
  {
   "cell_type": "code",
   "execution_count": 40,
   "id": "c42466da-2a1f-4a97-946e-55f8d461fd07",
   "metadata": {},
   "outputs": [],
   "source": [
    "f = open(file, 'a', encoding = 'utf-8')\n",
    "print('-전시영', file = f)"
   ]
  },
  {
   "cell_type": "code",
   "execution_count": 41,
   "id": "c60f3a1a-8d17-414b-bdf4-aa7676d991fa",
   "metadata": {},
   "outputs": [],
   "source": [
    "f.close()"
   ]
  },
  {
   "cell_type": "markdown",
   "id": "993343ac-1feb-4dbf-8df5-c9907ffd9974",
   "metadata": {},
   "source": [
    "### 다른 디렉토리에 파일 쓰기\n",
    "os"
   ]
  },
  {
   "cell_type": "code",
   "execution_count": 42,
   "id": "d36af495-2f7b-43d6-b49c-aa9a8843abb3",
   "metadata": {},
   "outputs": [],
   "source": [
    "import os\n",
    "os.mkdir('folder1')"
   ]
  },
  {
   "cell_type": "code",
   "execution_count": 43,
   "id": "763ae5fe-4c89-4fe1-912b-bc4de74df1b7",
   "metadata": {},
   "outputs": [
    {
     "data": {
      "text/plain": [
       "True"
      ]
     },
     "execution_count": 43,
     "metadata": {},
     "output_type": "execute_result"
    }
   ],
   "source": [
    "os.path.exists(file)"
   ]
  },
  {
   "cell_type": "code",
   "execution_count": 47,
   "id": "04b908b4-df10-4d6b-812c-600614e6fb9b",
   "metadata": {},
   "outputs": [],
   "source": [
    "import shutil\n",
    "shutil.rmtree('folder1')"
   ]
  },
  {
   "cell_type": "code",
   "execution_count": 49,
   "id": "8fc23d43-8ca1-4bb1-a9e3-896964f0c9c3",
   "metadata": {},
   "outputs": [
    {
     "data": {
      "text/plain": [
       "'C:\\\\Users\\\\user\\\\Advanced_python\\\\homework'"
      ]
     },
     "execution_count": 49,
     "metadata": {},
     "output_type": "execute_result"
    }
   ],
   "source": [
    "# 상위 폴더 호출 방법\n",
    "os.getcwd()"
   ]
  },
  {
   "cell_type": "code",
   "execution_count": 50,
   "id": "5fced975-e43c-4283-b4cb-21e97fab6abd",
   "metadata": {},
   "outputs": [],
   "source": [
    "os.chdir('..')"
   ]
  },
  {
   "cell_type": "code",
   "execution_count": 51,
   "id": "710adfa4-97fb-49bb-a6a1-889cc1e8db87",
   "metadata": {},
   "outputs": [
    {
     "data": {
      "text/plain": [
       "'C:\\\\Users\\\\user\\\\Advanced_python'"
      ]
     },
     "execution_count": 51,
     "metadata": {},
     "output_type": "execute_result"
    }
   ],
   "source": [
    "os.getcwd()"
   ]
  },
  {
   "cell_type": "code",
   "execution_count": 52,
   "id": "7b8bc025-b44e-4ac1-9a22-22cb7490c82b",
   "metadata": {},
   "outputs": [],
   "source": [
    "os.mkdir('folder1')"
   ]
  },
  {
   "cell_type": "code",
   "execution_count": 53,
   "id": "04a3eb11-30c9-4be7-824d-fcc3d4e88040",
   "metadata": {},
   "outputs": [],
   "source": [
    "import shutil\n",
    "shutil.rmtree('folder1')"
   ]
  },
  {
   "cell_type": "markdown",
   "id": "a0047f12-f0f5-4cd5-84bf-efb410f7bc67",
   "metadata": {},
   "source": [
    "##### pickle\n",
    "- 바이너리 타입이기 때문에 외부에서 따로 열 수 있는 방법 없음\n",
    "- 객체를 저장 불러들일 수 있다.\n",
    "- 저장: pickle.dump(변수, 파일명)\n",
    "- 열때: 변수명 = pickle.load(파일)"
   ]
  },
  {
   "cell_type": "code",
   "execution_count": 54,
   "id": "2f6714d3-7f07-4145-ac4d-42324e36df84",
   "metadata": {},
   "outputs": [],
   "source": [
    "import pickle"
   ]
  },
  {
   "cell_type": "code",
   "execution_count": 55,
   "id": "5c9bc239-9195-45aa-b7b4-50e02736869e",
   "metadata": {},
   "outputs": [],
   "source": [
    "num = list(range(20))"
   ]
  },
  {
   "cell_type": "code",
   "execution_count": 56,
   "id": "7011f453-ad96-4061-800b-264e34377fc2",
   "metadata": {},
   "outputs": [],
   "source": [
    "f=  open('test.pickle', 'wb')\n",
    "pickle.dump(num, f)\n",
    "f.close()"
   ]
  },
  {
   "cell_type": "code",
   "execution_count": 64,
   "id": "3ae4bb5e-47a3-4812-bf23-c06e35bc0adc",
   "metadata": {},
   "outputs": [
    {
     "ename": "TypeError",
     "evalue": "file must have 'read' and 'readline' attributes",
     "output_type": "error",
     "traceback": [
      "\u001b[1;31m---------------------------------------------------------------------------\u001b[0m",
      "\u001b[1;31mTypeError\u001b[0m                                 Traceback (most recent call last)",
      "\u001b[1;32m~\\AppData\\Local\\Temp/ipykernel_29300/4082030119.py\u001b[0m in \u001b[0;36m<module>\u001b[1;34m\u001b[0m\n\u001b[1;32m----> 1\u001b[1;33m \u001b[0mtext\u001b[0m \u001b[1;33m=\u001b[0m \u001b[0mpickle\u001b[0m\u001b[1;33m.\u001b[0m\u001b[0mload\u001b[0m\u001b[1;33m(\u001b[0m\u001b[1;34m'test.pickle'\u001b[0m\u001b[1;33m)\u001b[0m\u001b[1;33m\u001b[0m\u001b[1;33m\u001b[0m\u001b[0m\n\u001b[0m\u001b[0;32m      2\u001b[0m \u001b[0mf\u001b[0m \u001b[1;33m=\u001b[0m \u001b[0mread\u001b[0m\u001b[1;33m(\u001b[0m\u001b[0mtext\u001b[0m\u001b[1;33m)\u001b[0m\u001b[1;33m\u001b[0m\u001b[1;33m\u001b[0m\u001b[0m\n",
      "\u001b[1;31mTypeError\u001b[0m: file must have 'read' and 'readline' attributes"
     ]
    }
   ],
   "source": [
    "text = pickle.load('test.pickle')\n",
    "f = read(text)"
   ]
  }
 ],
 "metadata": {
  "kernelspec": {
   "display_name": "Python 3 (ipykernel)",
   "language": "python",
   "name": "python3"
  },
  "language_info": {
   "codemirror_mode": {
    "name": "ipython",
    "version": 3
   },
   "file_extension": ".py",
   "mimetype": "text/x-python",
   "name": "python",
   "nbconvert_exporter": "python",
   "pygments_lexer": "ipython3",
   "version": "3.9.7"
  }
 },
 "nbformat": 4,
 "nbformat_minor": 5
}
