{
 "cells": [
  {
   "cell_type": "markdown",
   "id": "23857909-13ea-4cc4-afd7-83ec6b0bd74c",
   "metadata": {},
   "source": [
    "### 함수2"
   ]
  },
  {
   "cell_type": "markdown",
   "id": "92a984a0-a04e-4824-9d9f-1180b8fcfcdc",
   "metadata": {},
   "source": [
    "#### asterisk (stars) *, **\n",
    "- 특별한 경우가 아니면 >>> *args로 사용"
   ]
  },
  {
   "cell_type": "code",
   "execution_count": 126,
   "id": "ff322884-37f5-4552-9c62-756145da2aa3",
   "metadata": {},
   "outputs": [
    {
     "name": "stdout",
     "output_type": "stream",
     "text": [
      "('hello world',)\n"
     ]
    }
   ],
   "source": [
    "def print_arg(*args):\n",
    "    print(args)\n",
    "print_arg('hello world')\n",
    "# 튜플로 출력됨"
   ]
  },
  {
   "cell_type": "code",
   "execution_count": 127,
   "id": "a127487c-d752-4b0e-b0bd-b722eb6dbffe",
   "metadata": {},
   "outputs": [
    {
     "name": "stdout",
     "output_type": "stream",
     "text": [
      "Good morning\n"
     ]
    }
   ],
   "source": [
    "def print_arg(*args):\n",
    "    print(*args)\n",
    "print_arg('Good morning') #unpacking 된 상태로 출력"
   ]
  },
  {
   "cell_type": "code",
   "execution_count": 128,
   "id": "074d211e-3efe-4000-b71c-44f94c8c0a81",
   "metadata": {},
   "outputs": [
    {
     "name": "stdout",
     "output_type": "stream",
     "text": [
      "참깨빵 순살고기패티 상큼한_소스 양상추 치즈 피클 양파\n"
     ]
    }
   ],
   "source": [
    "def print_arg(*args):#1. 튜플로 묶기\n",
    "    #인자를 튜플로 묶어서 활용하는 역할\n",
    "    print(*args) #2. 언패킹(튜플 -> 인자로)\n",
    "    \n",
    "print_arg('참깨빵', '순살고기패티', '상큼한_소스', '양상추', '치즈', '피클', '양파')"
   ]
  },
  {
   "cell_type": "markdown",
   "id": "4b959a3b-a732-4ae7-96ba-ad7a47a57cc0",
   "metadata": {},
   "source": [
    "#### 외부에서 활용하기\n",
    "- 컬렉션 자료형 언패킹 출력시\n",
    "- zip()과 동시에 사용될 경우가 많음\n",
    "- 키워드 전용 인수 선언\n",
    "    - 별 뒤에 오는 매개변수들은 반드시 키워드 인수로 들어오도록 설정하는 역할\n",
    "    - kargs와 혼선을 빚지 않기 위해서"
   ]
  },
  {
   "cell_type": "code",
   "execution_count": 129,
   "id": "9567cac9-c34b-4c55-a7ac-e03755630dc1",
   "metadata": {},
   "outputs": [],
   "source": [
    "list1 = ['참깨빵', '순살고기패티', '상큼한_소스', '양상추', '치즈', '피클', '양파']"
   ]
  },
  {
   "cell_type": "code",
   "execution_count": 130,
   "id": "56e8261d-0efe-4397-85fe-90549a70e086",
   "metadata": {},
   "outputs": [
    {
     "name": "stdout",
     "output_type": "stream",
     "text": [
      "참깨빵 순살고기패티 상큼한_소스 양상추 치즈 피클 양파\n"
     ]
    }
   ],
   "source": [
    "print(*list1)"
   ]
  },
  {
   "cell_type": "code",
   "execution_count": 131,
   "id": "057326f4-aec9-4cf0-bbca-20fc352cd944",
   "metadata": {},
   "outputs": [
    {
     "name": "stdout",
     "output_type": "stream",
     "text": [
      "['참깨빵', '순살고기패티', '상큼한_소스', '양상추', '치즈', '피클', '양파']\n"
     ]
    }
   ],
   "source": [
    "print(list1)"
   ]
  },
  {
   "cell_type": "code",
   "execution_count": 132,
   "id": "0925277f-8dc0-4ffe-93ea-3613bfd56675",
   "metadata": {},
   "outputs": [],
   "source": [
    "# 열씩 출력하는 방법 -> zip()과 args를 동시에 사용\n",
    "a = [\n",
    "    [1,2],\n",
    "    [3,4],\n",
    "    [5,6]\n",
    "]"
   ]
  },
  {
   "cell_type": "code",
   "execution_count": 133,
   "id": "7d69ba45-2f43-48c7-a8c9-48c21ef610e4",
   "metadata": {},
   "outputs": [
    {
     "name": "stdout",
     "output_type": "stream",
     "text": [
      "(1, 3, 5)\n",
      "(2, 4, 6)\n"
     ]
    }
   ],
   "source": [
    "for row in zip(*a):\n",
    "    print(row)"
   ]
  },
  {
   "cell_type": "code",
   "execution_count": 134,
   "id": "1215175d-6326-41b7-9833-794114f2af9d",
   "metadata": {},
   "outputs": [
    {
     "name": "stdout",
     "output_type": "stream",
     "text": [
      "(1, 3, 5) 9\n",
      "(2, 4, 6) 12\n"
     ]
    }
   ],
   "source": [
    "for row in zip(*a):\n",
    "    print(row, sum(row))"
   ]
  },
  {
   "cell_type": "code",
   "execution_count": 135,
   "id": "e6a41406-bb68-43fe-a3de-0cd8c82f3713",
   "metadata": {},
   "outputs": [
    {
     "name": "stdout",
     "output_type": "stream",
     "text": [
      "VIP kim\n",
      "1\n",
      "VIP lee\n",
      "2\n"
     ]
    }
   ],
   "source": [
    "def print_args(name, *args):\n",
    "    print('VIP', name)\n",
    "    print(*args)\n",
    "nums = (1,2,3,4)\n",
    "x = print_args('kim', nums[0])\n",
    "y = print_args('lee', nums[1])"
   ]
  },
  {
   "cell_type": "code",
   "execution_count": 136,
   "id": "ae42c26e-4eca-43f5-875e-1f551c16bf94",
   "metadata": {},
   "outputs": [
    {
     "name": "stdout",
     "output_type": "stream",
     "text": [
      "2\n",
      "3\n"
     ]
    }
   ],
   "source": [
    "def print_arr(data, *, start, end): # start, end -> start = 0, end = 0으로 지정해주어야함\n",
    "    for value in data[start:end]:\n",
    "        print(value)\n",
    "print_arr(nums, start = 1, end = 3) # 슬라이싱으로 생각 -> 0부터 시작한다는 점 인지!"
   ]
  },
  {
   "cell_type": "markdown",
   "id": "a9115952-56c9-4642-89f4-5fbc2fa677a7",
   "metadata": {},
   "source": [
    "#### keyword argument = ** "
   ]
  },
  {
   "cell_type": "code",
   "execution_count": 137,
   "id": "4abac20c-88c4-4ec8-bc2c-d69466724c9c",
   "metadata": {},
   "outputs": [
    {
     "name": "stdout",
     "output_type": "stream",
     "text": [
      "{'items': 'car', 'brand': 'kia'}\n"
     ]
    }
   ],
   "source": [
    "def print_kargs(**kargs): # 변수를 딕셔너리로 묶음 -> args는 튜플로\n",
    "    print(kargs)\n",
    "print_kargs(items = 'car', brand = 'kia')"
   ]
  },
  {
   "cell_type": "code",
   "execution_count": 138,
   "id": "a8f104ca-0fbc-48d2-bdf9-c7b7bdcec91c",
   "metadata": {},
   "outputs": [
    {
     "name": "stdout",
     "output_type": "stream",
     "text": [
      "{'items': 'car', 'brand': 'kia'}\n"
     ]
    }
   ],
   "source": [
    "def print_kargs(**kargs):\n",
    "    print(kargs)\n",
    "    # print(**kargs) <- args와 차이점 = 언패킹이 안됨\n",
    "    # print(kargs['items'], 'is good') # 딕셔너리 형태이기 때문에 찾을 가능한 부분 + 오류 발생시 -> get(key, default)\n",
    "print_kargs(items = 'car', brand = 'kia')"
   ]
  },
  {
   "cell_type": "code",
   "execution_count": 139,
   "id": "bb78095c-0687-4ba1-983e-c2d7c75457bd",
   "metadata": {},
   "outputs": [
    {
     "name": "stdout",
     "output_type": "stream",
     "text": [
      "{'text': 'He', 'grammar': 'none'}\n",
      "{'text': 'is', 'grammar': 'verb'}\n",
      "{'text': 'handsome', 'grammar': 'adjective or none'}\n"
     ]
    }
   ],
   "source": [
    "three_word_text = 'He is handsome'.split()\n",
    "grammar = ['none', 'verb', 'adjective or none']\n",
    "for t, g in zip(three_word_text, grammar):\n",
    "    print_kargs(text = t, grammar = g)"
   ]
  },
  {
   "cell_type": "code",
   "execution_count": 140,
   "id": "a0be6782-106d-4f54-bdf7-078f0125ec6b",
   "metadata": {},
   "outputs": [],
   "source": [
    "def print_both(one, two , *args, **kargs): # 위치인수 > args > kargs 순서로 자리 주의해서!\n",
    "    print(one + two + sum(args))\n",
    "    print(kargs)"
   ]
  },
  {
   "cell_type": "code",
   "execution_count": 141,
   "id": "608e22ef-55b0-4827-a3d6-075233b2d5f1",
   "metadata": {},
   "outputs": [
    {
     "name": "stdout",
     "output_type": "stream",
     "text": [
      "21\n",
      "{'first': 1, 'second': 2}\n"
     ]
    }
   ],
   "source": [
    "print_both(1,2,3,4,5,6, first = 1, second = 2)"
   ]
  },
  {
   "cell_type": "code",
   "execution_count": 142,
   "id": "4bb4e040-8e99-4a78-8037-0493686ed836",
   "metadata": {},
   "outputs": [
    {
     "name": "stdout",
     "output_type": "stream",
     "text": [
      "36\n",
      "{'key': 'good', 'value': 'bad'}\n"
     ]
    }
   ],
   "source": [
    "print_both(1,2,3,4,5,6,7,8, key = 'good', value = 'bad')"
   ]
  },
  {
   "cell_type": "code",
   "execution_count": 143,
   "id": "924094f9-914a-4c93-a404-7e060ebad044",
   "metadata": {
    "tags": []
   },
   "outputs": [],
   "source": [
    "# print_both(1,23,4,5,'good', key = 'good', value = 'bad') <- 인수에 해당하는 값(int)가 아니면 오류 발생"
   ]
  },
  {
   "cell_type": "markdown",
   "id": "7f1cfb2a-f4d1-49b9-90eb-c9ed1c03ac21",
   "metadata": {},
   "source": [
    "#### kargs를 외부에서 >>> 파이썬 3.5이상\n",
    "- 딕셔너리를 결합할 때 사용할 수 있다.\n",
    "- X = {...}, Y = {...} >>> 두개의 딕셔너리를 join할 때 사용"
   ]
  },
  {
   "cell_type": "code",
   "execution_count": 144,
   "id": "0edb64f6-a599-4669-b6d2-f0d985c5dc25",
   "metadata": {},
   "outputs": [],
   "source": [
    "x = {1: 'a', 2: 'b'}\n",
    "y = {2: 'c', 3: 'd'}\n",
    "z = {**x, **y}"
   ]
  },
  {
   "cell_type": "code",
   "execution_count": 145,
   "id": "77121f06-c26a-46d0-ae5f-670da9e9ba63",
   "metadata": {},
   "outputs": [
    {
     "name": "stdout",
     "output_type": "stream",
     "text": [
      "{1: 'a', 2: 'c', 3: 'd'}\n"
     ]
    }
   ],
   "source": [
    "print(z) # 같은 key 값을 가지는 경우 후에 입력된 딕셔너리의 value 값으로 대체"
   ]
  },
  {
   "cell_type": "code",
   "execution_count": 146,
   "id": "ea3fa519-5d43-4e0e-982d-2f081a79c8fe",
   "metadata": {},
   "outputs": [],
   "source": [
    "x = {1: 'a', 2: 'b'}\n",
    "y = {3: 'c', 4: 'd'}"
   ]
  },
  {
   "cell_type": "code",
   "execution_count": 147,
   "id": "2b4cdaff-4e5e-4b30-937d-9b087ab7a404",
   "metadata": {},
   "outputs": [],
   "source": [
    "z = {**x, **y}"
   ]
  },
  {
   "cell_type": "code",
   "execution_count": 148,
   "id": "938caa24-d764-4301-865b-6ace068f12c4",
   "metadata": {},
   "outputs": [
    {
     "name": "stdout",
     "output_type": "stream",
     "text": [
      "{1: 'a', 2: 'b', 3: 'c', 4: 'd'}\n"
     ]
    }
   ],
   "source": [
    "print(z) # 같은 키 값이 없으면 두 딕셔너리를 그냥 join"
   ]
  },
  {
   "cell_type": "markdown",
   "id": "8ede8564-55d2-471f-908a-0e0bb55aadde",
   "metadata": {},
   "source": [
    "### 일급객체\n",
    "- first class object /first class citizen\n",
    "- '함수도 객체다.'\n",
    "- 함수의 인자로 전달가능\n",
    "- 변환값이 될 수 있다.\n",
    "- 수정, 할당될 수 있다."
   ]
  },
  {
   "cell_type": "code",
   "execution_count": 149,
   "id": "f52a831f-a004-45a1-8bca-b9be9b1a2520",
   "metadata": {},
   "outputs": [],
   "source": [
    "def print_start():\n",
    "    print('Let\\'s start!!!!')"
   ]
  },
  {
   "cell_type": "code",
   "execution_count": 150,
   "id": "d41dd5b9-4152-4c3b-9595-b9dbb7e66edf",
   "metadata": {},
   "outputs": [],
   "source": [
    "def run_func(func):\n",
    "    func()"
   ]
  },
  {
   "cell_type": "code",
   "execution_count": 151,
   "id": "f6be7aa2-46f5-4831-b3c2-d0e36fa62e84",
   "metadata": {},
   "outputs": [
    {
     "name": "stdout",
     "output_type": "stream",
     "text": [
      "Let's start!!!!\n"
     ]
    }
   ],
   "source": [
    "run_func(print_start)"
   ]
  },
  {
   "cell_type": "code",
   "execution_count": 152,
   "id": "add91265-cbd8-49e8-b70f-2390d9b6de79",
   "metadata": {},
   "outputs": [],
   "source": [
    "def run_func(func):\n",
    "    return func"
   ]
  },
  {
   "cell_type": "code",
   "execution_count": 153,
   "id": "89ce7d8f-34d8-468b-a6b6-6ce06579cfa1",
   "metadata": {},
   "outputs": [
    {
     "data": {
      "text/plain": [
       "<function __main__.print_start()>"
      ]
     },
     "execution_count": 153,
     "metadata": {},
     "output_type": "execute_result"
    }
   ],
   "source": [
    "run_func(print_start) # print가 아니라 return을 사용할 경우 그냥 함수를 입력하면 함수를 출력"
   ]
  },
  {
   "cell_type": "code",
   "execution_count": 154,
   "id": "c20c0305-7cc1-4f19-afa2-5ed5f75362b4",
   "metadata": {},
   "outputs": [
    {
     "name": "stdout",
     "output_type": "stream",
     "text": [
      "Let's start!!!!\n"
     ]
    }
   ],
   "source": [
    "run_func(print_start)() # 괄호를 입력해서 실행시켜주어야함"
   ]
  },
  {
   "cell_type": "code",
   "execution_count": 155,
   "id": "fa84ed7c-2617-49af-ae5f-059810d95317",
   "metadata": {},
   "outputs": [
    {
     "data": {
      "text/plain": [
       "15"
      ]
     },
     "execution_count": 155,
     "metadata": {},
     "output_type": "execute_result"
    }
   ],
   "source": [
    "def sum_args(*args):\n",
    "    return sum(args)\n",
    "def run_with_positional_args(func, *args): # 함수가 매개변수가 되서 또다른 함수 안에서 작동\n",
    "    return func(*args)\n",
    "\n",
    "run_with_positional_args(sum_args, 1,2,3,4,5)"
   ]
  },
  {
   "cell_type": "code",
   "execution_count": 156,
   "id": "000a8876-97d1-4b7a-a38d-540780cb8730",
   "metadata": {
    "collapsed": true,
    "jupyter": {
     "outputs_hidden": true
    },
    "tags": []
   },
   "outputs": [
    {
     "ename": "TypeError",
     "evalue": "unsupported operand type(s) for +: 'int' and 'list'",
     "output_type": "error",
     "traceback": [
      "\u001b[1;31m---------------------------------------------------------------------------\u001b[0m",
      "\u001b[1;31mTypeError\u001b[0m                                 Traceback (most recent call last)",
      "\u001b[1;32m~\\AppData\\Local\\Temp/ipykernel_28364/4213271634.py\u001b[0m in \u001b[0;36m<module>\u001b[1;34m\u001b[0m\n\u001b[1;32m----> 1\u001b[1;33m \u001b[0mrun_with_positional_args\u001b[0m\u001b[1;33m(\u001b[0m\u001b[0msum_args\u001b[0m\u001b[1;33m,\u001b[0m \u001b[1;33m[\u001b[0m\u001b[1;36m1\u001b[0m\u001b[1;33m,\u001b[0m\u001b[1;36m2\u001b[0m\u001b[1;33m,\u001b[0m\u001b[1;36m3\u001b[0m\u001b[1;33m,\u001b[0m\u001b[1;36m4\u001b[0m\u001b[1;33m,\u001b[0m\u001b[1;36m5\u001b[0m\u001b[1;33m]\u001b[0m\u001b[1;33m)\u001b[0m \u001b[1;31m# 리스트 형태는 오류 발생?\u001b[0m\u001b[1;33m\u001b[0m\u001b[1;33m\u001b[0m\u001b[0m\n\u001b[0m",
      "\u001b[1;32m~\\AppData\\Local\\Temp/ipykernel_28364/2510939139.py\u001b[0m in \u001b[0;36mrun_with_positional_args\u001b[1;34m(func, *args)\u001b[0m\n\u001b[0;32m      2\u001b[0m     \u001b[1;32mreturn\u001b[0m \u001b[0msum\u001b[0m\u001b[1;33m(\u001b[0m\u001b[0margs\u001b[0m\u001b[1;33m)\u001b[0m\u001b[1;33m\u001b[0m\u001b[1;33m\u001b[0m\u001b[0m\n\u001b[0;32m      3\u001b[0m \u001b[1;32mdef\u001b[0m \u001b[0mrun_with_positional_args\u001b[0m\u001b[1;33m(\u001b[0m\u001b[0mfunc\u001b[0m\u001b[1;33m,\u001b[0m \u001b[1;33m*\u001b[0m\u001b[0margs\u001b[0m\u001b[1;33m)\u001b[0m\u001b[1;33m:\u001b[0m \u001b[1;31m# 함수가 매개변수가 되서 또다른 함수 안에서 작동\u001b[0m\u001b[1;33m\u001b[0m\u001b[1;33m\u001b[0m\u001b[0m\n\u001b[1;32m----> 4\u001b[1;33m     \u001b[1;32mreturn\u001b[0m \u001b[0mfunc\u001b[0m\u001b[1;33m(\u001b[0m\u001b[1;33m*\u001b[0m\u001b[0margs\u001b[0m\u001b[1;33m)\u001b[0m\u001b[1;33m\u001b[0m\u001b[1;33m\u001b[0m\u001b[0m\n\u001b[0m\u001b[0;32m      5\u001b[0m \u001b[1;33m\u001b[0m\u001b[0m\n\u001b[0;32m      6\u001b[0m \u001b[0mrun_with_positional_args\u001b[0m\u001b[1;33m(\u001b[0m\u001b[0msum_args\u001b[0m\u001b[1;33m,\u001b[0m \u001b[1;36m1\u001b[0m\u001b[1;33m,\u001b[0m\u001b[1;36m2\u001b[0m\u001b[1;33m,\u001b[0m\u001b[1;36m3\u001b[0m\u001b[1;33m,\u001b[0m\u001b[1;36m4\u001b[0m\u001b[1;33m,\u001b[0m\u001b[1;36m5\u001b[0m\u001b[1;33m)\u001b[0m\u001b[1;33m\u001b[0m\u001b[1;33m\u001b[0m\u001b[0m\n",
      "\u001b[1;32m~\\AppData\\Local\\Temp/ipykernel_28364/2510939139.py\u001b[0m in \u001b[0;36msum_args\u001b[1;34m(*args)\u001b[0m\n\u001b[0;32m      1\u001b[0m \u001b[1;32mdef\u001b[0m \u001b[0msum_args\u001b[0m\u001b[1;33m(\u001b[0m\u001b[1;33m*\u001b[0m\u001b[0margs\u001b[0m\u001b[1;33m)\u001b[0m\u001b[1;33m:\u001b[0m\u001b[1;33m\u001b[0m\u001b[1;33m\u001b[0m\u001b[0m\n\u001b[1;32m----> 2\u001b[1;33m     \u001b[1;32mreturn\u001b[0m \u001b[0msum\u001b[0m\u001b[1;33m(\u001b[0m\u001b[0margs\u001b[0m\u001b[1;33m)\u001b[0m\u001b[1;33m\u001b[0m\u001b[1;33m\u001b[0m\u001b[0m\n\u001b[0m\u001b[0;32m      3\u001b[0m \u001b[1;32mdef\u001b[0m \u001b[0mrun_with_positional_args\u001b[0m\u001b[1;33m(\u001b[0m\u001b[0mfunc\u001b[0m\u001b[1;33m,\u001b[0m \u001b[1;33m*\u001b[0m\u001b[0margs\u001b[0m\u001b[1;33m)\u001b[0m\u001b[1;33m:\u001b[0m \u001b[1;31m# 함수가 매개변수가 되서 또다른 함수 안에서 작동\u001b[0m\u001b[1;33m\u001b[0m\u001b[1;33m\u001b[0m\u001b[0m\n\u001b[0;32m      4\u001b[0m     \u001b[1;32mreturn\u001b[0m \u001b[0mfunc\u001b[0m\u001b[1;33m(\u001b[0m\u001b[1;33m*\u001b[0m\u001b[0margs\u001b[0m\u001b[1;33m)\u001b[0m\u001b[1;33m\u001b[0m\u001b[1;33m\u001b[0m\u001b[0m\n\u001b[0;32m      5\u001b[0m \u001b[1;33m\u001b[0m\u001b[0m\n",
      "\u001b[1;31mTypeError\u001b[0m: unsupported operand type(s) for +: 'int' and 'list'"
     ]
    }
   ],
   "source": [
    "run_with_positional_args(sum_args, [1,2,3,4,5]) # 리스트 형태는 오류 발생?"
   ]
  },
  {
   "cell_type": "code",
   "execution_count": 157,
   "id": "1d4c1466-e535-47d6-aa09-d790e2a00878",
   "metadata": {},
   "outputs": [],
   "source": [
    "def func1():\n",
    "    return 40"
   ]
  },
  {
   "cell_type": "code",
   "execution_count": 158,
   "id": "37aa262f-3651-42e3-98cf-35c9309ec652",
   "metadata": {},
   "outputs": [],
   "source": [
    "def func2():\n",
    "    return 40"
   ]
  },
  {
   "cell_type": "code",
   "execution_count": 159,
   "id": "9f3b06fa-75ce-4b47-91a8-31bff6931d37",
   "metadata": {},
   "outputs": [],
   "source": [
    "def func3(func1, func2):\n",
    "    return func1 + func2"
   ]
  },
  {
   "cell_type": "code",
   "execution_count": 160,
   "id": "f17eb33d-5188-4f38-8414-ea99da1a65e0",
   "metadata": {},
   "outputs": [
    {
     "data": {
      "text/plain": [
       "80"
      ]
     },
     "execution_count": 160,
     "metadata": {},
     "output_type": "execute_result"
    }
   ],
   "source": [
    "func3(func1(), func2())"
   ]
  },
  {
   "cell_type": "code",
   "execution_count": 161,
   "id": "3abdde50-02fa-4e98-bd5d-82b542cd8a34",
   "metadata": {},
   "outputs": [],
   "source": [
    "def func1(a):\n",
    "    return a"
   ]
  },
  {
   "cell_type": "code",
   "execution_count": 162,
   "id": "299cf9c2-1340-41cc-9415-c21bcb9ef400",
   "metadata": {},
   "outputs": [],
   "source": [
    "def func2(b):\n",
    "    return b"
   ]
  },
  {
   "cell_type": "code",
   "execution_count": 163,
   "id": "1de27a74-962a-49eb-86b9-cb1b3507d60c",
   "metadata": {},
   "outputs": [],
   "source": [
    "def func3(func1, func2):\n",
    "    return func1 ** func2"
   ]
  },
  {
   "cell_type": "code",
   "execution_count": 164,
   "id": "2a6d6edb-226c-4828-a4b1-70b5aad1086f",
   "metadata": {},
   "outputs": [
    {
     "data": {
      "text/plain": [
       "100"
      ]
     },
     "execution_count": 164,
     "metadata": {},
     "output_type": "execute_result"
    }
   ],
   "source": [
    "func3(func1(10), func2(2))"
   ]
  },
  {
   "cell_type": "code",
   "execution_count": 165,
   "id": "28117501-d3b2-4761-984b-ee0fd52cde7e",
   "metadata": {},
   "outputs": [],
   "source": [
    "# 가변인자 일 경우(리스트) => 초기화 하지 않을 경우 변수 내용이 변할 수 있음"
   ]
  },
  {
   "cell_type": "code",
   "execution_count": 166,
   "id": "164292d3-96ea-49d0-9a78-0e86de212f54",
   "metadata": {},
   "outputs": [
    {
     "name": "stdout",
     "output_type": "stream",
     "text": [
      "[1, 2, 3]\n"
     ]
    }
   ],
   "source": [
    "def func(num_list):\n",
    "    result = sum(num_list)\n",
    "    num_list.append(result)\n",
    "\n",
    "a = [1,2]\n",
    "func(a)\n",
    "print(a)"
   ]
  },
  {
   "cell_type": "code",
   "execution_count": 167,
   "id": "5d58dc09-2743-437a-b347-63b9ad61153d",
   "metadata": {},
   "outputs": [
    {
     "name": "stdout",
     "output_type": "stream",
     "text": [
      "[1, 2, 3, 6]\n"
     ]
    }
   ],
   "source": [
    "func(a)\n",
    "print(a)"
   ]
  },
  {
   "cell_type": "code",
   "execution_count": 168,
   "id": "524d0636-c8bf-4d45-b61f-c26fd7d1a3e9",
   "metadata": {},
   "outputs": [
    {
     "name": "stdout",
     "output_type": "stream",
     "text": [
      "[1, 2, 3, 6, 12]\n"
     ]
    }
   ],
   "source": [
    "func(a)\n",
    "print(a)"
   ]
  },
  {
   "cell_type": "code",
   "execution_count": 169,
   "id": "36d5fb2b-4a79-4654-91a8-f984c8d3a000",
   "metadata": {},
   "outputs": [
    {
     "name": "stdout",
     "output_type": "stream",
     "text": [
      "[1, 2, 3, 6, 12, 24]\n"
     ]
    }
   ],
   "source": [
    "func(a)\n",
    "print(a) # 계속해서 하다보면 리스트 값이 계속 변화함"
   ]
  },
  {
   "cell_type": "markdown",
   "id": "89c2f230-5254-46a2-be73-757bb3e58ed8",
   "metadata": {},
   "source": [
    "### 익명함수( 람다)\n",
    "- lambda\n",
    "- 함수인데 이름이 없음 (def, return -> X)\n",
    "- 단순함 함수를 사용할 때 사용\n",
    "- 직관적이지 않고 재활용 낮다.\n",
    "- lamda x, y : <x를 요리할 코드>"
   ]
  },
  {
   "cell_type": "code",
   "execution_count": 170,
   "id": "da36080b-979b-4f7d-81ca-fb8352bb7d2a",
   "metadata": {},
   "outputs": [
    {
     "data": {
      "text/plain": [
       "15340"
      ]
     },
     "execution_count": 170,
     "metadata": {},
     "output_type": "execute_result"
    }
   ],
   "source": [
    "(lambda x, y : x + y)(100+5000, 10240)"
   ]
  },
  {
   "cell_type": "code",
   "execution_count": 171,
   "id": "a48b0693-44ac-4186-8c30-9b7ab2c0d830",
   "metadata": {},
   "outputs": [
    {
     "name": "stdin",
     "output_type": "stream",
     "text": [
      " brand\n",
      " new\n"
     ]
    }
   ],
   "source": [
    "mix_word = (lambda x, y : x + y)(input(), input())"
   ]
  },
  {
   "cell_type": "code",
   "execution_count": 172,
   "id": "c4a7e2ea-fc61-4c51-86f1-84900a9ce653",
   "metadata": {},
   "outputs": [
    {
     "name": "stdout",
     "output_type": "stream",
     "text": [
      "brandnew\n"
     ]
    }
   ],
   "source": [
    "print(mix_word)"
   ]
  },
  {
   "cell_type": "code",
   "execution_count": 173,
   "id": "7bc107cd-bf5e-445c-90ab-02018f3f9f29",
   "metadata": {},
   "outputs": [
    {
     "data": {
      "text/plain": [
       "'brandnew'"
      ]
     },
     "execution_count": 173,
     "metadata": {},
     "output_type": "execute_result"
    }
   ],
   "source": [
    "mix_word"
   ]
  },
  {
   "cell_type": "code",
   "execution_count": 174,
   "id": "df860b73-e0a0-458c-8036-d68de574bdad",
   "metadata": {},
   "outputs": [
    {
     "data": {
      "text/plain": [
       "'Abc!'"
      ]
     },
     "execution_count": 174,
     "metadata": {},
     "output_type": "execute_result"
    }
   ],
   "source": [
    "(lambda x: x.title() + '!')('abc')"
   ]
  }
 ],
 "metadata": {
  "kernelspec": {
   "display_name": "Python 3 (ipykernel)",
   "language": "python",
   "name": "python3"
  },
  "language_info": {
   "codemirror_mode": {
    "name": "ipython",
    "version": 3
   },
   "file_extension": ".py",
   "mimetype": "text/x-python",
   "name": "python",
   "nbconvert_exporter": "python",
   "pygments_lexer": "ipython3",
   "version": "3.9.7"
  }
 },
 "nbformat": 4,
 "nbformat_minor": 5
}
