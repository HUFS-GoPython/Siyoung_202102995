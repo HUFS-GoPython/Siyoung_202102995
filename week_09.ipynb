{
 "cells": [
  {
   "cell_type": "markdown",
   "id": "8eaa116d-1bd8-412c-8f0b-724b6efacdea",
   "metadata": {},
   "source": [
    "## Dictionary\n",
    "- 영어사전과 같은 성격 -> 단어 : 뜻으로 구성\n",
    "- 키: 값\n",
    "    - 키값은 고유해야 한다.\n",
    "        - 동일할 수 있는 값은 키값으로 지정하지 않는 것이 좋음.\n",
    "- 순서가 없음 => 오프셋 없음\n",
    "- 가변 객체(수정, 추가, 삭제 가능)\n",
    "- 타입: dict, dict()로 변경가능\n",
    "- 생성: {k1:v1, k2:v2, k3:v3...}\n",
    "- value에는 리스트, 튜플, 딕셔너리도 들어갈 수 있음."
   ]
  },
  {
   "cell_type": "code",
   "execution_count": 2,
   "id": "7318820e-b6e2-451d-9250-9c32988a7630",
   "metadata": {},
   "outputs": [
    {
     "data": {
      "text/plain": [
       "set()"
      ]
     },
     "execution_count": 2,
     "metadata": {},
     "output_type": "execute_result"
    }
   ],
   "source": [
    "a = [1, 2, 3]\n",
    "set(a)\n",
    "a = {}\n",
    "a = set()\n",
    "a"
   ]
  },
  {
   "cell_type": "code",
   "execution_count": 3,
   "id": "4bac8b63-bae2-42d8-bc5c-d29b31d76041",
   "metadata": {},
   "outputs": [
    {
     "data": {
      "text/plain": [
       "({}, {})"
      ]
     },
     "execution_count": 3,
     "metadata": {},
     "output_type": "execute_result"
    }
   ],
   "source": [
    "empty = dict()\n",
    "empty1 = {}\n",
    "empty, empty1"
   ]
  },
  {
   "cell_type": "code",
   "execution_count": 4,
   "id": "c869d0e0-b360-430b-a868-babf0a5191c2",
   "metadata": {},
   "outputs": [
    {
     "data": {
      "text/plain": [
       "{'chicken': 18000, 'pizza': 22000, 'steak': 30000}"
      ]
     },
     "execution_count": 4,
     "metadata": {},
     "output_type": "execute_result"
    }
   ],
   "source": [
    "menu = {'chicken':18000, 'pizza':22000, 'steak':30000}\n",
    "menu"
   ]
  },
  {
   "cell_type": "markdown",
   "id": "df6644ec-1718-4c5b-9bb1-fd013c624139",
   "metadata": {},
   "source": [
    "# 출석부 딕셔너리를 만들기 - 복습\n",
    "- 이름이나 학과보다는 중복되지 않는 학번을 key값으로 설정하는 것이 good!!\n",
    "- 이름, 학번, 학과\n",
    "- 제임스 202201 경영학과\n",
    "- 줄리엣 202202 아랍어과\n",
    "- 로버트 202203 ELLT과"
   ]
  },
  {
   "cell_type": "code",
   "execution_count": 5,
   "id": "5cd50de7-a41e-4940-a59b-11c407cf6ecc",
   "metadata": {},
   "outputs": [
    {
     "data": {
      "text/plain": [
       "{'제임스': [202201, '경영학과'], '줄리엣': [202202, '아랍어과'], '로버트': [202203, 'ELLT과']}"
      ]
     },
     "execution_count": 5,
     "metadata": {},
     "output_type": "execute_result"
    }
   ],
   "source": [
    "# 실제 수업시간 작성 코드\n",
    "student_dic = {'제임스': [202201, '경영학과'], '줄리엣': [202202, '아랍어과'], '로버트':[202203, 'ELLT과']}\n",
    "student_dic"
   ]
  },
  {
   "cell_type": "code",
   "execution_count": 6,
   "id": "fba12eca-2add-458c-9602-a83f5db0687a",
   "metadata": {},
   "outputs": [
    {
     "data": {
      "text/plain": [
       "{202201: ['제임스, 경영학과'], 202202: ['줄리엣', '아랍어과'], 202203: ['로버트', 'ELLT과']}"
      ]
     },
     "execution_count": 6,
     "metadata": {},
     "output_type": "execute_result"
    }
   ],
   "source": [
    "# 복습 시 수정 코드 - 학번이라는 고유한 번호를 key 값으로\n",
    "student_dic = {202201:['제임스, 경영학과'], 202202:['줄리엣','아랍어과'], 202203:['로버트','ELLT과']}\n",
    "student_dic"
   ]
  },
  {
   "cell_type": "markdown",
   "id": "a35fd618-1fa8-41b5-b65d-56ac7aa2d86c",
   "metadata": {},
   "source": [
    "#### 형변환"
   ]
  },
  {
   "cell_type": "code",
   "execution_count": 7,
   "id": "cfcf8564-e258-47b4-a270-dc726e2fc4b1",
   "metadata": {},
   "outputs": [],
   "source": [
    "#dict\n",
    "student = ('제임스 202201_경영학과'.split(),'줄리엣 202202_아랍어과'.split(), '로버트 202203_ELLT과'.split())"
   ]
  },
  {
   "cell_type": "code",
   "execution_count": 8,
   "id": "4688f409-604b-499a-b2e3-5a622d4c69a2",
   "metadata": {},
   "outputs": [
    {
     "data": {
      "text/plain": [
       "{'제임스': '202201_경영학과', '줄리엣': '202202_아랍어과', '로버트': '202203_ELLT과'}"
      ]
     },
     "execution_count": 8,
     "metadata": {},
     "output_type": "execute_result"
    }
   ],
   "source": [
    "dict(student)"
   ]
  },
  {
   "cell_type": "code",
   "execution_count": 9,
   "id": "9dbf87cb-4ead-4607-a87c-2cc4ae415d27",
   "metadata": {},
   "outputs": [],
   "source": [
    "student = (('제임스', '202201_경영학과'),('줄리엣', '202202_아랍어과'), ('로버트', '202203_ELLT과'))"
   ]
  },
  {
   "cell_type": "code",
   "execution_count": 10,
   "id": "96cf1c25-bed1-4f7a-b5ca-15ae6e63f628",
   "metadata": {},
   "outputs": [
    {
     "data": {
      "text/plain": [
       "{'제임스': '202201_경영학과', '줄리엣': '202202_아랍어과', '로버트': '202203_ELLT과'}"
      ]
     },
     "execution_count": 10,
     "metadata": {},
     "output_type": "execute_result"
    }
   ],
   "source": [
    "dict(student)"
   ]
  },
  {
   "cell_type": "markdown",
   "id": "cf05fdab-0386-46f1-871a-4f3f4a3a9e7d",
   "metadata": {},
   "source": [
    "#### 항목 조회 & 변경\n",
    "- 키로 항목을 찾아 값을 할당한다.\n",
    "- 이미 존재하는 key이면 값을 변경한다.\n",
    "- 키가 없으면 새로 생성한다."
   ]
  },
  {
   "cell_type": "code",
   "execution_count": 11,
   "id": "67e3c4ef-7c9e-4ab7-9087-e9fae1f4e9f9",
   "metadata": {},
   "outputs": [],
   "source": [
    "menu = {'chicken':18000, \n",
    "        'pizza':22000, \n",
    "        'steak':30000, \n",
    "        'pasta':12000, \n",
    "        'Kimchi':1000, \n",
    "        'soju':1500}"
   ]
  },
  {
   "cell_type": "code",
   "execution_count": 12,
   "id": "fe0a31bf-4143-487f-ab04-7427dbe578bc",
   "metadata": {},
   "outputs": [
    {
     "data": {
      "text/plain": [
       "22000"
      ]
     },
     "execution_count": 12,
     "metadata": {},
     "output_type": "execute_result"
    }
   ],
   "source": [
    "# 항목 조회(key를 통해 value를 찾는 방법)\n",
    "menu['pizza']"
   ]
  },
  {
   "cell_type": "code",
   "execution_count": 13,
   "id": "6cf4a368-5342-480e-90de-d642b24588c4",
   "metadata": {},
   "outputs": [],
   "source": [
    "# index 안됨\n",
    "# menu[0]"
   ]
  },
  {
   "cell_type": "code",
   "execution_count": 15,
   "id": "5276df69-412c-4827-a24f-89495a491625",
   "metadata": {},
   "outputs": [
    {
     "data": {
      "text/plain": [
       "{'chicken': 20000,\n",
       " 'pizza': 22000,\n",
       " 'steak': 30000,\n",
       " 'pasta': 12000,\n",
       " 'Kimchi': 1000,\n",
       " 'soju': 1500}"
      ]
     },
     "execution_count": 15,
     "metadata": {},
     "output_type": "execute_result"
    }
   ],
   "source": [
    "# 항목 변경\n",
    "menu['chicken'] = 20000\n",
    "menu"
   ]
  },
  {
   "cell_type": "code",
   "execution_count": 16,
   "id": "d69c03c6-a438-486b-8835-0ecb2c6bb205",
   "metadata": {},
   "outputs": [
    {
     "data": {
      "text/plain": [
       "{'chicken': 20000,\n",
       " 'pizza': 22000,\n",
       " 'steak': 30000,\n",
       " 'pasta': 12000,\n",
       " 'Kimchi': 1000,\n",
       " 'soju': 1500,\n",
       " 'soup': 3000}"
      ]
     },
     "execution_count": 16,
     "metadata": {},
     "output_type": "execute_result"
    }
   ],
   "source": [
    "menu['soup'] = 3000\n",
    "menu"
   ]
  },
  {
   "cell_type": "code",
   "execution_count": 17,
   "id": "e37399ec-e07e-4e2c-8e12-fe8fb805953f",
   "metadata": {},
   "outputs": [],
   "source": [
    "# key 값 조회\n",
    "# 1. in"
   ]
  },
  {
   "cell_type": "code",
   "execution_count": 20,
   "id": "13da9b42-29ee-4f64-b332-1bdeddcd5370",
   "metadata": {},
   "outputs": [
    {
     "data": {
      "text/plain": [
       "True"
      ]
     },
     "execution_count": 20,
     "metadata": {},
     "output_type": "execute_result"
    }
   ],
   "source": [
    "'Kimchi' in menu"
   ]
  },
  {
   "cell_type": "code",
   "execution_count": 21,
   "id": "88887ac9-522c-4684-a3fc-34d83451f66f",
   "metadata": {},
   "outputs": [],
   "source": [
    "# 2. get 함수"
   ]
  },
  {
   "cell_type": "code",
   "execution_count": 22,
   "id": "f904363c-2708-409f-b87b-f0b40b31ad58",
   "metadata": {},
   "outputs": [
    {
     "data": {
      "text/plain": [
       "3000"
      ]
     },
     "execution_count": 22,
     "metadata": {},
     "output_type": "execute_result"
    }
   ],
   "source": [
    "menu.get('soup', 0) # soup가 없으면 0을 반환"
   ]
  },
  {
   "cell_type": "code",
   "execution_count": 23,
   "id": "421e434d-e2b3-4c30-a4d7-15a43400944d",
   "metadata": {},
   "outputs": [
    {
     "data": {
      "text/plain": [
       "0"
      ]
     },
     "execution_count": 23,
     "metadata": {},
     "output_type": "execute_result"
    }
   ],
   "source": [
    "menu.get('beer',0)"
   ]
  },
  {
   "cell_type": "markdown",
   "id": "b679b54a-7bc9-4f01-aecb-b7b5ac41e782",
   "metadata": {},
   "source": [
    "#### keys(), values(), items()\n",
    "- keys: 딕셔너리에서 key들 호출\n",
    "- values: 딕셔너리에서 value들 출력\n",
    "- items: key와 value  동시 순회"
   ]
  },
  {
   "cell_type": "code",
   "execution_count": 25,
   "id": "3ec3a1f9-5c2b-44f7-9ba7-2ce5fd67418f",
   "metadata": {},
   "outputs": [],
   "source": [
    "menu = {'chicken':18000, 'pizza':22000, 'steak':30000, 'pasta':12000, 'Kimchi':1000, 'soju':1500}"
   ]
  },
  {
   "cell_type": "code",
   "execution_count": 26,
   "id": "1de37558-fae4-4848-a456-0c12f9ecd2c5",
   "metadata": {},
   "outputs": [
    {
     "data": {
      "text/plain": [
       "['chicken', 'pizza', 'steak', 'pasta', 'Kimchi', 'soju']"
      ]
     },
     "execution_count": 26,
     "metadata": {},
     "output_type": "execute_result"
    }
   ],
   "source": [
    "menu.keys()\n",
    "list(menu.keys())"
   ]
  },
  {
   "cell_type": "code",
   "execution_count": 27,
   "id": "e65a4f9e-99e8-41d7-9ab1-baa08afb0a96",
   "metadata": {},
   "outputs": [
    {
     "data": {
      "text/plain": [
       "dict_values([18000, 22000, 30000, 12000, 1000, 1500])"
      ]
     },
     "execution_count": 27,
     "metadata": {},
     "output_type": "execute_result"
    }
   ],
   "source": [
    "menu.values()"
   ]
  },
  {
   "cell_type": "code",
   "execution_count": 28,
   "id": "32a52830-927f-4a99-a80d-3bdb28ee1f61",
   "metadata": {},
   "outputs": [
    {
     "data": {
      "text/plain": [
       "[18000, 22000, 30000, 12000, 1000, 1500]"
      ]
     },
     "execution_count": 28,
     "metadata": {},
     "output_type": "execute_result"
    }
   ],
   "source": [
    "list(menu.values())"
   ]
  },
  {
   "cell_type": "code",
   "execution_count": 29,
   "id": "664f02dd-e529-46b9-988c-bb49295a240e",
   "metadata": {},
   "outputs": [
    {
     "data": {
      "text/plain": [
       "dict_items([('chicken', 18000), ('pizza', 22000), ('steak', 30000), ('pasta', 12000), ('Kimchi', 1000), ('soju', 1500)])"
      ]
     },
     "execution_count": 29,
     "metadata": {},
     "output_type": "execute_result"
    }
   ],
   "source": [
    "menu.items()"
   ]
  },
  {
   "cell_type": "code",
   "execution_count": 32,
   "id": "392bcc7c-0b07-48da-8b1e-16fda04d8b02",
   "metadata": {},
   "outputs": [
    {
     "data": {
      "text/plain": [
       "['chicken', 'pizza', 'steak', 'pasta', 'Kimchi', 'soju']"
      ]
     },
     "execution_count": 32,
     "metadata": {},
     "output_type": "execute_result"
    }
   ],
   "source": [
    "[x[0] for x in menu.items()] # key 값"
   ]
  },
  {
   "cell_type": "code",
   "execution_count": 33,
   "id": "aaf381dc-3c6a-4a40-aaf1-4ac58efbf095",
   "metadata": {},
   "outputs": [
    {
     "data": {
      "text/plain": [
       "[18000, 22000, 30000, 12000, 1000, 1500]"
      ]
     },
     "execution_count": 33,
     "metadata": {},
     "output_type": "execute_result"
    }
   ],
   "source": [
    "[x[1] for x in menu.items()] # value 값"
   ]
  },
  {
   "cell_type": "code",
   "execution_count": 34,
   "id": "444e249f-4fff-48a2-acf6-e74617e09cc0",
   "metadata": {},
   "outputs": [],
   "source": [
    "menu_name = ['chicken', 'pizza', 'steak', 'pasta', 'Kimchi', 'soju']\n",
    "menu_price = 18000, 22000, 30000, 12000, 1000, 1500"
   ]
  },
  {
   "cell_type": "code",
   "execution_count": 35,
   "id": "cfe883f9-1618-4b74-a689-f27b5e7753a5",
   "metadata": {},
   "outputs": [
    {
     "name": "stdout",
     "output_type": "stream",
     "text": [
      "{'chicken': 18000, 'pizza': 22000, 'steak': 30000, 'pasta': 12000, 'Kimchi': 1000, 'soju': 1500}\n"
     ]
    }
   ],
   "source": [
    "menu = {}\n",
    "for name,price in zip(menu_name, menu_price):\n",
    "    menu[name]=price\n",
    "print(menu)"
   ]
  },
  {
   "cell_type": "code",
   "execution_count": 18,
   "id": "0b509443-f316-443e-a97c-a8c135ae8578",
   "metadata": {},
   "outputs": [
    {
     "data": {
      "text/plain": [
       "[('chicken', 19000),\n",
       " ('pizza', 23000),\n",
       " ('steak', 31000),\n",
       " ('pasta', 13000),\n",
       " ('Kimchi', 2000),\n",
       " ('soju', 2500)]"
      ]
     },
     "execution_count": 18,
     "metadata": {},
     "output_type": "execute_result"
    }
   ],
   "source": [
    "#물가 상승으로 모든 메뉴 가격 1000원씩 상승 - 리스트컴프리핸션[(메뉴이름, 변경가격)]\n",
    "[(key, value + 1000) for key, value in menu.items()]"
   ]
  },
  {
   "cell_type": "markdown",
   "id": "4c52e0e5-b816-4861-9cdb-19f1b9f8c0f3",
   "metadata": {},
   "source": [
    "#### 값 추가, 삭제, 복제"
   ]
  },
  {
   "cell_type": "code",
   "execution_count": 36,
   "id": "3fd377f2-cf4b-4043-bf67-3c8f3499a869",
   "metadata": {},
   "outputs": [
    {
     "data": {
      "text/plain": [
       "{'chicken': 18000,\n",
       " 'pizza': 22000,\n",
       " 'steak': 30000,\n",
       " 'pasta': 12000,\n",
       " 'Kimchi': 1000,\n",
       " 'soju': 1500}"
      ]
     },
     "execution_count": 36,
     "metadata": {},
     "output_type": "execute_result"
    }
   ],
   "source": [
    "menu"
   ]
  },
  {
   "cell_type": "code",
   "execution_count": 37,
   "id": "a32d20ce-13cc-4151-82a7-ce87cc6d9de2",
   "metadata": {},
   "outputs": [],
   "source": [
    "#1. 단일 항목 추가\n",
    "menu['beer'] = 1200"
   ]
  },
  {
   "cell_type": "code",
   "execution_count": 38,
   "id": "4e8a7e1d-05ef-4e51-9142-96a2a3a6dd82",
   "metadata": {},
   "outputs": [],
   "source": [
    "#2. 여러 항목 동시 추가\n",
    "new_menu = {\n",
    "    'cake':8000,\n",
    "    'coffee':4500,\n",
    "    'tea':4000\n",
    "}"
   ]
  },
  {
   "cell_type": "code",
   "execution_count": 39,
   "id": "4b34d08a-d519-4df6-9844-44f71370287e",
   "metadata": {},
   "outputs": [],
   "source": [
    "menu.update(new_menu)"
   ]
  },
  {
   "cell_type": "code",
   "execution_count": 40,
   "id": "44a36ce7-6cc6-46b7-af8b-9bbb357ff91d",
   "metadata": {},
   "outputs": [
    {
     "data": {
      "text/plain": [
       "{'chicken': 18000,\n",
       " 'pizza': 22000,\n",
       " 'steak': 30000,\n",
       " 'pasta': 12000,\n",
       " 'Kimchi': 1000,\n",
       " 'soju': 1500,\n",
       " 'beer': 1200,\n",
       " 'cake': 8000,\n",
       " 'coffee': 4500,\n",
       " 'tea': 4000}"
      ]
     },
     "execution_count": 40,
     "metadata": {},
     "output_type": "execute_result"
    }
   ],
   "source": [
    "menu"
   ]
  },
  {
   "cell_type": "code",
   "execution_count": 41,
   "id": "ed99e038-ae06-46d9-bc85-dcfd6df6d8fc",
   "metadata": {},
   "outputs": [],
   "source": [
    "# 삭제\n",
    "del menu['tea']"
   ]
  },
  {
   "cell_type": "code",
   "execution_count": 42,
   "id": "b5cbcd50-bcd4-46fe-a446-edfad065ee47",
   "metadata": {},
   "outputs": [
    {
     "data": {
      "text/plain": [
       "{'chicken': 18000,\n",
       " 'pizza': 22000,\n",
       " 'steak': 30000,\n",
       " 'pasta': 12000,\n",
       " 'Kimchi': 1000,\n",
       " 'soju': 1500,\n",
       " 'beer': 1200,\n",
       " 'cake': 8000,\n",
       " 'coffee': 4500}"
      ]
     },
     "execution_count": 42,
     "metadata": {},
     "output_type": "execute_result"
    }
   ],
   "source": [
    "menu"
   ]
  },
  {
   "cell_type": "code",
   "execution_count": 43,
   "id": "f8ab00dc-47e3-482a-b547-e20e7e566751",
   "metadata": {},
   "outputs": [
    {
     "data": {
      "text/plain": [
       "4500"
      ]
     },
     "execution_count": 43,
     "metadata": {},
     "output_type": "execute_result"
    }
   ],
   "source": [
    "menu.pop('coffee') "
   ]
  },
  {
   "cell_type": "code",
   "execution_count": 44,
   "id": "6fa307a2-93a6-4969-980a-b4cf34ccef10",
   "metadata": {},
   "outputs": [
    {
     "data": {
      "text/plain": [
       "False"
      ]
     },
     "execution_count": 44,
     "metadata": {},
     "output_type": "execute_result"
    }
   ],
   "source": [
    "menu.pop('coffee', False)"
   ]
  },
  {
   "cell_type": "code",
   "execution_count": 45,
   "id": "53051127-03eb-4dee-a8ac-ba387e546f9c",
   "metadata": {},
   "outputs": [],
   "source": [
    "menu.clear() # menu = {}"
   ]
  },
  {
   "cell_type": "code",
   "execution_count": 46,
   "id": "84b7507e-35f2-4177-b178-447aad17ccb8",
   "metadata": {},
   "outputs": [
    {
     "data": {
      "text/plain": [
       "{}"
      ]
     },
     "execution_count": 46,
     "metadata": {},
     "output_type": "execute_result"
    }
   ],
   "source": [
    "menu"
   ]
  },
  {
   "cell_type": "code",
   "execution_count": 47,
   "id": "8290a1f3-3508-4369-be75-2a09a7f23aee",
   "metadata": {},
   "outputs": [],
   "source": [
    "# 복사(copy)\n",
    "#1. 할당\n",
    "#2. 얕은 복사\n",
    "#3. 깊은 복사"
   ]
  },
  {
   "cell_type": "code",
   "execution_count": 48,
   "id": "22083d35-95de-441b-bb19-6cb853d361a4",
   "metadata": {},
   "outputs": [
    {
     "data": {
      "text/plain": [
       "({'chicken': 18000,\n",
       "  'pizza': 26000,\n",
       "  'steak': 30000,\n",
       "  'pasta': 12000,\n",
       "  'Kimchi': 1000,\n",
       "  'soju': 1500},\n",
       " {'chicken': 18000,\n",
       "  'pizza': 26000,\n",
       "  'steak': 30000,\n",
       "  'pasta': 12000,\n",
       "  'Kimchi': 1000,\n",
       "  'soju': 1500})"
      ]
     },
     "execution_count": 48,
     "metadata": {},
     "output_type": "execute_result"
    }
   ],
   "source": [
    "# 할당\n",
    "menu = {'chicken':18000, 'pizza':22000, 'steak':30000, 'pasta':12000, 'Kimchi':1000, 'soju':1500}\n",
    "menu2 = menu\n",
    "menu['pizza'] = 26000\n",
    "menu, menu2"
   ]
  },
  {
   "cell_type": "code",
   "execution_count": 49,
   "id": "398bab8a-3b3f-417f-bbcb-892adcf87492",
   "metadata": {},
   "outputs": [
    {
     "data": {
      "text/plain": [
       "({'chicken': 18000,\n",
       "  'pizza': 22000,\n",
       "  'steak': 30000,\n",
       "  'pasta': 12000,\n",
       "  'Kimchi': 1000,\n",
       "  'soju': 1500},\n",
       " {'chicken': 18000,\n",
       "  'pizza': 26000,\n",
       "  'steak': 30000,\n",
       "  'pasta': 12000,\n",
       "  'Kimchi': 1000,\n",
       "  'soju': 1500})"
      ]
     },
     "execution_count": 49,
     "metadata": {},
     "output_type": "execute_result"
    }
   ],
   "source": [
    "# 얕은 복사\n",
    "menu3 = menu.copy()\n",
    "menu['pizza'] = 22000\n",
    "menu, menu3"
   ]
  },
  {
   "cell_type": "code",
   "execution_count": 50,
   "id": "dcf63d24-4f6c-4d1c-912c-24a5623fd45b",
   "metadata": {},
   "outputs": [
    {
     "data": {
      "text/plain": [
       "({'chicken': 18000,\n",
       "  'pizza': 22000,\n",
       "  'steak': 30000,\n",
       "  'pasta': 12000,\n",
       "  'Kimchi': 1000,\n",
       "  'soju': [1200, 1700]},\n",
       " {'chicken': 18000,\n",
       "  'pizza': 22000,\n",
       "  'steak': 30000,\n",
       "  'pasta': 12000,\n",
       "  'Kimchi': 1000,\n",
       "  'soju': [1200, 1500]})"
      ]
     },
     "execution_count": 50,
     "metadata": {},
     "output_type": "execute_result"
    }
   ],
   "source": [
    "# 깊은 복사\n",
    "menu = {'chicken':18000, 'pizza':22000, 'steak':30000, 'pasta':12000, 'Kimchi':1000, 'soju':[1200, 1500]}\n",
    "\n",
    "import copy\n",
    "menu4 = copy.deepcopy(menu)\n",
    "menu['soju'][1] = 1700\n",
    "menu, menu4"
   ]
  },
  {
   "cell_type": "markdown",
   "id": "72aa79aa-f28c-4268-a6c3-be1f1b3ded67",
   "metadata": {},
   "source": [
    "###### 값의 비교\n",
    "- ==와 !=는 가능\n",
    "- '>' , '<' 와 같은 비교 연산자는 사용 할 수 없음"
   ]
  },
  {
   "cell_type": "markdown",
   "id": "4bd9a654-1f55-456a-8377-687d4a84b5e9",
   "metadata": {},
   "source": [
    "### ex - 복습\n",
    "- 두 개 리스트를 딕셔너리로 만든다: {한국어:영어}\n",
    "- 명왕성: pluto 추가하기\n",
    "- '성'으로 끝나지 않는 단어 삭제하기\n",
    "    del sdict['태양'] =>하드코딩 안됨\n",
    "- sorted i) kor ii)eng"
   ]
  },
  {
   "cell_type": "code",
   "execution_count": 53,
   "id": "e6603be5-9759-4987-a99b-1882bb8a5fba",
   "metadata": {},
   "outputs": [
    {
     "name": "stdout",
     "output_type": "stream",
     "text": [
      "{'수성': 'mercury', '금성': 'venus', '화성': 'mars', '목성': 'jupiter', '토성': 'saturn', '천왕성': 'uranus', '해왕성': 'neptune', '명왕성': 'pluto'}\n"
     ]
    },
    {
     "data": {
      "text/plain": [
       "[('금성', 'venus'),\n",
       " ('명왕성', 'pluto'),\n",
       " ('목성', 'jupiter'),\n",
       " ('수성', 'mercury'),\n",
       " ('천왕성', 'uranus'),\n",
       " ('토성', 'saturn'),\n",
       " ('해왕성', 'neptune'),\n",
       " ('화성', 'mars')]"
      ]
     },
     "execution_count": 53,
     "metadata": {},
     "output_type": "execute_result"
    }
   ],
   "source": [
    "solar_kor = '태양 수성 금성 지구 화성 목성 토성 천왕성 해왕성'.split()\n",
    "solar_eng = 'sun mercury venus earth mars jupiter saturn uranus neptune'.split()\n",
    "planet = {solar_k: solar_e for solar_k, solar_e in zip(solar_kor, solar_eng)}\n",
    "planet['명왕성'] = 'pluto'\n",
    "new_planet = {}\n",
    "for x, y in planet.items():\n",
    "    if not x.endswith('성'):\n",
    "        continue\n",
    "    else:\n",
    "        new_planet[x] = y\n",
    "print(new_planet)\n",
    "sort_planet = sorted(new_planet.items())\n",
    "sort_planet "
   ]
  },
  {
   "cell_type": "code",
   "execution_count": 64,
   "id": "7cdc5754-9f37-4685-876c-0a81c46c2e56",
   "metadata": {},
   "outputs": [
    {
     "name": "stdout",
     "output_type": "stream",
     "text": [
      "[('금성', 'venus'), ('명왕성', 'pluto'), ('목성', 'jupiter'), ('수성', 'mercury'), ('천왕성', 'uranus'), ('토성', 'saturn'), ('해왕성', 'neptune'), ('화성', 'mars')]\n",
      "[('목성', 'jupiter'), ('화성', 'mars'), ('수성', 'mercury'), ('해왕성', 'neptune'), ('명왕성', 'pluto'), ('토성', 'saturn'), ('천왕성', 'uranus'), ('금성', 'venus')]\n"
     ]
    }
   ],
   "source": [
    "dict_solar = {}\n",
    "for i in range(len(solar_kor)):\n",
    "    dict_solar[solar_kor[i]] = solar_eng[i]\n",
    "dict_solar['명왕성'] = 'pluto'\n",
    "new_planet = {k:v for k,v in dict_solar.items() if k.endswith('성')}\n",
    "sort_planet = sorted(new_planet.items())\n",
    "sort_e_planet = sorted(new_planet.items(), key = lambda x: x[1])\n",
    "print(sort_planet)\n",
    "print(sort_e_planet)"
   ]
  },
  {
   "cell_type": "markdown",
   "id": "0bd46295-38cb-4144-ae5b-f686d0af452a",
   "metadata": {},
   "source": [
    "#### 딕셔너리 컴프리핸션"
   ]
  },
  {
   "cell_type": "code",
   "execution_count": 55,
   "id": "64a973d4-9c26-4a16-a002-55b9e64701e5",
   "metadata": {},
   "outputs": [
    {
     "data": {
      "text/plain": [
       "{'i': 2,\n",
       " 'p': 1,\n",
       " 'h': 1,\n",
       " 'o': 2,\n",
       " 'c': 1,\n",
       " 'm': 1,\n",
       " 'r': 1,\n",
       " 'n': 2,\n",
       " 't': 1,\n",
       " 'l': 1,\n",
       " 'e': 2,\n",
       " 's': 2}"
      ]
     },
     "execution_count": 55,
     "metadata": {},
     "output_type": "execute_result"
    }
   ],
   "source": [
    "letter = 'list comprehension'\n",
    "{ch: letter.count(ch) for ch in set(letter) if ch.isalnum()}"
   ]
  },
  {
   "cell_type": "code",
   "execution_count": 56,
   "id": "6884cba7-0eec-4396-aa01-a7c14d602a1d",
   "metadata": {},
   "outputs": [],
   "source": [
    "vowels = 'aeiou'\n",
    "word = 'onomatopoeia'"
   ]
  },
  {
   "cell_type": "code",
   "execution_count": 58,
   "id": "67f3c63c-6655-4398-b092-6d065db5f4f9",
   "metadata": {},
   "outputs": [
    {
     "data": {
      "text/plain": [
       "{'i': 1, 'o': 4, 'u': 0, 'a': 2, 'e': 1}"
      ]
     },
     "execution_count": 58,
     "metadata": {},
     "output_type": "execute_result"
    }
   ],
   "source": [
    "#1. vowels 순회\n",
    "{v:word.count(v) for v in set(vowels)}"
   ]
  },
  {
   "cell_type": "code",
   "execution_count": 62,
   "id": "1026a0de-438b-4406-ad5e-393d213f5ec1",
   "metadata": {},
   "outputs": [
    {
     "data": {
      "text/plain": [
       "{'i': 1, 'o': 4, 'a': 2, 'e': 1}"
      ]
     },
     "execution_count": 62,
     "metadata": {},
     "output_type": "execute_result"
    }
   ],
   "source": [
    "#2. word 순회 - u를 추가하는 방법?? -> 해결 불가(조금 더 고민)\n",
    "{ch: word.count(ch) for ch in set(word) if ch in vowels}"
   ]
  },
  {
   "cell_type": "markdown",
   "id": "72e3b5ab-0eae-42c9-b341-49f2176273df",
   "metadata": {},
   "source": [
    "#### set\n",
    "- 딕셔너리에서 키만 모아놓음 => 중복 없음!\n",
    "- 수학의 집합 개념 => 교집합, 합집합, 차집함, ...\n",
    "- 데이터 자루, 순서 없고, 인덱싱 없고"
   ]
  },
  {
   "cell_type": "code",
   "execution_count": 65,
   "id": "d9a20fad-0e7b-4a2c-95cb-5f1fe24121a0",
   "metadata": {},
   "outputs": [
    {
     "data": {
      "text/plain": [
       "(set(), {})"
      ]
     },
     "execution_count": 65,
     "metadata": {},
     "output_type": "execute_result"
    }
   ],
   "source": [
    "empty  = set()\n",
    "empty1  = {}\n",
    "empty, empty1"
   ]
  },
  {
   "cell_type": "code",
   "execution_count": 66,
   "id": "57f0b29e-d8dd-451b-90e2-41f162f72d09",
   "metadata": {},
   "outputs": [
    {
     "data": {
      "text/plain": [
       "set"
      ]
     },
     "execution_count": 66,
     "metadata": {},
     "output_type": "execute_result"
    }
   ],
   "source": [
    "a = {1,2,3}\n",
    "type(a)"
   ]
  },
  {
   "cell_type": "code",
   "execution_count": 70,
   "id": "970c04c7-1532-4061-86a8-2ecb5baffce7",
   "metadata": {},
   "outputs": [
    {
     "data": {
      "text/plain": [
       "{1, 2, 3, 50}"
      ]
     },
     "execution_count": 70,
     "metadata": {},
     "output_type": "execute_result"
    }
   ],
   "source": [
    "# 추가하기\n",
    "a.add(50)\n",
    "a"
   ]
  },
  {
   "cell_type": "code",
   "execution_count": 71,
   "id": "59acbe07-e86a-4b34-acb9-f8366ea17fa4",
   "metadata": {},
   "outputs": [
    {
     "data": {
      "text/plain": [
       "{1, 2, 3}"
      ]
     },
     "execution_count": 71,
     "metadata": {},
     "output_type": "execute_result"
    }
   ],
   "source": [
    "# 삭제하기\n",
    "a.remove(50)\n",
    "a"
   ]
  },
  {
   "cell_type": "code",
   "execution_count": 72,
   "id": "d024fc76-e0d7-485f-8196-eb215d5ae10e",
   "metadata": {},
   "outputs": [],
   "source": [
    "a.discard(3)"
   ]
  },
  {
   "cell_type": "code",
   "execution_count": 73,
   "id": "31f0b7d1-1771-42f0-bb22-d491f2d93b9f",
   "metadata": {},
   "outputs": [
    {
     "data": {
      "text/plain": [
       "{1, 2}"
      ]
     },
     "execution_count": 73,
     "metadata": {},
     "output_type": "execute_result"
    }
   ],
   "source": [
    "a"
   ]
  },
  {
   "cell_type": "code",
   "execution_count": 74,
   "id": "92a6104f-037c-42f7-949b-821ac3740eb6",
   "metadata": {},
   "outputs": [],
   "source": [
    "a = {1,2,3}\n",
    "b = {3,4,5}"
   ]
  },
  {
   "cell_type": "code",
   "execution_count": 77,
   "id": "668b5c73-0b9f-47a6-913d-102dcb6054c4",
   "metadata": {},
   "outputs": [
    {
     "data": {
      "text/plain": [
       "{3}"
      ]
     },
     "execution_count": 77,
     "metadata": {},
     "output_type": "execute_result"
    }
   ],
   "source": [
    "# 교집합: intersection\n",
    "a.intersection(b)"
   ]
  },
  {
   "cell_type": "code",
   "execution_count": 78,
   "id": "343ba092-cd0e-46d2-b32d-2d47a65305f9",
   "metadata": {},
   "outputs": [
    {
     "data": {
      "text/plain": [
       "{3}"
      ]
     },
     "execution_count": 78,
     "metadata": {},
     "output_type": "execute_result"
    }
   ],
   "source": [
    "a&b"
   ]
  },
  {
   "cell_type": "code",
   "execution_count": 79,
   "id": "d8c7e64a-ea3d-4f1b-bc74-0b300d30dd67",
   "metadata": {},
   "outputs": [
    {
     "data": {
      "text/plain": [
       "{1, 2, 3, 4, 5}"
      ]
     },
     "execution_count": 79,
     "metadata": {},
     "output_type": "execute_result"
    }
   ],
   "source": [
    "# 합집합: union\n",
    "a.union(b)"
   ]
  },
  {
   "cell_type": "code",
   "execution_count": 81,
   "id": "fb3953d0-bd1d-4c8e-a9d2-73460d775b9c",
   "metadata": {},
   "outputs": [
    {
     "data": {
      "text/plain": [
       "{1, 2, 3, 4, 5}"
      ]
     },
     "execution_count": 81,
     "metadata": {},
     "output_type": "execute_result"
    }
   ],
   "source": [
    "a | b"
   ]
  },
  {
   "cell_type": "code",
   "execution_count": 82,
   "id": "e7dce2b8-8b19-4571-a2c7-42687431cc36",
   "metadata": {},
   "outputs": [
    {
     "data": {
      "text/plain": [
       "{1, 2}"
      ]
     },
     "execution_count": 82,
     "metadata": {},
     "output_type": "execute_result"
    }
   ],
   "source": [
    "# 차집합: difference\n",
    "a.difference(b)"
   ]
  },
  {
   "cell_type": "code",
   "execution_count": 83,
   "id": "d9045da0-6ad2-4c47-9331-0956e35ea4fd",
   "metadata": {},
   "outputs": [
    {
     "data": {
      "text/plain": [
       "{4, 5}"
      ]
     },
     "execution_count": 83,
     "metadata": {},
     "output_type": "execute_result"
    }
   ],
   "source": [
    "b.difference(a)"
   ]
  },
  {
   "cell_type": "code",
   "execution_count": 84,
   "id": "07ff654c-6f90-4653-8259-29572a9521a2",
   "metadata": {},
   "outputs": [
    {
     "data": {
      "text/plain": [
       "{1, 2}"
      ]
     },
     "execution_count": 84,
     "metadata": {},
     "output_type": "execute_result"
    }
   ],
   "source": [
    "a-b"
   ]
  },
  {
   "cell_type": "code",
   "execution_count": 85,
   "id": "137aa301-0f4e-4ce0-a5e8-55c884c1d082",
   "metadata": {},
   "outputs": [
    {
     "data": {
      "text/plain": [
       "{4, 5}"
      ]
     },
     "execution_count": 85,
     "metadata": {},
     "output_type": "execute_result"
    }
   ],
   "source": [
    "b-a"
   ]
  },
  {
   "cell_type": "code",
   "execution_count": 86,
   "id": "47c53628-2f4c-45e2-8f31-e887541f8f5a",
   "metadata": {},
   "outputs": [
    {
     "data": {
      "text/plain": [
       "{1, 2, 4, 5}"
      ]
     },
     "execution_count": 86,
     "metadata": {},
     "output_type": "execute_result"
    }
   ],
   "source": [
    "a-b | b-a"
   ]
  },
  {
   "cell_type": "code",
   "execution_count": 88,
   "id": "e746a66a-95c7-4cd3-954d-e4efcc9e242a",
   "metadata": {},
   "outputs": [
    {
     "data": {
      "text/plain": [
       "set()"
      ]
     },
     "execution_count": 88,
     "metadata": {},
     "output_type": "execute_result"
    }
   ],
   "source": [
    "a-b & b-a # 공집합 일경우에는 빈 set을 반환"
   ]
  },
  {
   "cell_type": "code",
   "execution_count": 90,
   "id": "bfa3ea72-2eef-453b-9693-9dde519bec22",
   "metadata": {},
   "outputs": [
    {
     "data": {
      "text/plain": [
       "frozenset({1, 2, 3})"
      ]
     },
     "execution_count": 90,
     "metadata": {},
     "output_type": "execute_result"
    }
   ],
   "source": [
    "# frozenset -> 불변한 set을 만드는 것.\n",
    "fs = frozenset([1,2,3])\n",
    "fs"
   ]
  }
 ],
 "metadata": {
  "kernelspec": {
   "display_name": "Python 3 (ipykernel)",
   "language": "python",
   "name": "python3"
  },
  "language_info": {
   "codemirror_mode": {
    "name": "ipython",
    "version": 3
   },
   "file_extension": ".py",
   "mimetype": "text/x-python",
   "name": "python",
   "nbconvert_exporter": "python",
   "pygments_lexer": "ipython3",
   "version": "3.9.7"
  }
 },
 "nbformat": 4,
 "nbformat_minor": 5
}
