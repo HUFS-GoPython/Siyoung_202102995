{
 "cells": [
  {
   "cell_type": "markdown",
   "id": "8620efb5-99b7-4f46-8f8b-1db8ff8926aa",
   "metadata": {},
   "source": [
    "### 반복문\n",
    "- for문\n",
    "- while문\n",
    "\n",
    "#### while\n",
    "- 어떤 조건이 만족할 때까지 블록 수행\n",
    "- 해당 조건이 거짓이면 수행을 멈춤\n",
    "    - 언제 빠져나오는지 정확하게 알아야 함\n",
    "- for + if 형태를 띔\n",
    "    - if의 조건이 완성되면 for loop를 종료하는 형태\n",
    "\n",
    "#### for vs while\n",
    "- for loop: 반복 횟수를 정확히 알고, 그 반복 횟수가 변하지 않을 때\n",
    "    - 예: 전체 학생 성적 산출\n",
    "- while loop: 반복 횟수가 정확하지 않고, 어떤 조건(if)을 만족 시킬 때 프로그램을 종료하고 싶다면 사용\n",
    "    - 예: 가위바위보로 이기면 종료\n",
    "- 둘다 종료 시점을 정확히 알고 사용하는 것이 굉장히 중요함"
   ]
  },
  {
   "cell_type": "code",
   "execution_count": 1,
   "id": "35b97e69-5c82-473c-88d2-700a3fa1e44a",
   "metadata": {},
   "outputs": [
    {
     "name": "stdout",
     "output_type": "stream",
     "text": [
      "1\n",
      "2\n",
      "3\n",
      "4\n",
      "5\n",
      "6\n",
      "7\n",
      "8\n",
      "9\n",
      "10\n"
     ]
    }
   ],
   "source": [
    "# for loop -> 1~10까지\n",
    "for i in range(1,11):\n",
    "    print(i)"
   ]
  },
  {
   "cell_type": "code",
   "execution_count": 2,
   "id": "36ad524e-f53b-4c5e-87ee-1be0d2674963",
   "metadata": {},
   "outputs": [
    {
     "name": "stdout",
     "output_type": "stream",
     "text": [
      "1\n",
      "2\n",
      "3\n",
      "4\n",
      "5\n",
      "6\n",
      "7\n",
      "8\n",
      "9\n",
      "10\n"
     ]
    }
   ],
   "source": [
    "# while loop -> 1~10까지\n",
    "count = 0 # 조건을 만들기 위해서 변수를 초기화\n",
    "while count < 10:\n",
    "    count += 1 # loop의 과정\n",
    "    print(count)"
   ]
  },
  {
   "cell_type": "code",
   "execution_count": 3,
   "id": "074ecb97-0bf8-44c3-b02d-cd61fda099e3",
   "metadata": {},
   "outputs": [
    {
     "name": "stdout",
     "output_type": "stream",
     "text": [
      "apple\n",
      "banana\n",
      "peach\n",
      "watermelon\n"
     ]
    }
   ],
   "source": [
    "# for loop -> 리스트 속의 요소를 출력하는 방법\n",
    "fruits = ['apple','banana','peach','watermelon']\n",
    "for i in fruits:\n",
    "    print(i)"
   ]
  },
  {
   "cell_type": "code",
   "execution_count": 4,
   "id": "eccc7c76-2d82-4d89-a896-9ad1d2913209",
   "metadata": {},
   "outputs": [
    {
     "name": "stdout",
     "output_type": "stream",
     "text": [
      "apple\n",
      "banana\n",
      "peach\n",
      "watermelon\n"
     ]
    }
   ],
   "source": [
    "# while loop -> 리스트 속의 요소를 출력하는 방법\n",
    "count = 0\n",
    "while count < len(fruits):\n",
    "    print(fruits[count])\n",
    "    count += 1"
   ]
  },
  {
   "cell_type": "markdown",
   "id": "b2da11b3-dfd4-4349-9a00-d99c576172ff",
   "metadata": {},
   "source": [
    "### 반복문의 제어\n",
    "- 의도치 않게 코드를 종료시킬 수 있기 때문에 사용을 자제해야함\n",
    "- break: 논리적으로 반복을 종료시키는 방법. -> 사용할 때에는 break가 작동되는 시점을 정확히 알아야 함.\n",
    "- else: 어떤 조건이 \"완전히\" 끝났을 때 한번 더 실행하는 블록. break와 끝난 것을 구분할 수 있다.\n",
    "- continue: 특정 조건을 건너 뛰고 다음 조건을 수행함."
   ]
  },
  {
   "cell_type": "code",
   "execution_count": 5,
   "id": "fc1df632-6e50-41d1-829f-846a2a2d2f0e",
   "metadata": {
    "tags": []
   },
   "outputs": [
    {
     "name": "stdout",
     "output_type": "stream",
     "text": [
      "0\n",
      "1\n",
      "2\n",
      "3\n",
      "4\n",
      "5\n",
      "6\n",
      "7\n",
      "8\n",
      "9\n",
      "10\n"
     ]
    }
   ],
   "source": [
    "for i in range(50):\n",
    "    if i > 10:\n",
    "        break\n",
    "    else:\n",
    "        print(i)"
   ]
  },
  {
   "cell_type": "code",
   "execution_count": 6,
   "id": "a4cf32bd-8b0c-449c-b656-3ca19982d558",
   "metadata": {
    "tags": []
   },
   "outputs": [
    {
     "name": "stdout",
     "output_type": "stream",
     "text": [
      "0\n",
      "2\n",
      "4\n",
      "6\n",
      "8\n",
      "10\n",
      "12\n",
      "14\n",
      "16\n",
      "18\n",
      "20\n",
      "22\n",
      "24\n",
      "26\n",
      "28\n",
      "30\n",
      "32\n",
      "34\n",
      "36\n",
      "38\n",
      "40\n",
      "42\n",
      "44\n",
      "46\n",
      "48\n"
     ]
    }
   ],
   "source": [
    "for i in range(50):\n",
    "    if i % 2 == 0:\n",
    "        print(i)\n",
    "    else:\n",
    "        continue"
   ]
  },
  {
   "cell_type": "code",
   "execution_count": 7,
   "id": "59d2b8f0-6912-4c86-a719-34ab3d22c999",
   "metadata": {
    "tags": []
   },
   "outputs": [
    {
     "name": "stdout",
     "output_type": "stream",
     "text": [
      "0\n",
      "1\n",
      "2\n",
      "3\n"
     ]
    }
   ],
   "source": [
    "count = 0\n",
    "while count < 5:\n",
    "    print(count)\n",
    "    if count == 3:break\n",
    "    count += 1"
   ]
  },
  {
   "cell_type": "code",
   "execution_count": 8,
   "id": "3947c41b-9f01-4c73-be93-ef12ef0bc5b0",
   "metadata": {},
   "outputs": [
    {
     "data": {
      "text/plain": [
       "3"
      ]
     },
     "execution_count": 8,
     "metadata": {},
     "output_type": "execute_result"
    }
   ],
   "source": [
    "count"
   ]
  },
  {
   "cell_type": "markdown",
   "id": "e4bc8e96-4e26-4087-8593-f1649a0b2836",
   "metadata": {},
   "source": [
    "### print formatting\n",
    "- 1.f string\n",
    "    - f, F 둘다 사용가능\n",
    "    - f'{변수}'\n",
    "- 2.format\n",
    "    - '{ }'. format(변수)\n",
    "- 3.%\n",
    "    - ' %type ' % 변수\n",
    "    - ' %s(string)' %변수\n",
    "- print('',a,'',b) >> ','로 구분하는 것은 안됨"
   ]
  },
  {
   "cell_type": "code",
   "execution_count": 9,
   "id": "3d5af60e-17e4-489b-b8df-d6a5af631db3",
   "metadata": {},
   "outputs": [
    {
     "name": "stdout",
     "output_type": "stream",
     "text": [
      "나의 이름은 Siyoung!!!\n"
     ]
    }
   ],
   "source": [
    "name = 'Siyoung'\n",
    "print(f'나의 이름은 {name}!!!')"
   ]
  },
  {
   "cell_type": "code",
   "execution_count": 10,
   "id": "f1476afe-783d-4152-8c9a-cac6ba209336",
   "metadata": {},
   "outputs": [
    {
     "name": "stdout",
     "output_type": "stream",
     "text": [
      "나의 이름은 Siyoung!!!\n"
     ]
    }
   ],
   "source": [
    "print('나의 이름은 {}!!!'.format(name))"
   ]
  },
  {
   "cell_type": "code",
   "execution_count": 11,
   "id": "0af2ce59-304f-4307-9e84-7e5c631b225a",
   "metadata": {},
   "outputs": [
    {
     "name": "stdout",
     "output_type": "stream",
     "text": [
      "나의 이름은 Siyoung임.\n"
     ]
    }
   ],
   "source": [
    "print('나의 이름은 %s임.' %(name))"
   ]
  },
  {
   "cell_type": "code",
   "execution_count": 12,
   "id": "3e5c0487-ed86-4b3f-a67b-840c87689bfb",
   "metadata": {},
   "outputs": [
    {
     "name": "stdout",
     "output_type": "stream",
     "text": [
      "나의 이름은 name= 'Siyoung'!!!\n"
     ]
    }
   ],
   "source": [
    "# '='을 사용하면 변수명까지 동시에 출력하는 것이 가능\n",
    "print(f'나의 이름은 {name= }!!!')"
   ]
  },
  {
   "cell_type": "code",
   "execution_count": 13,
   "id": "88f044fb-9449-4685-8818-2e2df9ebe064",
   "metadata": {},
   "outputs": [
    {
     "name": "stdout",
     "output_type": "stream",
     "text": [
      "나의 이름은 S!!!\n"
     ]
    }
   ],
   "source": [
    "print('나의 이름은 {:.1s}!!!'.format(name)) # 소수점 출력할 때 사용하는 방법 >> 어디까지만 출력할지"
   ]
  },
  {
   "cell_type": "code",
   "execution_count": 14,
   "id": "ea8ffba1-4827-458f-9612-20080f18c684",
   "metadata": {},
   "outputs": [
    {
     "name": "stdout",
     "output_type": "stream",
     "text": [
      "이 숫자는 17.568!!!\n"
     ]
    }
   ],
   "source": [
    "# 숫자 f 스트링 사용\n",
    "number = 17.568\n",
    "print(f'이 숫자는 {number}!!!')"
   ]
  },
  {
   "cell_type": "code",
   "execution_count": 15,
   "id": "63179fdd-4d43-4dd0-a24e-67ca8a2ff9da",
   "metadata": {},
   "outputs": [
    {
     "name": "stdout",
     "output_type": "stream",
     "text": [
      "이 숫자는 17.568이다.\n"
     ]
    }
   ],
   "source": [
    "print('이 숫자는 {}이다.'.format(number))"
   ]
  },
  {
   "cell_type": "code",
   "execution_count": 16,
   "id": "5c97b313-724a-49f2-9c8e-4cdc4f0341a9",
   "metadata": {},
   "outputs": [
    {
     "name": "stdout",
     "output_type": "stream",
     "text": [
      "이 숫자는 17.6이다.\n"
     ]
    }
   ],
   "source": [
    "# 소수점 조절 할 때는 타입에 맞춰서 s가 아니라 f로 써줘야 한다.\n",
    "# 소수점에서 :.<숫자>f를 사용하면 반올림을 시행\n",
    "print('이 숫자는 {:.1f}이다.'.format(number))"
   ]
  },
  {
   "cell_type": "code",
   "execution_count": 17,
   "id": "61907c9a-7e0b-439d-9d10-4654e58bcced",
   "metadata": {},
   "outputs": [
    {
     "name": "stdout",
     "output_type": "stream",
     "text": [
      "이 숫자는 18이다.\n"
     ]
    }
   ],
   "source": [
    "print('이 숫자는 {:.0f}이다.'.format(number)) # .0을 사용하면 소수 첫째자리를 반올림한다."
   ]
  },
  {
   "cell_type": "code",
   "execution_count": 18,
   "id": "1c281ad0-8336-415c-abff-e78d05c3950f",
   "metadata": {},
   "outputs": [
    {
     "name": "stdout",
     "output_type": "stream",
     "text": [
      "숨겨진 숫자는 17.568000임. \n"
     ]
    }
   ],
   "source": [
    "print('숨겨진 숫자는 %f임. ' %(number))"
   ]
  },
  {
   "cell_type": "code",
   "execution_count": 19,
   "id": "00c0e28d-1d9d-4277-b8d3-61d02b20b0df",
   "metadata": {},
   "outputs": [
    {
     "name": "stdout",
     "output_type": "stream",
     "text": [
      "숨겨진 숫자는 17.568임. \n"
     ]
    }
   ],
   "source": [
    "print('숨겨진 숫자는 %.3f임. ' %(number))"
   ]
  },
  {
   "cell_type": "code",
   "execution_count": 20,
   "id": "c9b5d54e-58c0-485c-86b6-c875019441a3",
   "metadata": {},
   "outputs": [
    {
     "name": "stdout",
     "output_type": "stream",
     "text": [
      "이 숫자는 number = 17.568!!!\n"
     ]
    }
   ],
   "source": [
    "print(f'이 숫자는 {number = }!!!')"
   ]
  },
  {
   "cell_type": "markdown",
   "id": "7174fec9-b457-4700-839b-fcca5ceab423",
   "metadata": {
    "tags": []
   },
   "source": [
    "### 구구단\n",
    "- 1. for, while  선택한 뒤, n단을 입력받아서 n단을 출력한다.\n",
    "- 2. 1~ n단까지 출력한다.\n",
    "- 3. 시작단, 끝단 둘다 입력받을 것\n",
    "- 4. 프로그램으로 만든다."
   ]
  },
  {
   "cell_type": "code",
   "execution_count": 21,
   "id": "dbd84611-7c22-432b-b57f-7778fc67eb60",
   "metadata": {
    "tags": []
   },
   "outputs": [
    {
     "name": "stdin",
     "output_type": "stream",
     "text": [
      " 3\n",
      " 7\n",
      " 4\n"
     ]
    },
    {
     "name": "stdout",
     "output_type": "stream",
     "text": [
      "==7단==\n",
      "7 * 1 = 7\n",
      "7 * 2 = 14\n",
      "7 * 3 = 21\n",
      "7 * 4 = 28\n",
      "7 * 5 = 35\n",
      "7 * 6 = 42\n",
      "7 * 7 = 49\n",
      "7 * 8 = 56\n",
      "7 * 9 = 63\n",
      "==6단==\n",
      "6 * 1 = 6\n",
      "6 * 2 = 12\n",
      "6 * 3 = 18\n",
      "6 * 4 = 24\n",
      "6 * 5 = 30\n",
      "6 * 6 = 36\n",
      "6 * 7 = 42\n",
      "6 * 8 = 48\n",
      "6 * 9 = 54\n",
      "==5단==\n",
      "5 * 1 = 5\n",
      "5 * 2 = 10\n",
      "5 * 3 = 15\n",
      "5 * 4 = 20\n",
      "5 * 5 = 25\n",
      "5 * 6 = 30\n",
      "5 * 7 = 35\n",
      "5 * 8 = 40\n",
      "5 * 9 = 45\n",
      "==4단==\n",
      "4 * 1 = 4\n",
      "4 * 2 = 8\n",
      "4 * 3 = 12\n",
      "4 * 4 = 16\n",
      "4 * 5 = 20\n",
      "4 * 6 = 24\n",
      "4 * 7 = 28\n",
      "4 * 8 = 32\n",
      "4 * 9 = 36\n"
     ]
    }
   ],
   "source": [
    "choice = int(input())\n",
    "while True:\n",
    "    if choice == 1: # 1번 문제\n",
    "        n = int(input())\n",
    "        print(f' =={n}단==')\n",
    "        for i in range(1,10):\n",
    "            end = n * i\n",
    "            print(f'{n} X {i} = {end}')\n",
    "        break\n",
    "    \n",
    "    elif choice == 2: # 2번 문제\n",
    "        n = int(input())\n",
    "        for i in range(1,n+1):\n",
    "            print(f' =={i}단==')\n",
    "            for j in range(1, 10):\n",
    "                end = j * i\n",
    "                print(f'{i} X {j} = {end}')\n",
    "        break\n",
    "    elif choice == 3: # 3번 문제\n",
    "        start_num = int(input())\n",
    "        end_num = int(input())\n",
    "        if start_num > end_num:\n",
    "            for i in range(start_num, end_num-1, -1):\n",
    "                print(f'=={i}단==')\n",
    "                for j in range(1,10):\n",
    "                    end = i * j\n",
    "                    print(f'{i} * {j} = {end}')\n",
    "        else:\n",
    "            for i in range(start_num, end_num+1):\n",
    "                print(f'=={i}단==')\n",
    "                for j in range(1,10):\n",
    "                    end = i * j\n",
    "                    print(f'{i} * {j} = {end}')\n",
    "        break\n",
    "    else:\n",
    "        choice = int(input())"
   ]
  },
  {
   "cell_type": "markdown",
   "id": "ee90bec6-1b43-4e1e-9a2c-35670cbf5d7d",
   "metadata": {
    "tags": []
   },
   "source": [
    "#### Text를 모아서 파일에 담는 법\n",
    "- 1. text1 - 9 => str 'text1'...으로 \n",
    "- 2. 'text1'에 기능을 부여 => getattr(library(라이브러리 네임), string_name) "
   ]
  },
  {
   "cell_type": "code",
   "execution_count": 25,
   "id": "1bac7fd0-1319-4ab1-8b7e-424a9ff187d1",
   "metadata": {},
   "outputs": [],
   "source": [
    "import nltk\n",
    "from nltk.book import *"
   ]
  },
  {
   "cell_type": "code",
   "execution_count": 26,
   "id": "3f8ba0fa-73b1-4b33-bb62-6bad5cb96048",
   "metadata": {},
   "outputs": [
    {
     "data": {
      "text/plain": [
       "<Text: Sense and Sensibility by Jane Austen 1811>"
      ]
     },
     "execution_count": 26,
     "metadata": {},
     "output_type": "execute_result"
    }
   ],
   "source": [
    "text2"
   ]
  },
  {
   "cell_type": "code",
   "execution_count": 27,
   "id": "24a512a7-8171-4619-9157-27f7c9133338",
   "metadata": {},
   "outputs": [
    {
     "data": {
      "text/plain": [
       "<Text: Moby Dick by Herman Melville 1851>"
      ]
     },
     "execution_count": 27,
     "metadata": {},
     "output_type": "execute_result"
    }
   ],
   "source": [
    "texts = [getattr(nltk.book, f'text{i}') for i in range(1,10)]\n",
    "texts[0]"
   ]
  },
  {
   "cell_type": "markdown",
   "id": "c008fc9c-42b5-47b7-a4ef-226e44f533a8",
   "metadata": {},
   "source": [
    "### NlTk corpus\n",
    "- 다양한 종류의 코퍼스가 존재.\n",
    "- 다양한 언어 분석이 가능.\n",
    "    - gutenberg\n",
    "    - brown\n",
    "    - inaugural\n",
    "- 함수\n",
    "    - words(): 단어수 => book에서의 tokens\n",
    "    - sents(): 문장수\n",
    "    - fileids(): gutenberg에서의 file id로 찾는 것\n",
    "    - raw(): 글자수"
   ]
  },
  {
   "cell_type": "code",
   "execution_count": 28,
   "id": "7dbac9da-bffd-488d-9303-ac0d1f70a9e2",
   "metadata": {},
   "outputs": [
    {
     "data": {
      "text/plain": [
       "True"
      ]
     },
     "execution_count": 28,
     "metadata": {},
     "output_type": "execute_result"
    }
   ],
   "source": [
    "import nltk\n",
    "from nltk.corpus import gutenberg\n",
    "nltk.download('gutenberg', quiet = True)"
   ]
  },
  {
   "cell_type": "code",
   "execution_count": 29,
   "id": "b71fffc9-463d-4eea-824a-f87263cd61ac",
   "metadata": {},
   "outputs": [
    {
     "data": {
      "text/plain": [
       "['[', 'Emma', 'by', 'Jane', 'Austen', '1816', ']', ...]"
      ]
     },
     "execution_count": 29,
     "metadata": {},
     "output_type": "execute_result"
    }
   ],
   "source": [
    "gutenberg.words()"
   ]
  },
  {
   "cell_type": "code",
   "execution_count": 30,
   "id": "90fc639f-1e27-4f7b-bbfc-ad26ae1f96da",
   "metadata": {},
   "outputs": [
    {
     "data": {
      "text/plain": [
       "['austen-emma.txt',\n",
       " 'austen-persuasion.txt',\n",
       " 'austen-sense.txt',\n",
       " 'bible-kjv.txt',\n",
       " 'blake-poems.txt',\n",
       " 'bryant-stories.txt',\n",
       " 'burgess-busterbrown.txt',\n",
       " 'carroll-alice.txt',\n",
       " 'chesterton-ball.txt',\n",
       " 'chesterton-brown.txt',\n",
       " 'chesterton-thursday.txt',\n",
       " 'edgeworth-parents.txt',\n",
       " 'melville-moby_dick.txt',\n",
       " 'milton-paradise.txt',\n",
       " 'shakespeare-caesar.txt',\n",
       " 'shakespeare-hamlet.txt',\n",
       " 'shakespeare-macbeth.txt',\n",
       " 'whitman-leaves.txt']"
      ]
     },
     "execution_count": 30,
     "metadata": {},
     "output_type": "execute_result"
    }
   ],
   "source": [
    "gutenberg.fileids()"
   ]
  },
  {
   "cell_type": "code",
   "execution_count": 31,
   "id": "89266539-614e-4f40-9c51-724b21c0ad36",
   "metadata": {},
   "outputs": [
    {
     "name": "stdout",
     "output_type": "stream",
     "text": [
      "austen-emma | 글자수 = 887071, 단어수 = 192427, 문장수 = 7752\n",
      "austen-persuasion | 글자수 = 466292, 단어수 = 98171, 문장수 = 3747\n",
      "austen-sense | 글자수 = 673022, 단어수 = 141576, 문장수 = 4999\n",
      "bible-kjv | 글자수 = 4332554, 단어수 = 1010654, 문장수 = 30103\n",
      "blake-poems | 글자수 = 38153, 단어수 = 8354, 문장수 = 438\n",
      "bryant-stories | 글자수 = 249439, 단어수 = 55563, 문장수 = 2863\n",
      "burgess-busterbrown | 글자수 = 84663, 단어수 = 18963, 문장수 = 1054\n",
      "carroll-alice | 글자수 = 144395, 단어수 = 34110, 문장수 = 1703\n",
      "chesterton-ball | 글자수 = 457450, 단어수 = 96996, 문장수 = 4779\n",
      "chesterton-brown | 글자수 = 406629, 단어수 = 86063, 문장수 = 3806\n",
      "chesterton-thursday | 글자수 = 320525, 단어수 = 69213, 문장수 = 3742\n",
      "edgeworth-parents | 글자수 = 935158, 단어수 = 210663, 문장수 = 10230\n",
      "melville-moby_dick | 글자수 = 1242990, 단어수 = 260819, 문장수 = 10059\n",
      "milton-paradise | 글자수 = 468220, 단어수 = 96825, 문장수 = 1851\n",
      "shakespeare-caesar | 글자수 = 112310, 단어수 = 25833, 문장수 = 2163\n",
      "shakespeare-hamlet | 글자수 = 162881, 단어수 = 37360, 문장수 = 3106\n",
      "shakespeare-macbeth | 글자수 = 100351, 단어수 = 23140, 문장수 = 1907\n",
      "whitman-leaves | 글자수 = 711215, 단어수 = 154883, 문장수 = 4250\n"
     ]
    }
   ],
   "source": [
    "# 각 파일을 돌아가면서 글자수, 단어수, 문장수를 출력합니다.\n",
    "for files in gutenberg.fileids():\n",
    "    cnt1 = len(gutenberg.words(files))\n",
    "    cnt2 = len(gutenberg.sents(files))\n",
    "    cnt3 = len(gutenberg.raw(files))\n",
    "    print(f'{files[:-4]} | 글자수 = {cnt3}, 단어수 = {cnt1}, 문장수 = {cnt2}')"
   ]
  },
  {
   "cell_type": "code",
   "execution_count": 32,
   "id": "c64cbd87-09e2-4892-a73b-648f6700dd39",
   "metadata": {},
   "outputs": [
    {
     "name": "stdout",
     "output_type": "stream",
     "text": [
      "3\n"
     ]
    }
   ],
   "source": [
    "from nltk import FreqDist\n",
    "corpus1 = gutenberg.words(fileids = 'shakespeare-hamlet.txt')\n",
    "fdist = nltk.FreqDist(w.lower() for w in corpus1 if w.isalpha())\n",
    "print(fdist['murder'])"
   ]
  },
  {
   "cell_type": "code",
   "execution_count": 33,
   "id": "6d44c9fc-479c-4ee3-a203-3e4a0cec1130",
   "metadata": {},
   "outputs": [
    {
     "name": "stdout",
     "output_type": "stream",
     "text": [
      "[('the', 993), ('and', 863), ('to', 685), ('of', 610), ('i', 574), ('you', 527), ('a', 511), ('my', 502), ('it', 419), ('in', 400), ('that', 377), ('ham', 337), ('is', 328), ('not', 300), ('his', 285), ('this', 276), ('with', 254), ('your', 253), ('but', 249), ('for', 245), ('me', 228), ('d', 223), ('what', 211), ('lord', 211), ('as', 205), ('he', 202), ('be', 192), ('so', 189), ('haue', 178), ('him', 178), ('king', 172), ('will', 149), ('no', 137), ('on', 131), ('our', 130), ('we', 128), ('s', 124), ('are', 123), ('if', 114), ('all', 109), ('then', 108), ('by', 107), ('thou', 107), ('shall', 107), ('come', 104), ('do', 104), ('let', 104), ('or', 103), ('hamlet', 100), ('good', 98)]\n"
     ]
    }
   ],
   "source": [
    "print(fdist.most_common(50))"
   ]
  },
  {
   "cell_type": "code",
   "execution_count": 34,
   "id": "d455e24e-5639-4697-9596-55990baf6eda",
   "metadata": {},
   "outputs": [
    {
     "name": "stdout",
     "output_type": "stream",
     "text": [
      "[('the', 993), ('me', 228), ('he', 202), ('be', 192), ('we', 128), ('are', 123), ('let', 104)]\n"
     ]
    }
   ],
   "source": [
    "# 가장 빈도가 높은 문자들 중에서 빈도가 100 이상이고 문자의 길이가 3이하이며, 문자 속에 e를 포함하고 있는 문자\n",
    "most = fdist.most_common(50)\n",
    "most_word = [(word,count) for (word, count) in most if len(word) <= 3 and count >= 100 and 'e' in word]\n",
    "print(most_word)"
   ]
  },
  {
   "cell_type": "markdown",
   "id": "a7806552-86e6-4fdc-bc34-52523c3bdeea",
   "metadata": {},
   "source": [
    "### Brown\n",
    "- categories()\n",
    "- gutenberg와 다른 점은 categories가 존재한다는 점"
   ]
  },
  {
   "cell_type": "code",
   "execution_count": 35,
   "id": "321c2089-122b-4a8a-94b6-c9a411f2ef6c",
   "metadata": {},
   "outputs": [
    {
     "data": {
      "text/plain": [
       "True"
      ]
     },
     "execution_count": 35,
     "metadata": {},
     "output_type": "execute_result"
    }
   ],
   "source": [
    "nltk.download('brown', quiet = True)"
   ]
  },
  {
   "cell_type": "code",
   "execution_count": 36,
   "id": "5d05ef78-3e21-492d-b5d0-0e8918731d97",
   "metadata": {},
   "outputs": [],
   "source": [
    "# 호출시에 두가지 방법 가능\n",
    "# from nltk.corpus import brown  # 방법 1 \n",
    "brown_corpus = nltk.corpus.brown # 방법 2"
   ]
  },
  {
   "cell_type": "code",
   "execution_count": 37,
   "id": "e6cdd5fa-63d5-48fd-ad05-34199648e969",
   "metadata": {},
   "outputs": [
    {
     "data": {
      "text/plain": [
       "['adventure',\n",
       " 'belles_lettres',\n",
       " 'editorial',\n",
       " 'fiction',\n",
       " 'government',\n",
       " 'hobbies',\n",
       " 'humor',\n",
       " 'learned',\n",
       " 'lore',\n",
       " 'mystery',\n",
       " 'news',\n",
       " 'religion',\n",
       " 'reviews',\n",
       " 'romance',\n",
       " 'science_fiction']"
      ]
     },
     "execution_count": 37,
     "metadata": {},
     "output_type": "execute_result"
    }
   ],
   "source": [
    "brown_corpus.categories()"
   ]
  },
  {
   "cell_type": "code",
   "execution_count": 38,
   "id": "c5eda76f-2975-41e1-a86f-f38cf95749fc",
   "metadata": {},
   "outputs": [],
   "source": [
    "humor = brown_corpus.words(categories='humor')"
   ]
  },
  {
   "cell_type": "code",
   "execution_count": 39,
   "id": "58704c8e-e514-4198-816f-cc1797af32ff",
   "metadata": {},
   "outputs": [
    {
     "data": {
      "text/plain": [
       "[['Thirty-three'], ['Scotty', 'did', 'not', 'go', 'back', 'to', 'school', '.'], ...]"
      ]
     },
     "execution_count": 39,
     "metadata": {},
     "output_type": "execute_result"
    }
   ],
   "source": [
    "brown_corpus.sents(categories='fiction')"
   ]
  },
  {
   "cell_type": "code",
   "execution_count": 40,
   "id": "b596bed4-fadb-43c0-890e-9bc6e36f475a",
   "metadata": {},
   "outputs": [
    {
     "name": "stdout",
     "output_type": "stream",
     "text": [
      "can 17\n",
      "could 33\n",
      "may 8\n",
      "might 8\n",
      "will 13\n",
      "would 56\n"
     ]
    }
   ],
   "source": [
    "# modal verbs의 쓰임\n",
    "modals = ['can', 'could', 'may','might', 'will', 'would']\n",
    "\n",
    "fdist_brown = nltk.FreqDist([w.lower() for w in humor])\n",
    "\n",
    "for verb in modals:\n",
    "    print(verb, fdist_brown[verb])"
   ]
  },
  {
   "cell_type": "markdown",
   "id": "79124d7f-baf2-4b8d-a719-4a4796a64270",
   "metadata": {},
   "source": [
    "#### conditional frequency distribution(CFD)\n",
    "- 조건이 붙은 FreqDist"
   ]
  },
  {
   "cell_type": "code",
   "execution_count": 41,
   "id": "a4c09165-e15f-4594-a484-2c2196442864",
   "metadata": {},
   "outputs": [],
   "source": [
    "cfd = nltk.ConditionalFreqDist(\n",
    "    (genre, word.lower())\n",
    "    for genre in brown_corpus.categories()\n",
    "    for word in brown_corpus.words(categories=genre)\n",
    ")"
   ]
  },
  {
   "cell_type": "code",
   "execution_count": 42,
   "id": "3aaedcbe-49a8-4dca-9703-6379e22778c0",
   "metadata": {},
   "outputs": [
    {
     "data": {
      "text/plain": [
       "[('.', 4057),\n",
       " ('the', 3780),\n",
       " (',', 3488),\n",
       " ('and', 1706),\n",
       " ('a', 1432),\n",
       " ('of', 1327),\n",
       " ('to', 1322),\n",
       " ('he', 1283),\n",
       " ('``', 998),\n",
       " (\"''\", 995),\n",
       " ('was', 919),\n",
       " ('in', 892),\n",
       " ('his', 846),\n",
       " ('i', 652),\n",
       " ('it', 637),\n",
       " ('had', 592),\n",
       " ('that', 533),\n",
       " ('?', 518),\n",
       " ('on', 469),\n",
       " ('her', 468)]"
      ]
     },
     "execution_count": 42,
     "metadata": {},
     "output_type": "execute_result"
    }
   ],
   "source": [
    "cfd['adventure'].most_common(20)"
   ]
  },
  {
   "cell_type": "code",
   "execution_count": 44,
   "id": "eb865f10-9323-4a59-8332-90414fe4db31",
   "metadata": {},
   "outputs": [
    {
     "name": "stdout",
     "output_type": "stream",
     "text": [
      "                 can could   may might  will would \n",
      "     adventure    48   154     7    59    51   194 \n",
      "belles_lettres   249   216   221   113   246   397 \n",
      "     editorial   124    57    79    39   235   185 \n",
      "       fiction    39   168    10    44    56   291 \n",
      "    government   119    38   179    13   244   120 \n"
     ]
    }
   ],
   "source": [
    "cfd.tabulate(conditions = brown_corpus.categories()[:5], samples=modals)"
   ]
  },
  {
   "cell_type": "code",
   "execution_count": null,
   "id": "8352d4d1-22df-4d02-b060-3ee3fd7099f1",
   "metadata": {},
   "outputs": [],
   "source": []
  }
 ],
 "metadata": {
  "kernelspec": {
   "display_name": "Python 3 (ipykernel)",
   "language": "python",
   "name": "python3"
  },
  "language_info": {
   "codemirror_mode": {
    "name": "ipython",
    "version": 3
   },
   "file_extension": ".py",
   "mimetype": "text/x-python",
   "name": "python",
   "nbconvert_exporter": "python",
   "pygments_lexer": "ipython3",
   "version": "3.9.7"
  }
 },
 "nbformat": 4,
 "nbformat_minor": 5
}
