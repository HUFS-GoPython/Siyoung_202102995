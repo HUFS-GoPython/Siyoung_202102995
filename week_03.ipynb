{
 "cells": [
  {
   "cell_type": "markdown",
   "id": "5c51a042-2a1f-42df-a228-09bd7cd7da27",
   "metadata": {},
   "source": [
    "#### ch04 중첩 조건문"
   ]
  },
  {
   "cell_type": "markdown",
   "id": "3b728abd-010b-47dc-97d1-fd2bbe081bab",
   "metadata": {},
   "source": [
    "- nested conditional\n",
    "- if 블록 안에 또다른 if블록이 있는 경우\n",
    "- 들여쓰기로 논리를 구분한다\n",
    "- 중첩 조건문은 최대한 그 사용을 자제하고 피하는 것이 좋다."
   ]
  },
  {
   "cell_type": "code",
   "execution_count": 63,
   "id": "1e65cf2f-4a9b-4a92-8f5a-4e36fbd7511b",
   "metadata": {},
   "outputs": [
    {
     "name": "stdout",
     "output_type": "stream",
     "text": [
      "Block B\n"
     ]
    }
   ],
   "source": [
    "x = '1004'\n",
    "y = '2004'\n",
    "if x == y:\n",
    "    print(\"Block A\")\n",
    "else:\n",
    "    if x < y:\n",
    "        print(\"Block B\")\n",
    "    else:\n",
    "        print(\"Block C\")"
   ]
  },
  {
   "cell_type": "code",
   "execution_count": 64,
   "id": "8e8bee36-c496-4518-a581-a514230cf9bd",
   "metadata": {},
   "outputs": [
    {
     "name": "stdout",
     "output_type": "stream",
     "text": [
      "Block B\n"
     ]
    }
   ],
   "source": [
    "# 위와 같이 쓰는 것보다 아래와 같이 쓰는 것이 좋다.\n",
    "x = 1004\n",
    "y = 2004\n",
    "if x == y:\n",
    "    print(\"Block A\")\n",
    "elif x < y:\n",
    "    print(\"Block B\")\n",
    "else:\n",
    "    print(\"Block C\")"
   ]
  },
  {
   "cell_type": "code",
   "execution_count": 65,
   "id": "e1f12f86-efeb-4f20-b2dd-dd17bf073d3c",
   "metadata": {},
   "outputs": [
    {
     "name": "stdout",
     "output_type": "stream",
     "text": [
      "Not OK\n"
     ]
    }
   ],
   "source": [
    "if x > 0 and x < 10: ## x > 0 and x < 10은 0 < x <10으로 표기할 수 있다.\n",
    "    print('OK')\n",
    "else:\n",
    "    print(\"Not OK\")"
   ]
  },
  {
   "cell_type": "markdown",
   "id": "d29635ae-a221-404d-affa-7dbe46efc632",
   "metadata": {},
   "source": [
    "#### 논리 연산자\n",
    "\n",
    "- 비교연산자가 여러번 사용될 때 사용하는 것\n",
    "- and, or, not\n",
    "    - A and B: A도 참이고, B도 참일 때 True\n",
    "            - A and B: A도 참이고, B도 참일 때 True\n",
    "        - 예: A & B\n",
    "    - A or B: A 혹은 B, 둘중 하나만 참이면 True\n",
    "        - 예: A | B\n",
    "    - not A: A가 False -> True, True -> False\n",
    "        - 물결 기호가 있기는 하지만 물결 기호를 쓰는 것보다도 not A라고 적는 것이 더 좋음\n",
    "- 비교연산자의 괄호는 가독성을 위해(optional)\n",
    "- 파이썬에서만 가능한 표현 (0 < x < 10)\n",
    "    - 다른 언어에서는 논리연산자를 사용하여 표기해야함"
   ]
  },
  {
   "cell_type": "markdown",
   "id": "7c182695-1b09-4408-be6f-888996bb1c51",
   "metadata": {},
   "source": [
    "#### True, False\n",
    "- if 문과 함께 사용\n",
    "- \"만약 a가 참이라면...\"\n",
    "- a = True"
   ]
  },
  {
   "cell_type": "code",
   "execution_count": 66,
   "id": "1a57ec55-59b9-453a-aadc-a80b060d00bc",
   "metadata": {},
   "outputs": [],
   "source": [
    "a = 0\n",
    "if a == True: #참이라는 식으로 사용할 때에는 이렇게 쓰면 틀림\n",
    "    print('k')\n",
    "if a: #a가 참일 때는 이러한 방식으로 표기해야 옳은 표기임\n",
    "    print('k')"
   ]
  },
  {
   "cell_type": "markdown",
   "id": "b8b05537-01a2-46db-9517-af5e1db0208c",
   "metadata": {},
   "source": [
    "#### in\n",
    "- membership operator\n",
    "- 어떤 요소가 그 안에 있는지 확인하고 싶다.\n",
    "- 비슷한 조건이 여러번 반복될 때 사용 가능"
   ]
  },
  {
   "cell_type": "code",
   "execution_count": 67,
   "id": "041b7329-f466-4ecb-b304-d2d0586b3444",
   "metadata": {},
   "outputs": [
    {
     "name": "stdout",
     "output_type": "stream",
     "text": [
      "No\n"
     ]
    }
   ],
   "source": [
    "letter = 'k'\n",
    "\n",
    "# letter가 모음인지 확인하고 싶다\n",
    "# if letter == 'a' or letter == 'e' 로 하나씩 확인하는 것이 아니라\n",
    "\n",
    "if letter in ['a','e','i','o','u']: #리스트 요소에 letter와 일치햐는 것이 있는지 확인\n",
    "    print(\"yes\")\n",
    "else:\n",
    "    print(\"No\")"
   ]
  },
  {
   "cell_type": "code",
   "execution_count": 68,
   "id": "f784b232-5812-4926-a8e4-d27f19601f78",
   "metadata": {},
   "outputs": [
    {
     "name": "stdout",
     "output_type": "stream",
     "text": [
      "no\n"
     ]
    }
   ],
   "source": [
    "word = 'abcde'\n",
    "\n",
    "if word in ['a','e','i','o','u']: # 이렇게 작성하면 안됨\n",
    "    print('yes')\n",
    "else:\n",
    "    print('no')\n"
   ]
  },
  {
   "cell_type": "code",
   "execution_count": 69,
   "id": "a1ef499e-f951-46e8-aef8-0240eded7bb7",
   "metadata": {},
   "outputs": [
    {
     "name": "stdout",
     "output_type": "stream",
     "text": [
      "yes\n"
     ]
    }
   ],
   "source": [
    "# word 속에 있는지 확인하기 위해서는\n",
    "\n",
    "if 'a' or 'e' or 'i' or 'o' or 'u' in word:\n",
    "    print('yes')\n",
    "else:\n",
    "    print('no')"
   ]
  },
  {
   "cell_type": "markdown",
   "id": "1fa68a12-a3dc-4d8d-8c38-d6db1910c02e",
   "metadata": {},
   "source": [
    "#### 바다코끼리 연산자\n",
    "\n",
    "- walrus operator\n",
    "- 할당과 테스트를 동시에 하는 기능\n",
    "- ':='으로 표기함"
   ]
  },
  {
   "cell_type": "code",
   "execution_count": 70,
   "id": "b4e59e78-0c83-4f3e-b38a-5aff106a897f",
   "metadata": {},
   "outputs": [],
   "source": [
    "pig = 5000\n",
    "cow = 'pig' * 1500"
   ]
  },
  {
   "cell_type": "code",
   "execution_count": 71,
   "id": "c3e312aa-f354-47ac-b626-bfe6337c6b5f",
   "metadata": {},
   "outputs": [
    {
     "name": "stdout",
     "output_type": "stream",
     "text": [
      "좋아요\n"
     ]
    }
   ],
   "source": [
    "diff = pig - len(cow)\n",
    "if diff > 0:\n",
    "    print(\"좋아요\")\n",
    "else:\n",
    "    print(\"싫어요\")"
   ]
  },
  {
   "cell_type": "code",
   "execution_count": 72,
   "id": "b64ab502-2ce8-476d-bd96-5f0a9c76f385",
   "metadata": {},
   "outputs": [
    {
     "name": "stdout",
     "output_type": "stream",
     "text": [
      "좋아요\n"
     ]
    }
   ],
   "source": [
    "if diff := pig -len(cow) > 0:\n",
    "    print(\"좋아요\")\n",
    "else:\n",
    "    print(\"싫어요\")"
   ]
  },
  {
   "cell_type": "markdown",
   "id": "5f42d286-954b-4b50-a9f8-0ba5981cfd74",
   "metadata": {},
   "source": [
    "#### quiz\n",
    "- 윤년을 구하는 코드를 짜보자\n",
    "    - 연도가 4로 나눠떨어지면 윤년\n",
    "    - 100으로 나눠떨어지면 안된다\n",
    "    - 400으로 나눠떨어져야 한다\n",
    "- year를 입력받는다.\n",
    "- 'xxx년은 윤년입니다.'/ \"xxx년은 윤년이 아닙니다\""
   ]
  },
  {
   "cell_type": "code",
   "execution_count": 73,
   "id": "24d728e0-c431-49d4-82b3-5f6000beb3fe",
   "metadata": {},
   "outputs": [
    {
     "name": "stdin",
     "output_type": "stream",
     "text": [
      " 2022\n"
     ]
    },
    {
     "name": "stdout",
     "output_type": "stream",
     "text": [
      "2022는 윤년이 아닙니다.\n"
     ]
    }
   ],
   "source": [
    "year = int(input())\n",
    "if (year % 4 == 0) and (year % 100 != 0) or (year % 400 == 0):\n",
    "    print(f\"{year}는 윤년입니다.\")\n",
    "else:\n",
    "    print(f\"{year}는 윤년이 아닙니다.\")"
   ]
  },
  {
   "cell_type": "markdown",
   "id": "25e1c985-c33d-40fc-b528-0daf20fe3fe2",
   "metadata": {},
   "source": [
    "#### cho5.string | 문자열\n",
    "- str type\n",
    "- 시스템에서 가장 작은 단위\n",
    "- 불변적인 성격을 가짐(immutable)\n",
    "    - 'abcd' -> b -> a로 바꿀 수 없다\n",
    "- 문법: '', \"\" 감싸면 모두 문자열\n",
    "- ''' or \"\"\" >> 주석\n",
    "- 형 변환은 str()\n",
    "\n",
    "#### Escape character | 이스케이프문자\n",
    "- 눈에 보이는 대로 인식되지 않는 문자열\n",
    "- 문법: \\ + character\n",
    "- \\n, \\t, \\b, \\'\n",
    "- print() 함수 쓰지 않으면 형태가 출력은 된다.\n",
    "- '\\n' 출력\n",
    "    - \\\\n\n",
    "    - r''(raw string) 원시 문자 반환\n",
    "- 문자열을 바꾸는 것이 아니라 표면상의 형태를 말하는 것"
   ]
  },
  {
   "cell_type": "code",
   "execution_count": 74,
   "id": "e75811b6-759c-45e3-8c21-74f7a49959b8",
   "metadata": {},
   "outputs": [
    {
     "name": "stdout",
     "output_type": "stream",
     "text": [
      "hello\n",
      "python\n"
     ]
    }
   ],
   "source": [
    "print(\"hello\\npython\") # 줄 변경"
   ]
  },
  {
   "cell_type": "code",
   "execution_count": 75,
   "id": "d375f136-d759-4dcb-bf3c-91c9959fb969",
   "metadata": {},
   "outputs": [
    {
     "name": "stdout",
     "output_type": "stream",
     "text": [
      "hello\tpython\n"
     ]
    }
   ],
   "source": [
    "print(\"hello\\tpython\") # tab 입력"
   ]
  },
  {
   "cell_type": "code",
   "execution_count": 76,
   "id": "a86580ee-665d-46fd-ae57-a2b77d3eee3c",
   "metadata": {},
   "outputs": [
    {
     "name": "stdout",
     "output_type": "stream",
     "text": [
      "hellworld\n",
      "hello\\bworld\n"
     ]
    }
   ],
   "source": [
    "print(\"hello\\bworld\") # backspce\n",
    "print(r\"hello\\bworld\")"
   ]
  },
  {
   "cell_type": "markdown",
   "id": "4e94f418-f763-48c3-a840-a7526248352a",
   "metadata": {},
   "source": [
    "#### 연산\n",
    "- concatenation (+)\n",
    "    - '' + '' >>> 붙이기\n",
    "- 복제(*)\n",
    "    - ''*4 >>> 4번 반복"
   ]
  },
  {
   "cell_type": "code",
   "execution_count": 77,
   "id": "a10af076-312f-4611-8da7-d7825b0c4ea8",
   "metadata": {},
   "outputs": [
    {
     "data": {
      "text/plain": [
       "'HappyHappy'"
      ]
     },
     "execution_count": 77,
     "metadata": {},
     "output_type": "execute_result"
    }
   ],
   "source": [
    "word = 'Happy'\n",
    "word + word # 더하기로 문자열을 합치면 공백 없이 붙는다."
   ]
  },
  {
   "cell_type": "code",
   "execution_count": 78,
   "id": "e82927bd-83d9-4ef0-8f50-8f54b7d0a924",
   "metadata": {},
   "outputs": [
    {
     "data": {
      "text/plain": [
       "'HappyHappyHappyHappyHappyHappyHappyHappyHappyHappyHappyHappyHappyHappyHappyHappyHappyHappyHappyHappy'"
      ]
     },
     "execution_count": 78,
     "metadata": {},
     "output_type": "execute_result"
    }
   ],
   "source": [
    "word * 20"
   ]
  },
  {
   "cell_type": "code",
   "execution_count": 79,
   "id": "aaff20b2-2dfa-43f5-a979-85a924d294ba",
   "metadata": {},
   "outputs": [
    {
     "data": {
      "text/plain": [
       "'Oh!happyday'"
      ]
     },
     "execution_count": 79,
     "metadata": {},
     "output_type": "execute_result"
    }
   ],
   "source": [
    "'Oh!' + 'happy' + 'day'"
   ]
  },
  {
   "cell_type": "markdown",
   "id": "59fe7b2e-bb0f-43ab-96ff-7e32641328a7",
   "metadata": {},
   "source": [
    "### slicing\n",
    "- 지정 범위의 문자열을 추출하는 것\n",
    "- 문법: 대괄호 + 오프셋 이용 [offset]\n",
    "    - [start:end:step]\n",
    "    - start: 시작 지점\n",
    "    - end: n까지 출력하기를 원하면 n+1이라고 적어야 함\n",
    "- 오프셋은 0부터 시작\n",
    "- start 포함, end 불포함 (크거나 같고, 작다)\n",
    "- 0일 경우 생략한다.\n",
    "    - 예: 처음부터 9까지 출력하라 >>> [:10]\n",
    "    - 처음부터 끝까지 2스텝씩 >>> [::2]\n",
    "    - 처음부터 끝까지 역순으로 찍기 >>> [::-1]\n",
    "- 오프셋은 음수로도 가능하다"
   ]
  },
  {
   "cell_type": "code",
   "execution_count": 80,
   "id": "156fe8fe-6159-4cb6-b19a-59c12863469c",
   "metadata": {},
   "outputs": [
    {
     "data": {
      "text/plain": [
       "('Happy', 'a')"
      ]
     },
     "execution_count": 80,
     "metadata": {},
     "output_type": "execute_result"
    }
   ],
   "source": [
    "word, word[1]"
   ]
  },
  {
   "cell_type": "code",
   "execution_count": 81,
   "id": "325bbb80-8302-4259-b65c-4d9bf4d0ebc8",
   "metadata": {},
   "outputs": [
    {
     "data": {
      "text/plain": [
       "'pp'"
      ]
     },
     "execution_count": 81,
     "metadata": {},
     "output_type": "execute_result"
    }
   ],
   "source": [
    "word[2:4]"
   ]
  },
  {
   "cell_type": "code",
   "execution_count": 82,
   "id": "7456c737-1b72-4d17-ab67-3275762c41a5",
   "metadata": {},
   "outputs": [
    {
     "data": {
      "text/plain": [
       "'Hap'"
      ]
     },
     "execution_count": 82,
     "metadata": {},
     "output_type": "execute_result"
    }
   ],
   "source": [
    "word[:-2]"
   ]
  },
  {
   "cell_type": "code",
   "execution_count": 83,
   "id": "e38d73ff-6729-4aa9-b31d-e040a04ab4df",
   "metadata": {},
   "outputs": [
    {
     "data": {
      "text/plain": [
       "'Happ'"
      ]
     },
     "execution_count": 83,
     "metadata": {},
     "output_type": "execute_result"
    }
   ],
   "source": [
    "word[:-1]"
   ]
  },
  {
   "cell_type": "code",
   "execution_count": 84,
   "id": "ab4ba52a-4ad4-4d98-94ab-500287c7621b",
   "metadata": {},
   "outputs": [
    {
     "data": {
      "text/plain": [
       "'Happy'"
      ]
     },
     "execution_count": 84,
     "metadata": {},
     "output_type": "execute_result"
    }
   ],
   "source": [
    "word"
   ]
  },
  {
   "cell_type": "code",
   "execution_count": 85,
   "id": "29368272-3580-4be5-a23a-7a91eab75605",
   "metadata": {},
   "outputs": [
    {
     "data": {
      "text/plain": [
       "10"
      ]
     },
     "execution_count": 85,
     "metadata": {},
     "output_type": "execute_result"
    }
   ],
   "source": [
    "sent = 'Seoul milk'\n",
    "len(sent) #str의 길이, 공백도 포함됨"
   ]
  },
  {
   "cell_type": "code",
   "execution_count": 86,
   "id": "d6ab8670-4c9c-4887-8268-2ea553b49cb8",
   "metadata": {},
   "outputs": [
    {
     "data": {
      "text/plain": [
       "'Sol'"
      ]
     },
     "execution_count": 86,
     "metadata": {},
     "output_type": "execute_result"
    }
   ],
   "source": [
    "#처음부터 6번째까지 2스텝씩 출력\n",
    "sent[:6:2]"
   ]
  },
  {
   "cell_type": "code",
   "execution_count": 87,
   "id": "ab14d5f0-ee9f-4860-8f20-fe9bc80f4abd",
   "metadata": {},
   "outputs": [
    {
     "data": {
      "text/plain": [
       "'ki'"
      ]
     },
     "execution_count": 87,
     "metadata": {},
     "output_type": "execute_result"
    }
   ],
   "source": [
    "sent[:6:-2]"
   ]
  },
  {
   "cell_type": "code",
   "execution_count": 88,
   "id": "761bd3be-5668-46a3-9e27-725293edc68a",
   "metadata": {},
   "outputs": [
    {
     "data": {
      "text/plain": [
       "' '"
      ]
     },
     "execution_count": 88,
     "metadata": {},
     "output_type": "execute_result"
    }
   ],
   "source": [
    "sent[5] #빈 공간 지정가능"
   ]
  },
  {
   "cell_type": "code",
   "execution_count": 89,
   "id": "4b9e391d-29ad-464b-ba6d-ae73604d7c17",
   "metadata": {},
   "outputs": [
    {
     "ename": "TypeError",
     "evalue": "'str' object does not support item assignment",
     "output_type": "error",
     "traceback": [
      "\u001b[1;31m---------------------------------------------------------------------------\u001b[0m",
      "\u001b[1;31mTypeError\u001b[0m                                 Traceback (most recent call last)",
      "\u001b[1;32m~\\AppData\\Local\\Temp/ipykernel_99796/4119461538.py\u001b[0m in \u001b[0;36m<module>\u001b[1;34m\u001b[0m\n\u001b[0;32m      1\u001b[0m \u001b[0mhello\u001b[0m \u001b[1;33m=\u001b[0m \u001b[1;34m'hello'\u001b[0m\u001b[1;33m\u001b[0m\u001b[1;33m\u001b[0m\u001b[0m\n\u001b[1;32m----> 2\u001b[1;33m \u001b[0mhello\u001b[0m\u001b[1;33m[\u001b[0m\u001b[1;36m2\u001b[0m\u001b[1;33m]\u001b[0m \u001b[1;33m=\u001b[0m \u001b[1;34m'L'\u001b[0m \u001b[1;31m#문자열은 불변적 성격을 지니기 때문에 이 같은 방식으로 문자열을 변경할 수 없다.\u001b[0m\u001b[1;33m\u001b[0m\u001b[1;33m\u001b[0m\u001b[0m\n\u001b[0m\u001b[0;32m      3\u001b[0m \u001b[0mhello\u001b[0m\u001b[1;33m\u001b[0m\u001b[1;33m\u001b[0m\u001b[0m\n",
      "\u001b[1;31mTypeError\u001b[0m: 'str' object does not support item assignment"
     ]
    }
   ],
   "source": [
    "hello = 'hello'\n",
    "hello[2] = 'L' #문자열은 불변적 성격을 지니기 때문에 이 같은 방식으로 문자열을 변경할 수 없다.\n",
    "hello"
   ]
  },
  {
   "cell_type": "markdown",
   "id": "9d4eaf04-b607-4621-a09e-d11f0c13bee8",
   "metadata": {},
   "source": [
    "## NLTK\n",
    "- natural langue toolkit\n",
    "- 교육용으로 개발된 자연어처리 패키지\n",
    "- 코퍼스 제공하는데 어던 처리가 되어 있다.\n",
    "    - 토크나이즈, 파싱, 태깅,..."
   ]
  },
  {
   "cell_type": "code",
   "execution_count": 90,
   "id": "7b671600-ec4d-420f-8b42-caac197ef245",
   "metadata": {},
   "outputs": [],
   "source": [
    "# !pip install nltk\n",
    "# nltk를 사용하기에 앞에서 터미널을 통해 설치하는 과정"
   ]
  },
  {
   "cell_type": "code",
   "execution_count": 91,
   "id": "8650ec51-71b1-46d8-81f6-ceb284a19bc3",
   "metadata": {},
   "outputs": [
    {
     "data": {
      "text/plain": [
       "True"
      ]
     },
     "execution_count": 91,
     "metadata": {},
     "output_type": "execute_result"
    }
   ],
   "source": [
    "import nltk\n",
    "nltk.download('book', quiet = True)"
   ]
  },
  {
   "cell_type": "code",
   "execution_count": 92,
   "id": "e140f6b6-9733-4019-b9cd-cc2b15fef2a5",
   "metadata": {},
   "outputs": [],
   "source": [
    "from nltk import book"
   ]
  },
  {
   "cell_type": "code",
   "execution_count": 93,
   "id": "9bf87a93-8b84-43b1-878c-53a40ca26d08",
   "metadata": {},
   "outputs": [],
   "source": [
    "moby = book.text1"
   ]
  },
  {
   "cell_type": "code",
   "execution_count": 94,
   "id": "199e6025-2964-40c3-83b4-c6d795fe1eca",
   "metadata": {},
   "outputs": [
    {
     "data": {
      "text/plain": [
       "<Text: Moby Dick by Herman Melville 1851>"
      ]
     },
     "execution_count": 94,
     "metadata": {},
     "output_type": "execute_result"
    }
   ],
   "source": [
    "moby"
   ]
  },
  {
   "cell_type": "code",
   "execution_count": 95,
   "id": "978f9d45-a871-44fa-b206-1dfff3e21289",
   "metadata": {},
   "outputs": [],
   "source": [
    "# moby의 개별 단어에 접근하기 위해서 .tokens이라는 명령을 사용\n",
    "# len(moby.tokens) -> 개별 단어들의 개수\n",
    "# 중복되는 단어를 거르기 위해서 set 함수를 사용\n",
    "# set(moby.tokens)"
   ]
  },
  {
   "cell_type": "markdown",
   "id": "88070302-7d33-4409-892c-4058383e1038",
   "metadata": {},
   "source": [
    "##### set과 list의 차이점\n",
    "- set\n",
    "    - {a, b, c, d...}\n",
    "    - 중복 불가능\n",
    "    - 수학의 집합과 동일한 개념\n",
    "    - 순서 없음(슬라이싱 불가능)\n",
    "- list\n",
    "    - [a, b, c, ...]\n",
    "    - 중복 가능\n",
    "    - 순서 있음"
   ]
  },
  {
   "cell_type": "code",
   "execution_count": 96,
   "id": "2520e4ec-b6b4-4518-b9b2-0dc076c7e55d",
   "metadata": {},
   "outputs": [
    {
     "data": {
      "text/plain": [
       "['apple', 'banana', 'cherry', 'durian', 'apple', 'strawberry', 'cherry']"
      ]
     },
     "execution_count": 96,
     "metadata": {},
     "output_type": "execute_result"
    }
   ],
   "source": [
    "fruits = ['apple', 'banana', 'cherry', 'durian', 'apple', 'strawberry', 'cherry']\n",
    "fruits"
   ]
  },
  {
   "cell_type": "code",
   "execution_count": 97,
   "id": "06d27b9d-e734-4f88-ad2d-01dbaf0e4ff3",
   "metadata": {},
   "outputs": [
    {
     "data": {
      "text/plain": [
       "{'apple', 'banana', 'cherry', 'durian', 'strawberry'}"
      ]
     },
     "execution_count": 97,
     "metadata": {},
     "output_type": "execute_result"
    }
   ],
   "source": [
    "set(fruits)"
   ]
  },
  {
   "cell_type": "code",
   "execution_count": 98,
   "id": "fccf51d9-80be-4925-816b-c1afb9226b85",
   "metadata": {},
   "outputs": [
    {
     "name": "stdout",
     "output_type": "stream",
     "text": [
      "260819\n",
      "19317\n"
     ]
    }
   ],
   "source": [
    "print(len(moby.tokens))\n",
    "print(len(set(moby.tokens)))"
   ]
  },
  {
   "cell_type": "code",
   "execution_count": 99,
   "id": "f40a282c-5750-42b5-b2cc-36b6d2d97f2a",
   "metadata": {},
   "outputs": [
    {
     "data": {
      "text/plain": [
       "0.07406285585022564"
      ]
     },
     "execution_count": 99,
     "metadata": {},
     "output_type": "execute_result"
    }
   ],
   "source": [
    "# lexical diversity\n",
    "len(set(moby.tokens)) / len(moby.tokens)"
   ]
  },
  {
   "cell_type": "code",
   "execution_count": 100,
   "id": "d5015d0f-cc45-40ee-9074-778ec2e1c075",
   "metadata": {},
   "outputs": [
    {
     "name": "stdout",
     "output_type": "stream",
     "text": [
      "['!', '!\"', '!\"--', \"!'\", '!\\'\"', '!)', '!)\"', '!*', '!--', '!--\"']\n",
      "['zoology', 'zones', 'zoned', 'zone', 'zodiac', 'zig', 'zephyr', 'zeal', 'zay', 'zag']\n"
     ]
    }
   ],
   "source": [
    "# 오름차순\n",
    "print(sorted(set(moby.tokens))[:10])\n",
    "\n",
    "# 내림차순\n",
    "print(sorted(set(moby.tokens), reverse = True)[:10])"
   ]
  },
  {
   "cell_type": "code",
   "execution_count": 101,
   "id": "c15df303-cc8d-43ff-b296-0066c9d82621",
   "metadata": {},
   "outputs": [
    {
     "name": "stdout",
     "output_type": "stream",
     "text": [
      "['apple', 'banana', 'cherry', 'durian', 'strawberry']\n"
     ]
    }
   ],
   "source": [
    "set_fruits = set(fruits)\n",
    "sort1 = sorted(set_fruits)\n",
    "print(sort1)"
   ]
  },
  {
   "cell_type": "markdown",
   "id": "c3444223-e7af-4e1b-878b-bed4e1b5e806",
   "metadata": {
    "tags": []
   },
   "source": [
    "#### Quiz 1"
   ]
  },
  {
   "cell_type": "code",
   "execution_count": 102,
   "id": "3dcb73f2-4c55-4bb0-b012-63b3d19d7684",
   "metadata": {},
   "outputs": [
    {
     "data": {
      "text/plain": [
       "True"
      ]
     },
     "execution_count": 102,
     "metadata": {},
     "output_type": "execute_result"
    }
   ],
   "source": [
    "import nltk\n",
    "nltk.download('book', quiet = True)"
   ]
  },
  {
   "cell_type": "code",
   "execution_count": 103,
   "id": "d58da59d-022b-4039-84a6-bbd3ba232528",
   "metadata": {},
   "outputs": [],
   "source": [
    "from nltk import book"
   ]
  },
  {
   "cell_type": "code",
   "execution_count": 104,
   "id": "b6fb107a-f77f-4718-801d-f0d7c25b2a78",
   "metadata": {},
   "outputs": [],
   "source": [
    "chesterton = book.text9"
   ]
  },
  {
   "cell_type": "code",
   "execution_count": 105,
   "id": "3a734880-e630-4a74-a1af-6dc39a586b39",
   "metadata": {},
   "outputs": [
    {
     "data": {
      "text/plain": [
       "0.0983485761345412"
      ]
     },
     "execution_count": 105,
     "metadata": {},
     "output_type": "execute_result"
    }
   ],
   "source": [
    "len(set(chesterton.tokens)) / len(chesterton.tokens)"
   ]
  },
  {
   "cell_type": "code",
   "execution_count": 106,
   "id": "7d0ae681-41c4-4c26-89d9-fe89135b1686",
   "metadata": {},
   "outputs": [
    {
     "name": "stdout",
     "output_type": "stream",
     "text": [
      "['zoosh', 'zoop', 'zoo', 'zone', 'zhiv', 'yourself', 'yours', 'your', 'young', 'you']\n"
     ]
    }
   ],
   "source": [
    "Monty = book.text6\n",
    "new_Monty = set(Monty.tokens)\n",
    "modified_Monty = sorted(set(Monty.tokens), reverse = True)[:10]\n",
    "#a.\n",
    "print(modified_Monty)"
   ]
  },
  {
   "cell_type": "code",
   "execution_count": 107,
   "id": "c1f81657-d4de-4916-be9d-f9dd567b6353",
   "metadata": {},
   "outputs": [
    {
     "name": "stdout",
     "output_type": "stream",
     "text": [
      "['Zoosh', 'Zoop', 'Zoo', 'Zone', 'Zhiv', 'yourselF', 'yourS', 'youR', 'younG', 'you']\n"
     ]
    }
   ],
   "source": [
    "#b.\n",
    "z_list = []\n",
    "for word in list(modified_Monty):\n",
    "    if 'z' in word:\n",
    "        new_word = word.replace('z','Z')\n",
    "        z_list.append(new_word)\n",
    "    elif 'z' not in word:\n",
    "        if len(word) >= 4:\n",
    "            back_word = word[-1].upper()\n",
    "            front_word = word[:-1]\n",
    "            ori_word = front_word + back_word\n",
    "            z_list.append(ori_word)\n",
    "        else:\n",
    "            z_list.append(word)\n",
    "print(z_list)"
   ]
  },
  {
   "cell_type": "markdown",
   "id": "4825a485-bf4d-4e8f-861c-9ea3485fc29a",
   "metadata": {
    "tags": []
   },
   "source": [
    "#### Quiz 2"
   ]
  },
  {
   "cell_type": "code",
   "execution_count": 108,
   "id": "76720acf-d154-4249-8e9a-f888e995d793",
   "metadata": {},
   "outputs": [
    {
     "name": "stdin",
     "output_type": "stream",
     "text": [
      "주민등록번호를 입력하세요:  8012252345678\n",
      "휴대폰 번호를 입력하세요:  01012345678\n",
      "이메일을 입력하세요:  Python\n"
     ]
    },
    {
     "name": "stdout",
     "output_type": "stream",
     "text": [
      "당신은 1980년 12월 25일 출생의 여성입니다.\n",
      "010-1234-5678\n",
      "Python@gmail.com\n"
     ]
    }
   ],
   "source": [
    "resident_number = input(\"주민등록번호를 입력하세요: \")\n",
    "phone_number = input(\"휴대폰 번호를 입력하세요: \")\n",
    "E_mail = input(\"이메일을 입력하세요: \")\n",
    "month = resident_number[2:4]\n",
    "day = resident_number[4:6]\n",
    "if resident_number[6] == '3' :\n",
    "    year = 2000 + int(resident_number[:2])\n",
    "    print(f\"당신은 {year}년 {month}월 {day}일 출생의 남성입니다.\")\n",
    "elif resident_number[6] == '4':\n",
    "    year = 2000 + int(resident_number[:2])\n",
    "    print(f\"당신은 {year}년 {month}월 {day}일 출생의 여성입니다.\")\n",
    "elif resident_number[6] == '1':\n",
    "    year2 = 1900 + int(resident_number[:2])\n",
    "    print(f\"당신은 {year2}년 {month}월 {day}일 출생의 남성입니다.\")\n",
    "elif resident_number[6] == '2':\n",
    "    year2 = 1900 + int(resident_number[:2])\n",
    "    print(f\"당신은 {year2}년 {month}월 {day}일 출생의 여성입니다.\")\n",
    "print(phone_number[:3]+'-'+phone_number[3:7]+'-'+phone_number[7:])\n",
    "print(E_mail+'@gmail.com')"
   ]
  },
  {
   "cell_type": "code",
   "execution_count": 110,
   "id": "a115d14f-49f7-4eee-84e9-048018198c92",
   "metadata": {},
   "outputs": [
    {
     "name": "stdin",
     "output_type": "stream",
     "text": [
      "주민등록번호를 입력하세요:  0412253456789\n",
      "휴대폰 번호를 입력하세요:  01098765432\n",
      "이메일을 입력하세요:  Hello\n"
     ]
    },
    {
     "name": "stdout",
     "output_type": "stream",
     "text": [
      "당신은 2004년 12월 25일 출생의 남성입니다.\n",
      "010-9876-5432\n",
      "Hello@gmail.com\n"
     ]
    }
   ],
   "source": [
    "resident_number = input(\"주민등록번호를 입력하세요: \")\n",
    "phone_number = input(\"휴대폰 번호를 입력하세요: \")\n",
    "E_mail = input(\"이메일을 입력하세요: \")\n",
    "month = resident_number[2:4]\n",
    "day = resident_number[4:6]\n",
    "if resident_number[6] == '3'or '4':\n",
    "    year = 2000 + int(resident_number[:2])\n",
    "    if resident_number[6] == '3':\n",
    "        print(f\"당신은 {year}년 {month}월 {day}일 출생의 남성입니다.\")\n",
    "    elif resident_number[6] == '4':\n",
    "        print(f\"당신은 {year}년 {month}월 {day}일 출생의 여성입니다.\")\n",
    "if resident_number[6] == '1'or '2':\n",
    "    year2 = 1900 + int(resident_number[:2])\n",
    "    if resident_number[6] == '1':\n",
    "        print(f\"당신은 {year2}년 {month}월 {day}일 출생의 남성입니다.\")\n",
    "    elif resident_number[6] == '2':\n",
    "        print(f\"당신은 {year2}년 {month}월 {day}일 출생의 여성입니다.\")\n",
    "print(phone_number[:3]+'-'+phone_number[3:7]+'-'+phone_number[7:])\n",
    "print(E_mail+'@gmail.com')"
   ]
  },
  {
   "cell_type": "markdown",
   "id": "9942cabe-4a67-4c72-8a11-34e8e1ce395b",
   "metadata": {},
   "source": [
    "#### 지난 주 퀴즈"
   ]
  },
  {
   "cell_type": "markdown",
   "id": "6366157f-f20d-4ef0-b85e-17e08cb77441",
   "metadata": {},
   "source": [
    "#5. 세 수를 입력 받고 가장 큰 수를 찾는 코드를 작성하시오.\n",
    "\"\"\"\n",
    "예: 12, 14, 15 입력 받았다면 15\n",
    "* 조건식을 위한 문제이기 때문에 max() 함수는 인정하지 않음."
   ]
  },
  {
   "cell_type": "code",
   "execution_count": 3,
   "id": "0880611f-6efa-4c36-8908-2319730ed111",
   "metadata": {},
   "outputs": [
    {
     "name": "stdin",
     "output_type": "stream",
     "text": [
      " 14 15 12\n"
     ]
    },
    {
     "name": "stdout",
     "output_type": "stream",
     "text": [
      "15\n"
     ]
    }
   ],
   "source": [
    "num = list(map(int, input().split( )))\n",
    "max = 0\n",
    "for i in num:\n",
    "  if max < i:\n",
    "    max = i\n",
    "print(max)  "
   ]
  },
  {
   "cell_type": "markdown",
   "id": "fd6f82c4-0c9e-4d83-830d-7ffbf9c0dee5",
   "metadata": {},
   "source": [
    "#4. 달팽이가 높이 350미터인 나무 막대를 올라간다.\n",
    "\"\"\"\n",
    "조건1: 달팽이는 낮에 5미터 올라간다.\n",
    "조건2: 밤에는 2미터 미끄러진다.\n",
    "조건3: 정상에 올라간 후에는 미끄러지지 않는다.\n",
    "달팽이가 막대기 정상에 올라가려면 며칠이 걸리는지 코드를 짜서 프린트하시오.\n",
    "(모든 리터럴은 변수에 담겨야 한다. 코드 및 정답을 모두 제출한다.)"
   ]
  },
  {
   "cell_type": "code",
   "execution_count": 5,
   "id": "c224d9b5-5eee-460f-b346-dd82c327cfee",
   "metadata": {},
   "outputs": [
    {
     "name": "stdout",
     "output_type": "stream",
     "text": [
      "116\n"
     ]
    }
   ],
   "source": [
    "height = 350\n",
    "distance = 0\n",
    "day = 0\n",
    "Am = 5\n",
    "Pm = 2\n",
    "while True:\n",
    "    distance = distance + Am\n",
    "    day = day + 1\n",
    "    if distance == height:\n",
    "        print(day)\n",
    "        break\n",
    "    else:\n",
    "        distance = distance - Pm"
   ]
  },
  {
   "cell_type": "code",
   "execution_count": 11,
   "id": "b9c3f689-e9e3-4c42-93fd-6a212d47df0c",
   "metadata": {},
   "outputs": [],
   "source": [
    "#3. 마이클이 흙을 나른다고 가정하자.\n",
    "\"\"\"\n",
    "옮겨야 할 흙은 총 n킬로그램이고, 마이클은 3kg씩 혹은 5kg씩 나를 수 있다.\n",
    "최대한 적은 노력으로 모든 흙을 나를 수 있는 코드를 작성하라.\n",
    "(단, 나르는 흙의 양이 총량과 정확하게 떨어지지 않으면 총량을 살짝 넘겨야 한다.)\n",
    "출력 조건:\n",
    " - n은 랜덤으로 주어진다.\n",
    " - 출력값 = (3kg 나르는 횟수, 5kg 나르는 횟수)\n",
    "\"\"\"\n",
    "# 참고용\n",
    "import random\n",
    "n = random.randint(10, 100)\n"
   ]
  },
  {
   "cell_type": "code",
   "execution_count": 14,
   "id": "9ab2d926-9c26-46b2-aaaa-2c7a5abbd806",
   "metadata": {},
   "outputs": [
    {
     "name": "stdout",
     "output_type": "stream",
     "text": [
      "\n"
     ]
    }
   ],
   "source": [
    "#2. 편의점 매출 계산\n",
    "\"\"\"\n",
    "조건1: 총 매출 = (소비자가 - 원가) * 개수\n",
    "조건2: 5개 이상 구매 시 전체 물품의 15% 할인\n",
    " (할인 적용 품목 범위는 둘다 가능함)\n",
    "한 고객이 다음과 같이 물건을 구입했다고 할 떄, 편의점의 매출을 계산하시오.\n",
    "출력 조건:\n",
    " - 최대한 모든 리터럴을 변수에 담을 것.\n",
    " - 출력값은 총 매출액(정수)\n",
    " 비요뜨 삼각김밥 콜라 바나나 홈런볼\n",
    "원가 480 900 380 1050 770\n",
    "소비자가 1300 2500 800 3200 1500\n",
    "개수 3 5 6 2 4\n",
    "\"\"\"\n",
    "print()"
   ]
  },
  {
   "cell_type": "code",
   "execution_count": 24,
   "id": "0821d2ca-c7e3-4529-9ae5-6851afb3997b",
   "metadata": {},
   "outputs": [
    {
     "name": "stdout",
     "output_type": "stream",
     "text": [
      "15150\n"
     ]
    }
   ],
   "source": [
    "net_gain = {'비요뜨':1300-480 ,'삼각김밥':2500 - 900, '콜라':800-380,'바나나':3200-1050,'홈런볼':1500-770}\n",
    "number = {'비요뜨':3 ,'삼각김밥':5, '콜라':6,'바나나':2,'홈런볼':4}\n",
    "cnt = sum(number.values())\n",
    "total_price = [net_gain['비요뜨']*number['비요뜨'],net_gain['삼각김밥']*number['삼각김밥'],net_gain['콜라']*number['콜라'], net_gain['바나나']*number['바나나'], net_gain['홈런볼']*number['홈런볼']]\n",
    "if cnt > 5:\n",
    "    end_price = sum(total_price) * 0.75\n",
    "    print(int(end_price))\n",
    "else:\n",
    "    print(sum(total_price))"
   ]
  },
  {
   "cell_type": "code",
   "execution_count": null,
   "id": "cc70e18f-8eae-445d-80d2-2b7eaa052b52",
   "metadata": {},
   "outputs": [],
   "source": []
  }
 ],
 "metadata": {
  "kernelspec": {
   "display_name": "Python 3 (ipykernel)",
   "language": "python",
   "name": "python3"
  },
  "language_info": {
   "codemirror_mode": {
    "name": "ipython",
    "version": 3
   },
   "file_extension": ".py",
   "mimetype": "text/x-python",
   "name": "python",
   "nbconvert_exporter": "python",
   "pygments_lexer": "ipython3",
   "version": "3.9.7"
  }
 },
 "nbformat": 4,
 "nbformat_minor": 5
}
