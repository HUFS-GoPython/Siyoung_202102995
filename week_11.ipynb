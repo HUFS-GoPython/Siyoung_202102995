{
 "cells": [
  {
   "cell_type": "markdown",
   "id": "bfd620ef-0333-40b4-9acf-e6791c242993",
   "metadata": {},
   "source": [
    "### 실습(지난 주 복습) --> 어떻게 해야 할 지 모르겠습니다.\n",
    "- 객체: 메모장(노트),              메모\n",
    "- 변수: 제목, 페이지번호, 메모     글귀\n",
    "- 메서드:추가, 삭제, 페이지번호    쓰기, 지우기\n",
    "\n",
    "- getter, setter 메모장 제목에 설정하기\n",
    "- '메모' 객체에 글귀를 추가한다\n",
    "- '메모장' 객체에 메모 추가\n",
    "- 페이지번호가 늘어난다.\n",
    "- 메모를 삭제하면 페이지번호가 줄어들고\n",
    "- 페이지가 300을 넘으면 메모 추가 못하게 막기\n",
    "- 페이지번호로 메모 찾기"
   ]
  },
  {
   "cell_type": "code",
   "execution_count": 7,
   "id": "a2fd848c-d62e-4105-a34f-07e255ce5883",
   "metadata": {},
   "outputs": [],
   "source": [
    "class Notebook:\n",
    "    def __init__(self, headline, pagenumber, Note):\n",
    "        self.headline = headline\n",
    "        self.pagenumber = pagenumber\n",
    "        self.Note = Note\n",
    "        \n",
    "    def add_note(self):\n",
    "        if self.Note.write():\n",
    "            self.pagenumber += 1\n",
    "    \n",
    "    def remove_note(self):\n",
    "        if self.Note.remove():\n",
    "            self.pagenumber -= 1\n",
    "    \n",
    "    def get_page_num(self):\n",
    "        pass\n",
    "    \n",
    "class Note:\n",
    "    def __init__(self,letter):\n",
    "        self.letter = letter\n",
    "        \n",
    "    def write(self, letter):\n",
    "        self.letter\n",
    "            \n",
    "    \n",
    "    def erase():\n",
    "        pass"
   ]
  },
  {
   "cell_type": "code",
   "execution_count": 8,
   "id": "8f096dba-172c-4080-bcd6-044c40370e45",
   "metadata": {},
   "outputs": [],
   "source": [
    "note1 = Note('kk')"
   ]
  },
  {
   "cell_type": "code",
   "execution_count": 9,
   "id": "40f4d688-cadb-4378-8d27-3e1b60a5e8e1",
   "metadata": {},
   "outputs": [],
   "source": [
    "notebook1 = Notebook('check', 0, note1)"
   ]
  },
  {
   "cell_type": "code",
   "execution_count": 12,
   "id": "ced993e6-3515-4dec-bf1f-a63a81149434",
   "metadata": {},
   "outputs": [
    {
     "data": {
      "text/plain": [
       "0"
      ]
     },
     "execution_count": 12,
     "metadata": {},
     "output_type": "execute_result"
    }
   ],
   "source": [
    "notebook1.pagenumber"
   ]
  },
  {
   "cell_type": "markdown",
   "id": "1964393c-6ed8-441a-8c20-7e3559f6f319",
   "metadata": {
    "tags": []
   },
   "source": [
    "### 상속(inheritance)\n",
    "- 이전 클래스의 내용을 추가, 변경해야 할 경우\n",
    "- 코드 재사용에 유용함\n",
    "- 지나치게 종속적이면 안됨.\n",
    "- 기준: parent, super, base. 부모클래스\n",
    "- 상속 받는 클래스: child, sub, derived. 자식클래스\n",
    "- vehicle <- car\n",
    "    - 부모클래스를 자식클래스가 구체화시킨다.\n",
    "    - Car is-a-Vehicle\n",
    "    - has-a: Notebook has-a-Note"
   ]
  },
  {
   "cell_type": "code",
   "execution_count": 14,
   "id": "f7dd79eb-e4de-4322-8e95-1102deb86a27",
   "metadata": {},
   "outputs": [],
   "source": [
    "class Country:\n",
    "    \n",
    "    name = '국가명'\n",
    "    population = '인구'\n",
    "    capital = '수도'\n",
    "    \n",
    "    def show(self):\n",
    "        print('국가 클래스의 메소드입니다.')\n",
    "    \n",
    "class Korea(Country):\n",
    "    \n",
    "    def __init__(self, name, population, capital):\n",
    "        self.name = name\n",
    "        self.population = population\n",
    "        self.capital = capital\n",
    "    def show_name(self):\n",
    "        print(self.name)"
   ]
  },
  {
   "cell_type": "code",
   "execution_count": 15,
   "id": "58e36f42-f377-425a-a62e-83d71a501ec1",
   "metadata": {},
   "outputs": [],
   "source": [
    "k = Korea('대한민국', 5000, 'seoul')"
   ]
  },
  {
   "cell_type": "code",
   "execution_count": 16,
   "id": "78fc6231-afde-4e74-9b4f-dc8199e47ed4",
   "metadata": {},
   "outputs": [
    {
     "name": "stdout",
     "output_type": "stream",
     "text": [
      "국가 클래스의 메소드입니다.\n"
     ]
    }
   ],
   "source": [
    "k.show()"
   ]
  },
  {
   "cell_type": "code",
   "execution_count": 17,
   "id": "667f2fbe-0434-46d4-af3b-f7076785a840",
   "metadata": {},
   "outputs": [
    {
     "data": {
      "text/plain": [
       "5000"
      ]
     },
     "execution_count": 17,
     "metadata": {},
     "output_type": "execute_result"
    }
   ],
   "source": [
    "k.population"
   ]
  },
  {
   "cell_type": "code",
   "execution_count": 18,
   "id": "cacba733-fcba-42b4-aa43-fd92f13113bf",
   "metadata": {},
   "outputs": [
    {
     "name": "stdout",
     "output_type": "stream",
     "text": [
      "대한민국\n"
     ]
    }
   ],
   "source": [
    "k.show_name()"
   ]
  },
  {
   "cell_type": "code",
   "execution_count": 19,
   "id": "bb55126a-c850-43f5-8f70-7757612d57f7",
   "metadata": {},
   "outputs": [
    {
     "data": {
      "text/plain": [
       "'seoul'"
      ]
     },
     "execution_count": 19,
     "metadata": {},
     "output_type": "execute_result"
    }
   ],
   "source": [
    "k.capital"
   ]
  },
  {
   "cell_type": "markdown",
   "id": "8d95836f-b8a6-4fae-97c7-7a73eaa8fba2",
   "metadata": {},
   "source": [
    "- 매소드 변경 => 오버라이드(override), 재정의"
   ]
  },
  {
   "cell_type": "code",
   "execution_count": 20,
   "id": "0a9ec4fd-2a9f-4bec-9cfe-a72f57eddd74",
   "metadata": {},
   "outputs": [],
   "source": [
    "class Country:\n",
    "    \n",
    "    name = '국가명'\n",
    "    population = '인구'\n",
    "    capital = '수도'\n",
    "    \n",
    "    def show(self):\n",
    "        print('국가 클래스의 메소드입니다.')\n",
    "    \n",
    "class Korea(Country):\n",
    "    \n",
    "    def __init__(self, name, population, capital):\n",
    "        self.name = name\n",
    "        self.population = population\n",
    "        self.capital = capital\n",
    "    def show_name(self):\n",
    "        super().show()\n",
    "        print(self.name)"
   ]
  },
  {
   "cell_type": "code",
   "execution_count": 21,
   "id": "e17855c2-38d4-495e-a635-cc20e12305d3",
   "metadata": {},
   "outputs": [],
   "source": [
    "k = Korea('대한민국', 5000, 'seoul')"
   ]
  },
  {
   "cell_type": "code",
   "execution_count": 22,
   "id": "e8ffd562-fe0f-464b-bdef-4a2e94bfa0fd",
   "metadata": {},
   "outputs": [
    {
     "name": "stdout",
     "output_type": "stream",
     "text": [
      "국가 클래스의 메소드입니다.\n",
      "대한민국\n"
     ]
    }
   ],
   "source": [
    "k.show_name()"
   ]
  },
  {
   "cell_type": "code",
   "execution_count": 23,
   "id": "6d9d1e07-95b9-4d90-94a9-781d358ea72d",
   "metadata": {},
   "outputs": [],
   "source": [
    "class Person:\n",
    "    # name\n",
    "    def __init__(self, name):\n",
    "        self.name = name\n",
    "\n",
    "class Male(Person):\n",
    "    def __init__(self, name):\n",
    "        super().__init__('Mr.' + name) #부모 클래스를 이용\n",
    "# self == 나 자신, super() == 부모"
   ]
  },
  {
   "cell_type": "code",
   "execution_count": 24,
   "id": "ca371a67-4bf0-48eb-ac6a-e4b9ab5c78c2",
   "metadata": {},
   "outputs": [
    {
     "data": {
      "text/plain": [
       "'Mr.kim'"
      ]
     },
     "execution_count": 24,
     "metadata": {},
     "output_type": "execute_result"
    }
   ],
   "source": [
    "Male('kim').name"
   ]
  },
  {
   "cell_type": "markdown",
   "id": "762730f2-4767-4620-b280-cc47702bdba6",
   "metadata": {},
   "source": [
    "### 다중 상속\n",
    "- method resolution order (MRO)"
   ]
  },
  {
   "cell_type": "code",
   "execution_count": 25,
   "id": "ba83d754-ee79-46ae-9b2a-a2c21ece61ba",
   "metadata": {},
   "outputs": [],
   "source": [
    "class Animal:\n",
    "    def says(self):\n",
    "        return '동물이 운다'\n",
    "    \n",
    "class Horse(Animal):\n",
    "    def says(self):\n",
    "        print(super().says())\n",
    "        print( '히히힝')\n",
    "        \n",
    "class Donkey(Animal):\n",
    "    def says(self):\n",
    "        print(super().says())\n",
    "        print('히이호') \n",
    "\n",
    "class Mule(Donkey, Horse):\n",
    "    pass\n",
    "class Hinny(Horse, Donkey):\n",
    "    pass"
   ]
  },
  {
   "cell_type": "code",
   "execution_count": 26,
   "id": "f61946c1-e59f-46ee-a4f5-34e2ef94e4b5",
   "metadata": {},
   "outputs": [
    {
     "name": "stdout",
     "output_type": "stream",
     "text": [
      "동물이 운다\n",
      "히히힝\n",
      "None\n",
      "히이호\n"
     ]
    }
   ],
   "source": [
    "Mule().says()"
   ]
  },
  {
   "cell_type": "code",
   "execution_count": 27,
   "id": "9e19470d-28ec-4aac-b1a8-6c656a2bf8c0",
   "metadata": {},
   "outputs": [
    {
     "name": "stdout",
     "output_type": "stream",
     "text": [
      "동물이 운다\n",
      "히이호\n",
      "None\n",
      "히히힝\n"
     ]
    }
   ],
   "source": [
    "Hinny().says()"
   ]
  },
  {
   "cell_type": "code",
   "execution_count": 28,
   "id": "5a79625b-4188-4f33-8810-c7ae3f1d1844",
   "metadata": {},
   "outputs": [
    {
     "name": "stdout",
     "output_type": "stream",
     "text": [
      "동물이 운다\n",
      "히이호\n"
     ]
    }
   ],
   "source": [
    "Donkey().says()"
   ]
  },
  {
   "cell_type": "code",
   "execution_count": 29,
   "id": "67060092-d31e-4d68-b355-13cca66548ea",
   "metadata": {},
   "outputs": [
    {
     "name": "stdout",
     "output_type": "stream",
     "text": [
      "동물이 운다\n",
      "히히힝\n"
     ]
    }
   ],
   "source": [
    "Horse().says()"
   ]
  },
  {
   "cell_type": "markdown",
   "id": "7abdc92d-b7fb-4ef6-88ed-50f26e45fc73",
   "metadata": {
    "tags": []
   },
   "source": [
    "### 다형성, duck typing"
   ]
  },
  {
   "cell_type": "code",
   "execution_count": 30,
   "id": "06603a87-b146-43ab-9de0-2aaa5b00d93a",
   "metadata": {},
   "outputs": [
    {
     "name": "stdout",
     "output_type": "stream",
     "text": [
      "동물이 운다\n",
      "동물이 운다\n",
      "히히힝\n",
      "None\n",
      "동물이 운다\n",
      "히히힝\n",
      "None\n",
      "히이호\n",
      "None\n"
     ]
    }
   ],
   "source": [
    "for animal in [Animal(), Horse(), Mule()]:\n",
    "    print(animal.says())"
   ]
  },
  {
   "cell_type": "markdown",
   "id": "ba852382-ec58-4349-996f-01377e85cf54",
   "metadata": {},
   "source": [
    "### Question\n",
    "- None이 출력되는 이유를 모르겠습니다."
   ]
  },
  {
   "cell_type": "markdown",
   "id": "a0bcd323-5a1e-43ae-85b1-41ba5e04bb40",
   "metadata": {},
   "source": [
    "### 메서드\n",
    "- 인스턴스 메서드\n",
    "    - 첫 번째 인수가 self인 메서드\n",
    "    - 우리가 지금까지 배운 메서드\n",
    "    - 객체 생성 -> 사용 가능\n",
    "- 클래스 메서드\n",
    "    - 객체마다 달라지지 않음\n",
    "    - 모든 객체가 공유하는 (클래스) 변수, 메소드\n",
    "    - cls\n",
    "    - 데코레이터 @classmethod를 사용한다.\n",
    "    - 객체 생성하지 않고 메서드에 접근 가능!!\n",
    "- 정적 메서드\n",
    "    - 1번째 인수가 self 아님\n",
    "    - 클래스나 인스턴스에 접근하지 않는 메서드\n",
    "    - 비슷한 유틸리티라서 클래스 내에 묶어둘 때 사용한다.\n",
    "    - 객체 생성하지 않고 메서드 접근 가능!\n",
    "    - @staticmethod\n",
    "- 추상 메서드\n",
    "    - abstract\n",
    "    - @abstractmethod\n",
    "    - abc 모듈을 import 해야한다.\n",
    "    - 'etaclass=ABCMeta'를 ()안에 넣어서 사용\n",
    "    - 추상메소드를 추가한 후 객체를 생성하면 에러가 발생"
   ]
  },
  {
   "cell_type": "code",
   "execution_count": 31,
   "id": "11479c10-e208-4031-9617-37773da9bc20",
   "metadata": {},
   "outputs": [],
   "source": [
    "#classmethod\n",
    "class Person:\n",
    "    money = 0\n",
    "    @classmethod\n",
    "    def work(cls):\n",
    "        Person.money += 1000"
   ]
  },
  {
   "cell_type": "code",
   "execution_count": 32,
   "id": "4d37fd54-3b25-48d3-a06a-3ac68c05ba00",
   "metadata": {},
   "outputs": [],
   "source": [
    "james = Person()"
   ]
  },
  {
   "cell_type": "code",
   "execution_count": 33,
   "id": "7c9da085-ecbe-4de2-ac8f-d4946d48562a",
   "metadata": {},
   "outputs": [],
   "source": [
    "james.work()"
   ]
  },
  {
   "cell_type": "code",
   "execution_count": 34,
   "id": "4f74f82d-63e1-4de4-baa1-3a7ecc4b6097",
   "metadata": {},
   "outputs": [],
   "source": [
    "james.work()"
   ]
  },
  {
   "cell_type": "code",
   "execution_count": 35,
   "id": "8079cc98-7053-4bd5-80a0-e188ed7413b1",
   "metadata": {},
   "outputs": [
    {
     "data": {
      "text/plain": [
       "2000"
      ]
     },
     "execution_count": 35,
     "metadata": {},
     "output_type": "execute_result"
    }
   ],
   "source": [
    "james.money"
   ]
  },
  {
   "cell_type": "code",
   "execution_count": 36,
   "id": "9b074c8e-6928-4b06-afe7-bca08474fda5",
   "metadata": {},
   "outputs": [],
   "source": [
    "sera = Person()"
   ]
  },
  {
   "cell_type": "code",
   "execution_count": 37,
   "id": "aff2c07a-6cac-4f4f-9d02-32149d2e2eee",
   "metadata": {},
   "outputs": [],
   "source": [
    "sera.work()"
   ]
  },
  {
   "cell_type": "code",
   "execution_count": 38,
   "id": "f99df75d-89ef-40bd-93c1-98c9cf05d727",
   "metadata": {},
   "outputs": [
    {
     "data": {
      "text/plain": [
       "3000"
      ]
     },
     "execution_count": 38,
     "metadata": {},
     "output_type": "execute_result"
    }
   ],
   "source": [
    "sera.money"
   ]
  },
  {
   "cell_type": "code",
   "execution_count": 39,
   "id": "17088b96-a0e9-4268-ad26-80f3c725e4b4",
   "metadata": {},
   "outputs": [],
   "source": [
    "class Person:\n",
    "    money = 0\n",
    "    def __init__(self):\n",
    "        Person.money += 1000\n",
    "    @classmethod\n",
    "    def work(cls):\n",
    "        print(Person.money)"
   ]
  },
  {
   "cell_type": "code",
   "execution_count": 40,
   "id": "10c25157-c8e3-4be0-ba61-8753979699f0",
   "metadata": {},
   "outputs": [],
   "source": [
    "james = Person()"
   ]
  },
  {
   "cell_type": "code",
   "execution_count": 41,
   "id": "617ee50a-73eb-44cb-8772-cc2603e4c0c7",
   "metadata": {},
   "outputs": [
    {
     "name": "stdout",
     "output_type": "stream",
     "text": [
      "1000\n"
     ]
    }
   ],
   "source": [
    "james.work()"
   ]
  },
  {
   "cell_type": "code",
   "execution_count": 42,
   "id": "bdedeea5-1b95-4177-ae02-6fbe2da8bb3f",
   "metadata": {},
   "outputs": [
    {
     "name": "stdout",
     "output_type": "stream",
     "text": [
      "1000\n"
     ]
    }
   ],
   "source": [
    "james.work()"
   ]
  },
  {
   "cell_type": "code",
   "execution_count": 43,
   "id": "800bfe64-daed-400a-b69f-35dcddcd2c15",
   "metadata": {},
   "outputs": [
    {
     "data": {
      "text/plain": [
       "<__main__.Person at 0x1d0cc4760d0>"
      ]
     },
     "execution_count": 43,
     "metadata": {},
     "output_type": "execute_result"
    }
   ],
   "source": [
    "Person()"
   ]
  },
  {
   "cell_type": "code",
   "execution_count": 44,
   "id": "52cc6b7e-7d1f-45b8-99d4-c996b99cfd76",
   "metadata": {},
   "outputs": [
    {
     "name": "stdout",
     "output_type": "stream",
     "text": [
      "2000\n"
     ]
    }
   ],
   "source": [
    "james.work()"
   ]
  },
  {
   "cell_type": "code",
   "execution_count": 45,
   "id": "3c1acbe4-fdff-4c2b-a7ee-9690e2111187",
   "metadata": {},
   "outputs": [],
   "source": [
    "class Person:\n",
    "    def __init__(self, name, age, money):\n",
    "        self.name = name\n",
    "        self.money = money\n",
    "        self.age = age\n",
    "    # tuple로 인자를 받아서 객체를 생성\n",
    "    @classmethod\n",
    "    def tuple_object(cls, args):\n",
    "        return cls(args[0], args[1], args[2])\n",
    "    \n",
    "name = 'jingu'\n",
    "age = 55\n",
    "money = 100000000\n",
    "\n",
    "kim = Person(name, age, money)\n",
    "\n",
    "info = name, age, money\n",
    "kim = Person.tuple_object(info)"
   ]
  },
  {
   "cell_type": "code",
   "execution_count": 46,
   "id": "231df055-974b-4fd7-91dc-03f0e92c97b8",
   "metadata": {},
   "outputs": [
    {
     "data": {
      "text/plain": [
       "'jingu'"
      ]
     },
     "execution_count": 46,
     "metadata": {},
     "output_type": "execute_result"
    }
   ],
   "source": [
    "kim.name"
   ]
  },
  {
   "cell_type": "code",
   "execution_count": 47,
   "id": "34ebbad2-9e0d-462c-9e31-7fd5c4fcdf17",
   "metadata": {},
   "outputs": [
    {
     "data": {
      "text/plain": [
       "55"
      ]
     },
     "execution_count": 47,
     "metadata": {},
     "output_type": "execute_result"
    }
   ],
   "source": [
    "kim.age"
   ]
  },
  {
   "cell_type": "code",
   "execution_count": 48,
   "id": "3ae055ca-9512-43f8-8b79-87a9bc4f4ade",
   "metadata": {},
   "outputs": [
    {
     "data": {
      "text/plain": [
       "100000000"
      ]
     },
     "execution_count": 48,
     "metadata": {},
     "output_type": "execute_result"
    }
   ],
   "source": [
    "kim.money"
   ]
  },
  {
   "cell_type": "code",
   "execution_count": 51,
   "id": "49544011-1158-4a38-aa72-c340a8eff62b",
   "metadata": {},
   "outputs": [],
   "source": [
    "#정적 메서드\n",
    "class Animal:\n",
    "    @staticmethod\n",
    "    def says():\n",
    "        return '동물이 운다'\n",
    "    @staticmethod\n",
    "    def run():\n",
    "        return '동물이 달린다.'"
   ]
  },
  {
   "cell_type": "code",
   "execution_count": 52,
   "id": "6e6894b0-e413-42e2-9378-29029026ce4d",
   "metadata": {},
   "outputs": [
    {
     "data": {
      "text/plain": [
       "'동물이 운다'"
      ]
     },
     "execution_count": 52,
     "metadata": {},
     "output_type": "execute_result"
    }
   ],
   "source": [
    "Animal.says()"
   ]
  },
  {
   "cell_type": "code",
   "execution_count": 53,
   "id": "1cd751ec-af59-4c97-a509-e3d800d7e032",
   "metadata": {},
   "outputs": [
    {
     "data": {
      "text/plain": [
       "'동물이 달린다.'"
      ]
     },
     "execution_count": 53,
     "metadata": {},
     "output_type": "execute_result"
    }
   ],
   "source": [
    "Animal.run()"
   ]
  },
  {
   "cell_type": "code",
   "execution_count": 82,
   "id": "0c5dbfff-6b37-4342-9a6f-13eebb2e35bf",
   "metadata": {},
   "outputs": [],
   "source": [
    "# 추상메서드\n",
    "from abc import * #추상클래스 실현을 위해서 반드시 필요\n",
    "class AbstractPerson(metaclass=ABCMeta):\n",
    "    def __init__(self, name):\n",
    "        name = '고객 이름'\n",
    "    \n",
    "    @abstractmethod\n",
    "    def name(self):\n",
    "        print('이름을 조회하는 메서드')\n",
    "\n",
    "class Person(AbstractPerson):\n",
    "    \n",
    "    def __init__(self, input_name):\n",
    "        self.input_name = input_name\n",
    "    \n",
    "    def name(self):\n",
    "        return self.input_name\n",
    "        "
   ]
  },
  {
   "cell_type": "code",
   "execution_count": 83,
   "id": "92a8d2b5-d263-48a2-b0c0-39fbf6cadf3a",
   "metadata": {},
   "outputs": [],
   "source": [
    "kim = Person('jingu')"
   ]
  },
  {
   "cell_type": "code",
   "execution_count": 85,
   "id": "2f2dedcf-c374-4d1b-bc20-2bac79933040",
   "metadata": {},
   "outputs": [
    {
     "data": {
      "text/plain": [
       "'jingu'"
      ]
     },
     "execution_count": 85,
     "metadata": {},
     "output_type": "execute_result"
    }
   ],
   "source": [
    "kim.name()"
   ]
  },
  {
   "cell_type": "markdown",
   "id": "ec503b7c-c1f6-40b0-8516-f51707044e51",
   "metadata": {},
   "source": [
    "### 매직메소드\n",
    "- __init__ : special method\n",
    "- object 클래스 메서드 재정의 하는 것\n",
    "    - __str__: 인스턴스를 스트링으로 출력\n",
    "    - __repr__: 사용자가 이해할 수 있게 객체를 출력하고 싶을 때 사용한다."
   ]
  },
  {
   "cell_type": "code",
   "execution_count": 86,
   "id": "b7ffb9f5-e9ab-470b-87d6-7beb70ffcb27",
   "metadata": {},
   "outputs": [],
   "source": [
    "class Person:\n",
    "    def __init__(self, name):\n",
    "        self.name = name\n",
    "    def __str__(self):\n",
    "        return self.name\n",
    "    def __repr__(self):\n",
    "        return f'Person({self.name})'"
   ]
  },
  {
   "cell_type": "code",
   "execution_count": 87,
   "id": "a2733e46-ec87-4018-a0b9-e8bb6af98d43",
   "metadata": {},
   "outputs": [],
   "source": [
    "kim = Person('jingu')"
   ]
  },
  {
   "cell_type": "code",
   "execution_count": 88,
   "id": "808bb116-8e98-4ae4-8d61-7a40c23e53b4",
   "metadata": {},
   "outputs": [
    {
     "data": {
      "text/plain": [
       "Person(jingu)"
      ]
     },
     "execution_count": 88,
     "metadata": {},
     "output_type": "execute_result"
    }
   ],
   "source": [
    "kim"
   ]
  },
  {
   "cell_type": "code",
   "execution_count": 90,
   "id": "879f34ad-e7d2-4332-a4af-224b141616d0",
   "metadata": {},
   "outputs": [
    {
     "name": "stdout",
     "output_type": "stream",
     "text": [
      "jingu <class 'str'>\n"
     ]
    }
   ],
   "source": [
    "print(kim.name, type(kim.name))"
   ]
  },
  {
   "cell_type": "markdown",
   "id": "c28fa125-4488-47c6-8244-cd22c5fae8ff",
   "metadata": {},
   "source": [
    "### namedtuple, dataclass\n",
    "- 변수만 있는 클래스 설정할 때 더 효율적으로 사용하는 수단\n",
    "- 딕셔너리 키와 같은 기능\n",
    "- 불변객체"
   ]
  },
  {
   "cell_type": "code",
   "execution_count": 91,
   "id": "e264024f-0244-42ac-ae4f-a9ac217e440c",
   "metadata": {},
   "outputs": [],
   "source": [
    "from collections import namedtuple\n",
    "\n",
    "Item = namedtuple('Item', 'name price quantity discount_rate')"
   ]
  },
  {
   "cell_type": "code",
   "execution_count": 92,
   "id": "4716b752-590f-40e9-8fff-ea79171c1305",
   "metadata": {},
   "outputs": [],
   "source": [
    "new_item = Item('gun', 500, 50, 5)"
   ]
  },
  {
   "cell_type": "code",
   "execution_count": 93,
   "id": "2092aa38-021a-4951-bf6a-3bb156ae8f86",
   "metadata": {},
   "outputs": [
    {
     "data": {
      "text/plain": [
       "'gun'"
      ]
     },
     "execution_count": 93,
     "metadata": {},
     "output_type": "execute_result"
    }
   ],
   "source": [
    "new_item.name"
   ]
  },
  {
   "cell_type": "code",
   "execution_count": 94,
   "id": "7e80fbb1-6421-4eec-be95-f53ab2a7d0ea",
   "metadata": {},
   "outputs": [
    {
     "data": {
      "text/plain": [
       "5"
      ]
     },
     "execution_count": 94,
     "metadata": {},
     "output_type": "execute_result"
    }
   ],
   "source": [
    "new_item.discount_rate"
   ]
  },
  {
   "cell_type": "code",
   "execution_count": 95,
   "id": "7cb71ed0-30a1-4610-b549-4aa725b413af",
   "metadata": {},
   "outputs": [],
   "source": [
    "from dataclasses import dataclass\n",
    "\n",
    "@dataclass\n",
    "class Item:\n",
    "    name: str\n",
    "    price: int\n",
    "    quantity: int\n",
    "    discount_rate: float"
   ]
  },
  {
   "cell_type": "code",
   "execution_count": 96,
   "id": "5d12ea0c-1122-4566-b757-967b36a8d472",
   "metadata": {},
   "outputs": [],
   "source": [
    "second_item = Item('sword', 300, 50, 10)"
   ]
  },
  {
   "cell_type": "code",
   "execution_count": 97,
   "id": "da8f8ae5-9d2e-4a2e-9963-b0176b260abe",
   "metadata": {},
   "outputs": [
    {
     "data": {
      "text/plain": [
       "'sword'"
      ]
     },
     "execution_count": 97,
     "metadata": {},
     "output_type": "execute_result"
    }
   ],
   "source": [
    "second_item.name"
   ]
  },
  {
   "cell_type": "code",
   "execution_count": 98,
   "id": "cf325945-691e-4050-88ec-95811090087a",
   "metadata": {},
   "outputs": [
    {
     "data": {
      "text/plain": [
       "300"
      ]
     },
     "execution_count": 98,
     "metadata": {},
     "output_type": "execute_result"
    }
   ],
   "source": [
    "second_item.price"
   ]
  },
  {
   "cell_type": "code",
   "execution_count": 99,
   "id": "964a32b1-5b38-463b-8c6a-22e02b0fbb5c",
   "metadata": {},
   "outputs": [
    {
     "data": {
      "text/plain": [
       "10"
      ]
     },
     "execution_count": 99,
     "metadata": {},
     "output_type": "execute_result"
    }
   ],
   "source": [
    "second_item.discount_rate"
   ]
  }
 ],
 "metadata": {
  "kernelspec": {
   "display_name": "Python 3 (ipykernel)",
   "language": "python",
   "name": "python3"
  },
  "language_info": {
   "codemirror_mode": {
    "name": "ipython",
    "version": 3
   },
   "file_extension": ".py",
   "mimetype": "text/x-python",
   "name": "python",
   "nbconvert_exporter": "python",
   "pygments_lexer": "ipython3",
   "version": "3.9.7"
  }
 },
 "nbformat": 4,
 "nbformat_minor": 5
}
