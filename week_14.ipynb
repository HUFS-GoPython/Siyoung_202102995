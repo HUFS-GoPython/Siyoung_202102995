{
 "cells": [
  {
   "cell_type": "markdown",
   "id": "3c454763-75b9-4631-aa7a-3bc5bcc03b2c",
   "metadata": {},
   "source": [
    "#### 함수II"
   ]
  },
  {
   "cell_type": "code",
   "execution_count": 1,
   "id": "8fe77930-7a38-4375-a0c8-6ae816685560",
   "metadata": {},
   "outputs": [],
   "source": [
    "#1. 중첩 함수: 함수 안에 함수가 또 중첩되어 있는 함수"
   ]
  },
  {
   "cell_type": "code",
   "execution_count": 3,
   "id": "95b017be-06cd-4b20-b4ad-97b7be8a529c",
   "metadata": {},
   "outputs": [],
   "source": [
    "def outer(a,b):\n",
    "    def inner(c,d):\n",
    "        return c + d\n",
    "    return inner(a, b)"
   ]
  },
  {
   "cell_type": "code",
   "execution_count": 4,
   "id": "7c465d67-23d6-4f27-962f-6e30edb30a4e",
   "metadata": {},
   "outputs": [
    {
     "data": {
      "text/plain": [
       "3"
      ]
     },
     "execution_count": 4,
     "metadata": {},
     "output_type": "execute_result"
    }
   ],
   "source": [
    "outer(1,2)"
   ]
  },
  {
   "cell_type": "markdown",
   "id": "584567e6-cc16-44cf-82f7-84f8ead6ead4",
   "metadata": {},
   "source": [
    "클로저\n",
    "- 자신을 둘러싼 scope (name space)의 상태값을 기억하는 함수\n",
    "- 메모리 효율적 사용 (함수 호출 시 꺼내쓸 수 있다.)\n",
    "- 조건\n",
    "    - 중첩함수여야 함\n",
    "    - 외부함수의 상태값 참조해야 함\n",
    "    - 외부함수가 내부함수를 반환해야 함"
   ]
  },
  {
   "cell_type": "code",
   "execution_count": 6,
   "id": "b24a3fd7-9489-4977-bc28-a989ebdf6f9e",
   "metadata": {},
   "outputs": [],
   "source": [
    "def multiply(x):\n",
    "    def inner(y):\n",
    "        return x * y\n",
    "    return inner(10)"
   ]
  },
  {
   "cell_type": "code",
   "execution_count": 7,
   "id": "c25b3b38-3359-4d61-9c87-0f78f9cba34e",
   "metadata": {},
   "outputs": [
    {
     "data": {
      "text/plain": [
       "70"
      ]
     },
     "execution_count": 7,
     "metadata": {},
     "output_type": "execute_result"
    }
   ],
   "source": [
    "multiply(7)"
   ]
  },
  {
   "cell_type": "code",
   "execution_count": 8,
   "id": "d7fedfc3-147e-4d6b-a7ba-cec72a6a5775",
   "metadata": {},
   "outputs": [],
   "source": [
    "def multiply(x):\n",
    "    def inner(y):\n",
    "        return x * y\n",
    "    return inner"
   ]
  },
  {
   "cell_type": "code",
   "execution_count": 9,
   "id": "72cbe6f9-f24c-4aef-baaa-64f70c1385f9",
   "metadata": {},
   "outputs": [],
   "source": [
    "m6 = multiply(6)"
   ]
  },
  {
   "cell_type": "code",
   "execution_count": 10,
   "id": "5f48a007-9407-43e3-8108-48ff18eef224",
   "metadata": {},
   "outputs": [
    {
     "data": {
      "text/plain": [
       "42"
      ]
     },
     "execution_count": 10,
     "metadata": {},
     "output_type": "execute_result"
    }
   ],
   "source": [
    "m6(7)"
   ]
  },
  {
   "cell_type": "code",
   "execution_count": 11,
   "id": "dcde3099-1f72-4cf9-97ee-0f1b840fcfd8",
   "metadata": {},
   "outputs": [
    {
     "data": {
      "text/plain": [
       "15"
      ]
     },
     "execution_count": 11,
     "metadata": {},
     "output_type": "execute_result"
    }
   ],
   "source": [
    "multiply(5)(3)"
   ]
  },
  {
   "cell_type": "markdown",
   "id": "1016e3e3-12a7-40eb-89e3-eab7a7845dad",
   "metadata": {},
   "source": [
    "데코레이터\n",
    "- 메인 함수에 또 다른 함수를 데코레이터로 선언하여 사용할 수 있음\n",
    "- 목적:\n",
    "    - 재사용, 가독성, 직관적임"
   ]
  },
  {
   "cell_type": "code",
   "execution_count": 20,
   "id": "dd5e76f6-47a0-4f2e-86f7-540cf5f0448f",
   "metadata": {},
   "outputs": [],
   "source": [
    "def square(func):\n",
    "    def inner(*args):\n",
    "        result = args[0] + args[1]\n",
    "        return result * result\n",
    "    return inner\n",
    "\n",
    "@square\n",
    "def add(a, b):\n",
    "    return a + b"
   ]
  },
  {
   "cell_type": "code",
   "execution_count": 21,
   "id": "a3ab45cc-d38d-4ecc-a853-a43d0d8d0d94",
   "metadata": {},
   "outputs": [
    {
     "data": {
      "text/plain": [
       "144"
      ]
     },
     "execution_count": 21,
     "metadata": {},
     "output_type": "execute_result"
    }
   ],
   "source": [
    "add(2,10)"
   ]
  },
  {
   "cell_type": "markdown",
   "id": "1af63cb4-3a23-4007-9904-45cd4d7c6c37",
   "metadata": {},
   "source": [
    "#### scope: global, local, nonlocal\n",
    "- 내부함수는 외부함수의 인자를 \"참조\"만 할 수 있다. (읽기만 가능)\n",
    "- nonlocal 예약어를 활용 => 지역 내의 지역"
   ]
  },
  {
   "cell_type": "code",
   "execution_count": 39,
   "id": "86ec25bf-cf03-40a6-99c1-bb55b5857099",
   "metadata": {},
   "outputs": [],
   "source": [
    "z = 3\n",
    "def outer(x):\n",
    "    y = 4\n",
    "    def inner():\n",
    "        x  = 1000\n",
    "        return x \n",
    "    return x"
   ]
  },
  {
   "cell_type": "code",
   "execution_count": 40,
   "id": "7b4a514e-5203-465b-8ed2-0c5f3f6c5df8",
   "metadata": {},
   "outputs": [
    {
     "data": {
      "text/plain": [
       "10"
      ]
     },
     "execution_count": 40,
     "metadata": {},
     "output_type": "execute_result"
    }
   ],
   "source": [
    "outer(10)"
   ]
  },
  {
   "cell_type": "code",
   "execution_count": 41,
   "id": "02d642b2-3858-4a72-b13b-e4acd1fc7b76",
   "metadata": {},
   "outputs": [],
   "source": [
    "z = 3\n",
    "def outer(x):\n",
    "    y = 4\n",
    "    def inner():\n",
    "        nonlocal x\n",
    "        x  = 1000\n",
    "        return x \n",
    "    return inner()"
   ]
  },
  {
   "cell_type": "code",
   "execution_count": 42,
   "id": "12416061-3090-4bbf-b9b3-3edf54ab9442",
   "metadata": {},
   "outputs": [
    {
     "data": {
      "text/plain": [
       "1000"
      ]
     },
     "execution_count": 42,
     "metadata": {},
     "output_type": "execute_result"
    }
   ],
   "source": [
    "outer(20)"
   ]
  },
  {
   "cell_type": "code",
   "execution_count": 49,
   "id": "3123735a-36ee-4af4-b9fd-cf3aa207f687",
   "metadata": {},
   "outputs": [],
   "source": [
    "def outer(x):\n",
    "    y = 4\n",
    "    def inner():\n",
    "        nonlocal x\n",
    "        x += 1\n",
    "        return x \n",
    "    return inner()"
   ]
  },
  {
   "cell_type": "code",
   "execution_count": 50,
   "id": "ef6d0c8d-6d1e-4108-8f8e-3257b6ade707",
   "metadata": {},
   "outputs": [
    {
     "data": {
      "text/plain": [
       "11"
      ]
     },
     "execution_count": 50,
     "metadata": {},
     "output_type": "execute_result"
    }
   ],
   "source": [
    "outer(10)"
   ]
  },
  {
   "cell_type": "code",
   "execution_count": 52,
   "id": "d9d6e66f-c313-4119-96c6-ed85747fc031",
   "metadata": {},
   "outputs": [],
   "source": [
    "def outer(x):\n",
    "    y = 4\n",
    "    def inner():\n",
    "        x += 1\n",
    "        return x \n",
    "    return inner()"
   ]
  },
  {
   "cell_type": "code",
   "execution_count": 55,
   "id": "3f13bfa7-535e-4356-8ede-db8ff00b7946",
   "metadata": {},
   "outputs": [],
   "source": [
    "#outer(10) # nonlocal이 없으면 계산이 안됨"
   ]
  },
  {
   "cell_type": "code",
   "execution_count": 68,
   "id": "ba404b96-6f0f-4667-bd3d-c6d09a3c9472",
   "metadata": {},
   "outputs": [],
   "source": [
    "def make_item_list(item): # 가변 인자 -> 리턴 없이도 리턴 얻음\n",
    "    item_list.append(item)\n",
    "make_item_list('스크류바')"
   ]
  },
  {
   "cell_type": "code",
   "execution_count": 69,
   "id": "15f8ad7b-f662-4f19-ac2c-f9d4611a286b",
   "metadata": {},
   "outputs": [
    {
     "data": {
      "text/plain": [
       "['스크류바',\n",
       " '스크류바',\n",
       " '캔디바',\n",
       " '캔디바',\n",
       " '캔디바',\n",
       " '캔디바',\n",
       " '수박바',\n",
       " '수박바',\n",
       " '수박바',\n",
       " '수박바',\n",
       " '수박바',\n",
       " '스크류바']"
      ]
     },
     "execution_count": 69,
     "metadata": {},
     "output_type": "execute_result"
    }
   ],
   "source": [
    "item_list"
   ]
  },
  {
   "cell_type": "code",
   "execution_count": 70,
   "id": "fc5eb266-d268-407b-a29b-a34b456d2ea6",
   "metadata": {},
   "outputs": [],
   "source": [
    "make_item_list('캔디바')"
   ]
  },
  {
   "cell_type": "code",
   "execution_count": 71,
   "id": "87ad0a0a-191d-4205-a43b-960509fd15ca",
   "metadata": {},
   "outputs": [
    {
     "data": {
      "text/plain": [
       "['스크류바',\n",
       " '스크류바',\n",
       " '캔디바',\n",
       " '캔디바',\n",
       " '캔디바',\n",
       " '캔디바',\n",
       " '수박바',\n",
       " '수박바',\n",
       " '수박바',\n",
       " '수박바',\n",
       " '수박바',\n",
       " '스크류바',\n",
       " '캔디바']"
      ]
     },
     "execution_count": 71,
     "metadata": {},
     "output_type": "execute_result"
    }
   ],
   "source": [
    "item_list"
   ]
  },
  {
   "cell_type": "code",
   "execution_count": 72,
   "id": "3ed794b8-a4d7-441b-937a-ba18fd986686",
   "metadata": {},
   "outputs": [
    {
     "data": {
      "text/plain": [
       "['스크류바',\n",
       " '스크류바',\n",
       " '캔디바',\n",
       " '캔디바',\n",
       " '캔디바',\n",
       " '캔디바',\n",
       " '수박바',\n",
       " '수박바',\n",
       " '수박바',\n",
       " '수박바',\n",
       " '수박바',\n",
       " '스크류바',\n",
       " '캔디바',\n",
       " '캔디바',\n",
       " '캔디바',\n",
       " '캔디바']"
      ]
     },
     "execution_count": 72,
     "metadata": {},
     "output_type": "execute_result"
    }
   ],
   "source": [
    "make_item_list('캔디바')\n",
    "make_item_list('캔디바')\n",
    "make_item_list('캔디바')\n",
    "item_list"
   ]
  },
  {
   "cell_type": "code",
   "execution_count": 73,
   "id": "7cf03215-c6f5-4943-899f-41be9011e010",
   "metadata": {},
   "outputs": [],
   "source": [
    "for i in range(5):\n",
    "    make_item_list('수박바')"
   ]
  },
  {
   "cell_type": "code",
   "execution_count": 75,
   "id": "4dce0c87-ba1c-41e5-a745-dfc5fb6aa183",
   "metadata": {},
   "outputs": [
    {
     "data": {
      "text/plain": [
       "['스크류바',\n",
       " '스크류바',\n",
       " '캔디바',\n",
       " '캔디바',\n",
       " '캔디바',\n",
       " '캔디바',\n",
       " '수박바',\n",
       " '수박바',\n",
       " '수박바',\n",
       " '수박바',\n",
       " '수박바',\n",
       " '스크류바',\n",
       " '캔디바',\n",
       " '캔디바',\n",
       " '캔디바',\n",
       " '캔디바',\n",
       " '수박바',\n",
       " '수박바',\n",
       " '수박바',\n",
       " '수박바',\n",
       " '수박바']"
      ]
     },
     "execution_count": 75,
     "metadata": {},
     "output_type": "execute_result"
    }
   ],
   "source": [
    "item_list"
   ]
  },
  {
   "cell_type": "code",
   "execution_count": 77,
   "id": "38ea191c-7766-4609-8b02-cc620375911a",
   "metadata": {},
   "outputs": [
    {
     "data": {
      "text/plain": [
       "[]"
      ]
     },
     "execution_count": 77,
     "metadata": {},
     "output_type": "execute_result"
    }
   ],
   "source": [
    "item_list.clear()\n",
    "item_list"
   ]
  },
  {
   "cell_type": "markdown",
   "id": "c2bf2b42-7802-44f7-a646-f48274fdf77e",
   "metadata": {},
   "source": [
    "### 실습\n",
    "1. 함수 : 차 속도, 제한 속도를 비교해서 true / false\n",
    "\n",
    "2. 데코레이터 함수\n",
    "- 만약 제한 속도를 초과했다면 얼마나 초과했는지 프린트하는 함수\n",
    "- 예: 100, 80\n",
    "- 20 km/h 초과\n"
   ]
  },
  {
   "cell_type": "code",
   "execution_count": 78,
   "id": "34775ff2-d485-412b-8069-79623f356f46",
   "metadata": {},
   "outputs": [],
   "source": [
    "def gap(func):\n",
    "    def count(*args):\n",
    "        if not func(*args):\n",
    "            result = 'pass'\n",
    "        else:\n",
    "            result = args[0] - args[1]\n",
    "        return f'{result}km/h 초과'\n",
    "    return count\n",
    "\n",
    "@gap\n",
    "def check(speed, limit):\n",
    "    return speed > limit"
   ]
  },
  {
   "cell_type": "code",
   "execution_count": 79,
   "id": "4b8e4fea-0866-496b-9683-472dbb4264c4",
   "metadata": {},
   "outputs": [
    {
     "data": {
      "text/plain": [
       "'20km/h 초과'"
      ]
     },
     "execution_count": 79,
     "metadata": {},
     "output_type": "execute_result"
    }
   ],
   "source": [
    "check(100,80)"
   ]
  },
  {
   "cell_type": "code",
   "execution_count": 131,
   "id": "5768ef7e-2c68-462a-8e43-fe606d09b1c1",
   "metadata": {},
   "outputs": [],
   "source": [
    "# args -> kargs로  ======> 값을 거꾸로 입력해도 전부 key로 고정되어 있어서 훨씬 더 정확\n",
    "def gap(func):\n",
    "    def count(**kargs):\n",
    "        if not func(**kargs):\n",
    "            return 'pass'\n",
    "        else:\n",
    "            result = kargs['speed'] - kargs['limit']\n",
    "        return f'{result}km/h 초과'\n",
    "    return count\n",
    "\n",
    "@gap\n",
    "def check(**kargs):\n",
    "    return kargs['speed'] > kargs['limit']"
   ]
  },
  {
   "cell_type": "code",
   "execution_count": 132,
   "id": "11a7b4fb-6784-4383-a045-8be3624dd7df",
   "metadata": {},
   "outputs": [
    {
     "data": {
      "text/plain": [
       "'20km/h 초과'"
      ]
     },
     "execution_count": 132,
     "metadata": {},
     "output_type": "execute_result"
    }
   ],
   "source": [
    "check(limit = 80, speed = 100)"
   ]
  },
  {
   "cell_type": "markdown",
   "id": "d33b2e1d-0335-461f-8a4e-8a4454ef2fc9",
   "metadata": {},
   "source": [
    "### 제너레이터\n",
    "- return -> yield\n",
    "- 순회의 리턴값을 하나씩 반환\n",
    "- 시퀀스를 생성하는 객체\n",
    "- 메모리 효율성 증대"
   ]
  },
  {
   "cell_type": "code",
   "execution_count": 133,
   "id": "d0da5a15-f189-4739-8161-bb2f3a9c7ca0",
   "metadata": {},
   "outputs": [],
   "source": [
    "def func():\n",
    "    for i in range(5):\n",
    "        yield i"
   ]
  },
  {
   "cell_type": "code",
   "execution_count": 134,
   "id": "bc7874cd-dd56-4b92-a6c0-259df798fded",
   "metadata": {},
   "outputs": [
    {
     "data": {
      "text/plain": [
       "<generator object func at 0x00000130CB817900>"
      ]
     },
     "execution_count": 134,
     "metadata": {},
     "output_type": "execute_result"
    }
   ],
   "source": [
    "func()"
   ]
  },
  {
   "cell_type": "code",
   "execution_count": 135,
   "id": "f6976056-b422-42c7-9e69-4a515c124430",
   "metadata": {},
   "outputs": [
    {
     "name": "stdout",
     "output_type": "stream",
     "text": [
      "0\n",
      "1\n",
      "2\n",
      "3\n",
      "4\n"
     ]
    }
   ],
   "source": [
    "for f in func():\n",
    "    print(f)"
   ]
  },
  {
   "cell_type": "code",
   "execution_count": 136,
   "id": "99a02697-11be-4a35-a5b9-7ba1043da9d3",
   "metadata": {},
   "outputs": [],
   "source": [
    "# 실습: range 함수 구현하기\n",
    "def my_range(start, end, step=1):\n",
    "    num_list = []\n",
    "    while start < end:\n",
    "        num_list.append(start)\n",
    "        start += step\n",
    "    for i in num_list:\n",
    "        yield i"
   ]
  },
  {
   "cell_type": "code",
   "execution_count": 138,
   "id": "910016ac-f241-4108-9514-1d8675ec48bb",
   "metadata": {},
   "outputs": [
    {
     "name": "stdout",
     "output_type": "stream",
     "text": [
      "3\n",
      "5\n",
      "7\n",
      "9\n"
     ]
    }
   ],
   "source": [
    "ranger = my_range(3,10,2)\n",
    "for i in ranger:\n",
    "    print(i)"
   ]
  },
  {
   "cell_type": "markdown",
   "id": "f6d5ecbb-a49d-483c-bd06-003ea8061c47",
   "metadata": {},
   "source": [
    "### 재귀함수\n",
    "- 자기 자신을 호출하는 함수\n",
    "- 재귀가 너무 깊어지면 예외 발생. 주의해야 함\n",
    "- [[a,b] , [[a,b,c]] , b, c]\n",
    "=> 모든 요소의 차원을 단일화 시킬 때"
   ]
  },
  {
   "cell_type": "code",
   "execution_count": 139,
   "id": "19436383-2de2-4d76-b40e-28bf92fcd95c",
   "metadata": {},
   "outputs": [],
   "source": [
    "def flatten(sent):\n",
    "    for word in sent:\n",
    "        if isinstance(word, list):\n",
    "            # 리스트가 맞다\n",
    "            for sub_word in flatten(word):\n",
    "                yield sub_word\n",
    "        else:\n",
    "            yield word"
   ]
  },
  {
   "cell_type": "code",
   "execution_count": 140,
   "id": "c0722ad5-8648-49ba-b6f5-a283db040305",
   "metadata": {},
   "outputs": [],
   "source": [
    "a = [1,2, [2,3,4],[[1,2]]]"
   ]
  },
  {
   "cell_type": "code",
   "execution_count": 141,
   "id": "d6648fbf-f47f-4f78-9363-8c01575c87b9",
   "metadata": {},
   "outputs": [
    {
     "name": "stdout",
     "output_type": "stream",
     "text": [
      "1\n",
      "2\n",
      "2\n",
      "3\n",
      "4\n",
      "1\n",
      "2\n"
     ]
    }
   ],
   "source": [
    "for i in flatten(a):\n",
    "    print(i)"
   ]
  },
  {
   "cell_type": "markdown",
   "id": "3ac61a9d-c81a-4626-984a-0e1909455fc3",
   "metadata": {},
   "source": [
    "### 예외처리 | exception handling\n",
    "- 프로그램 동작 중 예외가 발생했을 때 대처하기 위함\n",
    "- 사용자에게 예외를 알리고, 원하는 조치를 설정한다.\n",
    "- 프로그램이 정상적으로 종료가 될 수 있다.\n",
    "    - 예)\n",
    "        - ZeroDivisionError\n",
    "        - IndexError\n",
    "        - ValueError\n",
    "        - NameError\n",
    "- try와 except을 사용해서 구현"
   ]
  },
  {
   "cell_type": "code",
   "execution_count": 1,
   "id": "8fb5cabb-d059-4cd9-ae96-bec2fd428b03",
   "metadata": {},
   "outputs": [
    {
     "name": "stdout",
     "output_type": "stream",
     "text": [
      "0으로 나눌 수 없음\n"
     ]
    }
   ],
   "source": [
    "try:\n",
    "    # 예외가 발생할 수도 있는 코드 블럭\n",
    "    5/0\n",
    "except ZeroDivisionError:\n",
    "    # 예외 시 행할 행동\n",
    "    print('0으로 나눌 수 없음')"
   ]
  },
  {
   "cell_type": "code",
   "execution_count": 7,
   "id": "fc2b6ba4-5515-4c8f-8cf5-5fb1940d732c",
   "metadata": {},
   "outputs": [
    {
     "name": "stdout",
     "output_type": "stream",
     "text": [
      "Zero Division Errorr\n",
      "10.00\n",
      "5.00\n",
      "3.33\n",
      "2.50\n",
      "2.00\n",
      "1.67\n",
      "1.43\n",
      "1.25\n",
      "1.11\n"
     ]
    }
   ],
   "source": [
    "for i in range(10):\n",
    "    try:\n",
    "        result = 10/i\n",
    "        print('%.2f' %result)\n",
    "    except ZeroDivisionError:\n",
    "        print('Zero Division Errorr')"
   ]
  },
  {
   "cell_type": "code",
   "execution_count": 9,
   "id": "dadcee56-6313-4baf-a121-270c5f9576a2",
   "metadata": {},
   "outputs": [],
   "source": [
    "a = [1,2,3,4,5, 'hello', 'world', 6, 7]"
   ]
  },
  {
   "cell_type": "code",
   "execution_count": 10,
   "id": "4474f6e7-d703-4696-8164-75b29ebf01b6",
   "metadata": {},
   "outputs": [
    {
     "name": "stdout",
     "output_type": "stream",
     "text": [
      "1\n",
      "2\n",
      "3\n",
      "4\n",
      "5\n",
      "올바른 값이 아닙니다.\n",
      "올바른 값이 아닙니다.\n",
      "6\n",
      "7\n"
     ]
    }
   ],
   "source": [
    "for i in a:\n",
    "    try:\n",
    "        print(int(i))\n",
    "    except ValueError:\n",
    "        print('올바른 값이 아닙니다.')"
   ]
  },
  {
   "cell_type": "code",
   "execution_count": 12,
   "id": "33f1855e-9e43-4c76-acc2-f88017d7ba1f",
   "metadata": {},
   "outputs": [
    {
     "name": "stdout",
     "output_type": "stream",
     "text": [
      "1\n",
      "2\n",
      "3\n",
      "4\n",
      "5\n",
      "5\n",
      "5\n",
      "6\n",
      "7\n"
     ]
    }
   ],
   "source": [
    "for i in a:\n",
    "    try:\n",
    "        print(int(i))\n",
    "    except ValueError:\n",
    "        print(len(i))"
   ]
  },
  {
   "cell_type": "code",
   "execution_count": 2,
   "id": "a09d01ec-1a9a-4d86-b951-20828a51219c",
   "metadata": {},
   "outputs": [
    {
     "name": "stdin",
     "output_type": "stream",
     "text": [
      "인덱스를 입력하세요>> 45\n"
     ]
    },
    {
     "name": "stdout",
     "output_type": "stream",
     "text": [
      "word가 뭔지 다시 확인해\n"
     ]
    },
    {
     "name": "stdin",
     "output_type": "stream",
     "text": [
      "인덱스를 입력하세요>> ㅂㅈ\n"
     ]
    },
    {
     "name": "stdout",
     "output_type": "stream",
     "text": [
      "원하는 값이 아닌듯...\n"
     ]
    },
    {
     "name": "stdin",
     "output_type": "stream",
     "text": [
      "인덱스를 입력하세요>> q\n"
     ]
    }
   ],
   "source": [
    "word = 'hello world'\n",
    "while True:\n",
    "    index = input('인덱스를 입력하세요>>')\n",
    "    if index == 'q':\n",
    "        break\n",
    "    try:\n",
    "        index = int(index)\n",
    "        print(word[index])\n",
    "    except ValueError:\n",
    "        print('원하는 값이 아닌듯...')\n",
    "    except IndexError:\n",
    "        print('word가 뭔지 다시 확인해')"
   ]
  },
  {
   "cell_type": "markdown",
   "id": "7d6a1c2c-158c-4059-a05a-5b1186bcaea5",
   "metadata": {},
   "source": [
    "### 예외 일으키기\n",
    "- 프로그램을 강제 종료시키기 위해 사용함\n",
    "- raise, assert\n",
    "- AssertionError"
   ]
  },
  {
   "cell_type": "code",
   "execution_count": 1,
   "id": "aeb7bdad-aa47-44a9-9ad4-baec3be465ea",
   "metadata": {},
   "outputs": [
    {
     "name": "stdin",
     "output_type": "stream",
     "text": [
      "숫자 5\n"
     ]
    },
    {
     "name": "stdout",
     "output_type": "stream",
     "text": [
      "10\n"
     ]
    }
   ],
   "source": [
    "while True:\n",
    "    num = input('숫자')\n",
    "    if not num.isdigit():\n",
    "        raise ValueError('숫자가 아닙니다.')\n",
    "    else:\n",
    "        print(int(num) + 5)\n",
    "        break"
   ]
  },
  {
   "cell_type": "code",
   "execution_count": 3,
   "id": "5a5725a9-bc54-4324-b9d8-8eff80cad723",
   "metadata": {},
   "outputs": [],
   "source": [
    "def get_dict(a):\n",
    "    assert isinstance(a, dict), '딕셔너리 아님'\n",
    "    return a.keys()"
   ]
  },
  {
   "cell_type": "code",
   "execution_count": 7,
   "id": "5ec2ec15-d3bc-41d8-9147-eca93257aca8",
   "metadata": {},
   "outputs": [],
   "source": [
    "a = {'name':'lee', 'phone':'iphone'}\n",
    "b = [1,2,3,4,5]"
   ]
  },
  {
   "cell_type": "code",
   "execution_count": 8,
   "id": "ba9c494a-6822-4c30-92e2-4ec5382fcbc4",
   "metadata": {},
   "outputs": [
    {
     "data": {
      "text/plain": [
       "dict_keys(['name', 'phone'])"
      ]
     },
     "execution_count": 8,
     "metadata": {},
     "output_type": "execute_result"
    }
   ],
   "source": [
    "get_dict(a)"
   ]
  },
  {
   "cell_type": "code",
   "execution_count": 9,
   "id": "30e7287b-3f3f-4748-ba4f-c41e258ab1d5",
   "metadata": {},
   "outputs": [
    {
     "ename": "AssertionError",
     "evalue": "딕셔너리 아님",
     "output_type": "error",
     "traceback": [
      "\u001b[1;31m---------------------------------------------------------------------------\u001b[0m",
      "\u001b[1;31mAssertionError\u001b[0m                            Traceback (most recent call last)",
      "\u001b[1;32m~\\AppData\\Local\\Temp/ipykernel_16464/1301634859.py\u001b[0m in \u001b[0;36m<module>\u001b[1;34m\u001b[0m\n\u001b[1;32m----> 1\u001b[1;33m \u001b[0mget_dict\u001b[0m\u001b[1;33m(\u001b[0m\u001b[0mb\u001b[0m\u001b[1;33m)\u001b[0m\u001b[1;33m\u001b[0m\u001b[1;33m\u001b[0m\u001b[0m\n\u001b[0m",
      "\u001b[1;32m~\\AppData\\Local\\Temp/ipykernel_16464/3327277564.py\u001b[0m in \u001b[0;36mget_dict\u001b[1;34m(a)\u001b[0m\n\u001b[0;32m      1\u001b[0m \u001b[1;32mdef\u001b[0m \u001b[0mget_dict\u001b[0m\u001b[1;33m(\u001b[0m\u001b[0ma\u001b[0m\u001b[1;33m)\u001b[0m\u001b[1;33m:\u001b[0m\u001b[1;33m\u001b[0m\u001b[1;33m\u001b[0m\u001b[0m\n\u001b[1;32m----> 2\u001b[1;33m     \u001b[1;32massert\u001b[0m \u001b[0misinstance\u001b[0m\u001b[1;33m(\u001b[0m\u001b[0ma\u001b[0m\u001b[1;33m,\u001b[0m \u001b[0mdict\u001b[0m\u001b[1;33m)\u001b[0m\u001b[1;33m,\u001b[0m \u001b[1;34m'딕셔너리 아님'\u001b[0m\u001b[1;33m\u001b[0m\u001b[1;33m\u001b[0m\u001b[0m\n\u001b[0m\u001b[0;32m      3\u001b[0m     \u001b[1;32mreturn\u001b[0m \u001b[0ma\u001b[0m\u001b[1;33m.\u001b[0m\u001b[0mkeys\u001b[0m\u001b[1;33m(\u001b[0m\u001b[1;33m)\u001b[0m\u001b[1;33m\u001b[0m\u001b[1;33m\u001b[0m\u001b[0m\n",
      "\u001b[1;31mAssertionError\u001b[0m: 딕셔너리 아님"
     ]
    }
   ],
   "source": [
    "get_dict(b)"
   ]
  },
  {
   "cell_type": "markdown",
   "id": "f08d4ea0-2fe2-4934-8dfa-ff6ca8b7591d",
   "metadata": {},
   "source": [
    "### 사용자 정의 예외 타입\n",
    "- class 선언, Exception 클래스를 상속 받는다."
   ]
  },
  {
   "cell_type": "code",
   "execution_count": 15,
   "id": "2962fdbd-f5a2-46c2-87ee-5bd7dfcc0534",
   "metadata": {},
   "outputs": [],
   "source": [
    "class MyExecption(Exception):\n",
    "    pass"
   ]
  },
  {
   "cell_type": "code",
   "execution_count": 16,
   "id": "406fbaac-e86b-4fcc-bba6-b2acd3c61b34",
   "metadata": {},
   "outputs": [],
   "source": [
    "num = [i for i in range(100)]"
   ]
  },
  {
   "cell_type": "code",
   "execution_count": 17,
   "id": "3ff3150f-aa95-438f-9040-4b7df4e13886",
   "metadata": {},
   "outputs": [
    {
     "name": "stdout",
     "output_type": "stream",
     "text": [
      "[0, 1, 2, 3, 4, 5, 6, 7, 8, 9, 10, 11, 12, 13, 14, 15, 16, 17, 18, 19, 20, 21, 22, 23, 24, 25, 26, 27, 28, 29, 30, 31, 32, 33, 34, 35, 36, 37, 38, 39, 40, 41, 42, 43, 44, 45, 46, 47, 48, 49, 50, 51, 52, 53, 54, 55, 56, 57, 58, 59, 60, 61, 62, 63, 64, 65, 66, 67, 68, 69, 70, 71, 72, 73, 74, 75, 76, 77, 78, 79, 80, 81, 82, 83, 84, 85, 86, 87, 88, 89, 90, 91, 92, 93, 94, 95, 96, 97, 98, 99]\n"
     ]
    }
   ],
   "source": [
    "print(num)"
   ]
  },
  {
   "cell_type": "code",
   "execution_count": 19,
   "id": "744e67ac-d033-4e87-87a7-ae7be0482f41",
   "metadata": {},
   "outputs": [
    {
     "name": "stdout",
     "output_type": "stream",
     "text": [
      "0\n"
     ]
    },
    {
     "ename": "MyExecption",
     "evalue": "홀수 안됨",
     "output_type": "error",
     "traceback": [
      "\u001b[1;31m---------------------------------------------------------------------------\u001b[0m",
      "\u001b[1;31mMyExecption\u001b[0m                               Traceback (most recent call last)",
      "\u001b[1;32m~\\AppData\\Local\\Temp/ipykernel_16464/4031330831.py\u001b[0m in \u001b[0;36m<module>\u001b[1;34m\u001b[0m\n\u001b[0;32m      1\u001b[0m \u001b[1;32mfor\u001b[0m \u001b[0mi\u001b[0m \u001b[1;32min\u001b[0m \u001b[0mnum\u001b[0m\u001b[1;33m:\u001b[0m\u001b[1;33m\u001b[0m\u001b[1;33m\u001b[0m\u001b[0m\n\u001b[0;32m      2\u001b[0m     \u001b[1;32mif\u001b[0m \u001b[0mi\u001b[0m\u001b[1;33m/\u001b[0m\u001b[1;36m2\u001b[0m \u001b[1;33m!=\u001b[0m \u001b[1;36m0\u001b[0m\u001b[1;33m:\u001b[0m\u001b[1;33m\u001b[0m\u001b[1;33m\u001b[0m\u001b[0m\n\u001b[1;32m----> 3\u001b[1;33m         \u001b[1;32mraise\u001b[0m \u001b[0mMyExecption\u001b[0m\u001b[1;33m(\u001b[0m\u001b[1;34m'홀수 안됨'\u001b[0m\u001b[1;33m)\u001b[0m\u001b[1;33m\u001b[0m\u001b[1;33m\u001b[0m\u001b[0m\n\u001b[0m\u001b[0;32m      4\u001b[0m     \u001b[1;32melse\u001b[0m\u001b[1;33m:\u001b[0m\u001b[1;33m\u001b[0m\u001b[1;33m\u001b[0m\u001b[0m\n\u001b[0;32m      5\u001b[0m         \u001b[0mprint\u001b[0m\u001b[1;33m(\u001b[0m\u001b[0mi\u001b[0m\u001b[1;33m)\u001b[0m\u001b[1;33m\u001b[0m\u001b[1;33m\u001b[0m\u001b[0m\n",
      "\u001b[1;31mMyExecption\u001b[0m: 홀수 안됨"
     ]
    }
   ],
   "source": [
    "for i in num:\n",
    "    if i/2 != 0:\n",
    "        raise MyExecption('홀수 안됨')\n",
    "    else:\n",
    "        print(i)"
   ]
  },
  {
   "cell_type": "code",
   "execution_count": 22,
   "id": "d47130a9-de49-4db7-95f5-845c2a26ae8f",
   "metadata": {},
   "outputs": [
    {
     "name": "stdout",
     "output_type": "stream",
     "text": [
      "0\n"
     ]
    },
    {
     "ename": "MyExecption",
     "evalue": "홀수 안됨",
     "output_type": "error",
     "traceback": [
      "\u001b[1;31m---------------------------------------------------------------------------\u001b[0m",
      "\u001b[1;31mMyExecption\u001b[0m                               Traceback (most recent call last)",
      "\u001b[1;32m~\\AppData\\Local\\Temp/ipykernel_16464/1685843549.py\u001b[0m in \u001b[0;36m<module>\u001b[1;34m\u001b[0m\n\u001b[0;32m      3\u001b[0m     \u001b[1;32mfor\u001b[0m \u001b[0mi\u001b[0m \u001b[1;32min\u001b[0m \u001b[0mnum\u001b[0m\u001b[1;33m:\u001b[0m\u001b[1;33m\u001b[0m\u001b[1;33m\u001b[0m\u001b[0m\n\u001b[0;32m      4\u001b[0m         \u001b[1;32mif\u001b[0m \u001b[0mi\u001b[0m\u001b[1;33m/\u001b[0m\u001b[1;36m2\u001b[0m \u001b[1;33m!=\u001b[0m \u001b[1;36m0\u001b[0m\u001b[1;33m:\u001b[0m\u001b[1;33m\u001b[0m\u001b[1;33m\u001b[0m\u001b[0m\n\u001b[1;32m----> 5\u001b[1;33m             \u001b[1;32mraise\u001b[0m \u001b[0mMyExecption\u001b[0m\u001b[1;33m(\u001b[0m\u001b[1;34m'홀수 안됨'\u001b[0m\u001b[1;33m)\u001b[0m\u001b[1;33m\u001b[0m\u001b[1;33m\u001b[0m\u001b[0m\n\u001b[0m\u001b[0;32m      6\u001b[0m         \u001b[1;32melse\u001b[0m\u001b[1;33m:\u001b[0m\u001b[1;33m\u001b[0m\u001b[1;33m\u001b[0m\u001b[0m\n\u001b[0;32m      7\u001b[0m             \u001b[0mprint\u001b[0m\u001b[1;33m(\u001b[0m\u001b[0mi\u001b[0m\u001b[1;33m)\u001b[0m\u001b[1;33m\u001b[0m\u001b[1;33m\u001b[0m\u001b[0m\n",
      "\u001b[1;31mMyExecption\u001b[0m: 홀수 안됨"
     ]
    }
   ],
   "source": [
    "cnt = 0\n",
    "while cnt< 100:\n",
    "    for i in num:\n",
    "        if i/2 != 0:\n",
    "            raise MyExecption('홀수 안됨')\n",
    "        else:\n",
    "            print(i)\n",
    "        cnt += 1"
   ]
  },
  {
   "cell_type": "code",
   "execution_count": 32,
   "id": "125d3160-0f67-48c1-a1ad-b23ed3b93ef5",
   "metadata": {},
   "outputs": [
    {
     "name": "stdout",
     "output_type": "stream",
     "text": [
      "2\n",
      "3\n"
     ]
    },
    {
     "ename": "MyExecption",
     "evalue": "소수 아님",
     "output_type": "error",
     "traceback": [
      "\u001b[1;31m---------------------------------------------------------------------------\u001b[0m",
      "\u001b[1;31mMyExecption\u001b[0m                               Traceback (most recent call last)",
      "\u001b[1;32m~\\AppData\\Local\\Temp/ipykernel_16464/134289258.py\u001b[0m in \u001b[0;36m<module>\u001b[1;34m\u001b[0m\n\u001b[0;32m      4\u001b[0m             \u001b[0mprint\u001b[0m\u001b[1;33m(\u001b[0m\u001b[0mi\u001b[0m\u001b[1;33m)\u001b[0m\u001b[1;33m\u001b[0m\u001b[1;33m\u001b[0m\u001b[0m\n\u001b[0;32m      5\u001b[0m         \u001b[1;32melif\u001b[0m \u001b[0mi\u001b[0m \u001b[1;33m%\u001b[0m \u001b[0mj\u001b[0m \u001b[1;33m==\u001b[0m \u001b[1;36m0\u001b[0m\u001b[1;33m:\u001b[0m\u001b[1;33m\u001b[0m\u001b[1;33m\u001b[0m\u001b[0m\n\u001b[1;32m----> 6\u001b[1;33m             \u001b[1;32mraise\u001b[0m \u001b[0mMyExecption\u001b[0m\u001b[1;33m(\u001b[0m\u001b[1;34m'소수 아님'\u001b[0m\u001b[1;33m)\u001b[0m\u001b[1;33m\u001b[0m\u001b[1;33m\u001b[0m\u001b[0m\n\u001b[0m",
      "\u001b[1;31mMyExecption\u001b[0m: 소수 아님"
     ]
    }
   ],
   "source": [
    "for i in range(1, len(num)):\n",
    "    for j in range(2, len(num)):\n",
    "        if j == i:\n",
    "            print(i)\n",
    "        elif i % j == 0:\n",
    "            raise MyExecption('소수 아님')"
   ]
  }
 ],
 "metadata": {
  "kernelspec": {
   "display_name": "Python 3 (ipykernel)",
   "language": "python",
   "name": "python3"
  },
  "language_info": {
   "codemirror_mode": {
    "name": "ipython",
    "version": 3
   },
   "file_extension": ".py",
   "mimetype": "text/x-python",
   "name": "python",
   "nbconvert_exporter": "python",
   "pygments_lexer": "ipython3",
   "version": "3.9.7"
  }
 },
 "nbformat": 4,
 "nbformat_minor": 5
}
