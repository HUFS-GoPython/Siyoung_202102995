{
 "cells": [
  {
   "cell_type": "markdown",
   "id": "fd645798-c16d-4071-a848-d56c49dbefc4",
   "metadata": {},
   "source": [
    "## 함수\n",
    "1. 정의\n",
    "    - 코드의 덩어리, 묶음\n",
    "    - 코드의 (편리한)재사용이 주된 목적\n",
    "    - 정의하기(define) -> 호출하기(call)의 과정으로 이루어짐\n",
    "    - 구조\n",
    "        - 정의하기\n",
    "            - def 함수이름(매개변수) << 매개변수는 여러개도 괜찮고 타입도 상관없음\n",
    "                 수행문1\n",
    "                 수행문2\n",
    "                 ...\n",
    "                 retrun 출력값(반드시 필요한 것은 아니다)\n",
    "         - 호출하기\n",
    "             - 함수이름(인수) << 매개변수와 동일한 타입과 개수로 입력\n",
    "    - 인터페이스를 잘 설정하면 내부를 몰라도 함수를 쉽게 쓸 수 있다.\n",
    "        - print(), split() 등과 같이 내장 함수들...\n",
    "        - 간단한 설명으로도 사용가능한 함수가 좋은 함수\n",
    "2. 이름 짓기\n",
    "    - 소문자를 사용한다.\n",
    "    - 카멜표기법 가능(파이썬에서는 비추천)\n",
    "    - 언더바를 사용(파이썬에서는 카멜표기법보다 언더바를 사용하는 것이 더 좋다.)\n",
    "    - 동사 + 명사의 형태로 작성\n",
    "        - point_output, save_model, split_text, calc_number\n",
    "    - 줄임말 쓰지 말기, 명료하게 표현\n",
    "    - 줄임말 사용할 때 많이 통용되는 것을 사용하는 것은 가능\n",
    "3. 인수와 매개변수\n",
    "    - 매개변수: 정의할 때 쓰임 >> def 함수이름(매개변수)\n",
    "    - 인수: 호출할 때 쓰임 >> 함수이름(인수)의 형태로 사용\n",
    "    - 함수 호출시 인수에 할당된 값이 매개변수에 복제됨 >> 원래의 값은 사라짐.\n",
    "        \n",
    "        def echo(anything):\n",
    "            print( '{0} {0}'.format(anything))\n",
    "    \n",
    "        echo('hello')\n",
    "        \n",
    "        line = 'hello'\n",
    "        anything = line  ### copy\n",
    "        anything 사라짐\n",
    "- 위치인수\n",
    "    - positional argument\n",
    "    - 값을 순서대로 상응하는 매개변수에 복사하는 것\n",
    "- 키워드인수\n",
    "    - keyword argument\n",
    "    - 매개변수에 상응하는 이름을 인수에 지정한다.\n",
    "    - 위치가 달라도 됨\n",
    "- 디폴트인수\n",
    "    - default argument\n",
    "    - 정의할 때 매개변수의 기본값 설정\n",
    "    - 호출 시 인수가 없으면 기본값으로 설정\n",
    "    - default 값은 non-default 값에 와야한다(default 값을 지정할 때에는 non-default를 두고나중에 지정)     "
   ]
  },
  {
   "cell_type": "code",
   "execution_count": 52,
   "id": "3575c3eb-4884-4032-9ca7-2dec4aae5563",
   "metadata": {},
   "outputs": [
    {
     "data": {
      "text/plain": [
       "5"
      ]
     },
     "execution_count": 52,
     "metadata": {},
     "output_type": "execute_result"
    }
   ],
   "source": [
    "def fx(x): # 매개변수 = x\n",
    "    y = x + 1\n",
    "    return y # 출력값 = y\n",
    "fx(4) # 인수 = 4"
   ]
  },
  {
   "cell_type": "code",
   "execution_count": 53,
   "id": "f2db5c41-3cb3-4362-9b7c-e75e76bf9c43",
   "metadata": {},
   "outputs": [
    {
     "name": "stdout",
     "output_type": "stream",
     "text": [
      "^^\n"
     ]
    }
   ],
   "source": [
    "# 입력 없고, 반환 없음\n",
    "def smile ():\n",
    "    print('^^')\n",
    "smile()"
   ]
  },
  {
   "cell_type": "code",
   "execution_count": 54,
   "id": "f37627e2-98d6-4d76-bbe6-1cf70ce68318",
   "metadata": {},
   "outputs": [
    {
     "data": {
      "text/plain": [
       "True"
      ]
     },
     "execution_count": 54,
     "metadata": {},
     "output_type": "execute_result"
    }
   ],
   "source": [
    "# 입력 없고, 반환 있음\n",
    "def agree():\n",
    "    return True\n",
    "agree()"
   ]
  },
  {
   "cell_type": "code",
   "execution_count": 55,
   "id": "6b83b1f4-8155-4140-8222-01cd48b30c1f",
   "metadata": {},
   "outputs": [
    {
     "name": "stdout",
     "output_type": "stream",
     "text": [
      "동의\n"
     ]
    }
   ],
   "source": [
    "if agree():\n",
    "    print('동의')\n",
    "else:\n",
    "    print('비동의')"
   ]
  },
  {
   "cell_type": "code",
   "execution_count": 56,
   "id": "050cde38-2b67-4bdf-9897-97a7d6ceeb0e",
   "metadata": {},
   "outputs": [
    {
     "name": "stdout",
     "output_type": "stream",
     "text": [
      "7*1 = 7\n",
      "7*2 = 14\n",
      "7*3 = 21\n",
      "7*4 = 28\n",
      "7*5 = 35\n",
      "7*6 = 42\n",
      "7*7 = 49\n",
      "7*8 = 56\n",
      "7*9 = 63\n"
     ]
    }
   ],
   "source": [
    "# 입력 있고, 반환 없음\n",
    "def print_gugudan(num):\n",
    "    for i in range(1,10):\n",
    "        print(f'{num}*{i} = {num*i}')\n",
    "\n",
    "print_gugudan(7)\n",
    "        "
   ]
  },
  {
   "cell_type": "code",
   "execution_count": 57,
   "id": "800b48af-398f-4f1a-aa45-4c1636646d93",
   "metadata": {},
   "outputs": [
    {
     "data": {
      "text/plain": [
       "'good'"
      ]
     },
     "execution_count": 57,
     "metadata": {},
     "output_type": "execute_result"
    }
   ],
   "source": [
    "# 입력 있고, 반환 있음\n",
    "def find_a(word):\n",
    "    if 'a' in word:\n",
    "        return 'good'\n",
    "    else:\n",
    "        return 'bad'\n",
    "find_a('apple')"
   ]
  },
  {
   "cell_type": "code",
   "execution_count": 58,
   "id": "e3ad778c-fbde-4f57-98be-98e2d24bafb3",
   "metadata": {},
   "outputs": [
    {
     "data": {
      "text/plain": [
       "'black'"
      ]
     },
     "execution_count": 58,
     "metadata": {},
     "output_type": "execute_result"
    }
   ],
   "source": [
    "def commentary(color):\n",
    "    if color == 'g':\n",
    "        return ('green')\n",
    "    else:\n",
    "        return ('black')\n",
    "\n",
    "color = 'white'\n",
    "commentary(color)"
   ]
  },
  {
   "cell_type": "code",
   "execution_count": 59,
   "id": "3b7dbbde-988d-44a3-a4e0-9f2ad8b93bc5",
   "metadata": {},
   "outputs": [
    {
     "name": "stdout",
     "output_type": "stream",
     "text": [
      "black\n",
      "black\n",
      "green\n",
      "black\n",
      "black\n"
     ]
    }
   ],
   "source": [
    "color = ['a','b','g','c','d']\n",
    "for c in color:\n",
    "    print(commentary(c))"
   ]
  },
  {
   "cell_type": "code",
   "execution_count": 60,
   "id": "1e7c3166-e0c4-4c96-9f7b-22a929558686",
   "metadata": {},
   "outputs": [
    {
     "data": {
      "text/plain": [
       "{'mon': 'game',\n",
       " 'tue': 'piano',\n",
       " 'wed': 'book',\n",
       " 'thu': 'phone',\n",
       " 'fri': 'shopping'}"
      ]
     },
     "execution_count": 60,
     "metadata": {},
     "output_type": "execute_result"
    }
   ],
   "source": [
    "def set_plan(mon, tue, wed, thu, fri):\n",
    "    return {'mon':mon, 'tue':tue, 'wed':wed, 'thu':thu, 'fri':fri}\n",
    "set_plan('game', 'piano', 'book', 'phone','shopping')"
   ]
  },
  {
   "cell_type": "code",
   "execution_count": 61,
   "id": "a206a490-052e-425b-94fe-7d7eb7a6aa0d",
   "metadata": {},
   "outputs": [
    {
     "data": {
      "text/plain": [
       "{'mon': 'game',\n",
       " 'tue': 'book',\n",
       " 'wed': 'phone',\n",
       " 'thu': 'shopping',\n",
       " 'fri': 'piano'}"
      ]
     },
     "execution_count": 61,
     "metadata": {},
     "output_type": "execute_result"
    }
   ],
   "source": [
    "set_plan(mon='game', tue = 'book', wed = 'phone', thu = 'shopping', fri = 'piano')"
   ]
  },
  {
   "cell_type": "code",
   "execution_count": 62,
   "id": "5724b2dd-91fd-4707-9e68-b408f22355ba",
   "metadata": {},
   "outputs": [],
   "source": [
    "def set_plan2(mon, tue, wed, thu, fri= 'game'):\n",
    "    return {'mon':mon, 'tue':tue, 'wed':wed, 'thu':thu, 'fri':fri}"
   ]
  },
  {
   "cell_type": "code",
   "execution_count": 63,
   "id": "5e2a3f11-e374-48ea-85a0-b52398e00faa",
   "metadata": {},
   "outputs": [
    {
     "data": {
      "text/plain": [
       "{'mon': 'game', 'tue': 'piano', 'wed': 'book', 'thu': 'phone', 'fri': 'game'}"
      ]
     },
     "execution_count": 63,
     "metadata": {},
     "output_type": "execute_result"
    }
   ],
   "source": [
    "set_plan2('game', 'piano', 'book', 'phone')"
   ]
  },
  {
   "cell_type": "code",
   "execution_count": 64,
   "id": "9ed0e9b8-5591-4109-ba45-1513c60ea3b2",
   "metadata": {},
   "outputs": [
    {
     "data": {
      "text/plain": [
       "{'mon': 'game', 'tue': 'book', 'wed': 'piano', 'thu': 'phone', 'fri': 'game'}"
      ]
     },
     "execution_count": 64,
     "metadata": {},
     "output_type": "execute_result"
    }
   ],
   "source": [
    "set_plan2('game', 'book', 'piano', thu = 'phone')"
   ]
  },
  {
   "cell_type": "markdown",
   "id": "b583da86-3886-4753-afc8-04a2b332e772",
   "metadata": {},
   "source": [
    "### 연도 -> 나이\n",
    "- 수업시간에는 나이 입력받고 연도를 출력했다면 반대로"
   ]
  },
  {
   "cell_type": "code",
   "execution_count": 65,
   "id": "8d7b614c-34fd-4e78-b639-7f8e715c75c3",
   "metadata": {},
   "outputs": [
    {
     "data": {
      "text/plain": [
       "24"
      ]
     },
     "execution_count": 65,
     "metadata": {},
     "output_type": "execute_result"
    }
   ],
   "source": [
    "def calc_age(born_year):\n",
    "    this_year = 2022\n",
    "    age = this_year - born_year + 1\n",
    "    return age\n",
    "calc_age(1999)"
   ]
  },
  {
   "cell_type": "markdown",
   "id": "4cebc3ce-177d-4b68-b87c-5c32e7c4b16c",
   "metadata": {},
   "source": [
    "### 사각형 둘레 구하기\n",
    "- 입력: 두변 길이\n",
    "- 반환: string = \"xx cm\""
   ]
  },
  {
   "cell_type": "code",
   "execution_count": 66,
   "id": "8143ff51-e400-47bb-9a20-b101641ca315",
   "metadata": {},
   "outputs": [
    {
     "name": "stdout",
     "output_type": "stream",
     "text": [
      "string = 12.4cm\n"
     ]
    }
   ],
   "source": [
    "def calc_length(line1, line2):\n",
    "    length = (line1+line2) * 2\n",
    "    result = print(f'string = {length}cm')\n",
    "    return result\n",
    "calc_length(2.5,3.7)"
   ]
  },
  {
   "cell_type": "markdown",
   "id": "888378e1-dd80-4efc-9038-db6c1619fc3a",
   "metadata": {},
   "source": [
    "### 호출 방식(순서):\n",
    "    - 정의된 부분이 메모리에 업로드 되지만 실행은 안된다.\n",
    "    - 함수의 실행은 함수 호출시\n",
    "    - 값을 넘기는 방식: 참조에 의한 호출(call by reference) 메모리 주소\n",
    "    - 메모리 주소가 복사되기 때문에 가변객체가 매개변수로 들어갈 때 주의할 것"
   ]
  },
  {
   "cell_type": "code",
   "execution_count": 67,
   "id": "2b6593d4-e9ad-415f-8122-7911858917e1",
   "metadata": {},
   "outputs": [
    {
     "name": "stdout",
     "output_type": "stream",
     "text": [
      "2\n",
      "3\n",
      "4\n",
      "1\n",
      "5\n"
     ]
    }
   ],
   "source": [
    "def calc_length(line1, line2):\n",
    "    print('1')\n",
    "    return (line1+line2) * 2\n",
    "print('2')\n",
    "garo = 2\n",
    "print('3')\n",
    "sero = 7\n",
    "print('4')\n",
    "calc_length(garo, sero)\n",
    "print('5')"
   ]
  },
  {
   "cell_type": "markdown",
   "id": "ea618d20-db89-4f80-ab0a-ca3aac6c0039",
   "metadata": {},
   "source": [
    "1번이 4번 뒤에 나온다는 것은 메모리에 업로드 되고 함수가 호출될 때 출력"
   ]
  },
  {
   "cell_type": "code",
   "execution_count": 68,
   "id": "f9c647bc-09bb-4fc2-8cf2-058720d9c08f",
   "metadata": {},
   "outputs": [
    {
     "name": "stdout",
     "output_type": "stream",
     "text": [
      "[2, 3] eggs\n",
      "[0, 1] ham\n"
     ]
    }
   ],
   "source": [
    "def spam(eggs):\n",
    "    eggs.append(1)\n",
    "    eggs = [2,3]\n",
    "    print(eggs, 'eggs')\n",
    "ham = [0]\n",
    "spam(ham)\n",
    "print(ham, 'ham')"
   ]
  },
  {
   "cell_type": "code",
   "execution_count": 69,
   "id": "bf07f242-6e81-4215-9ea4-1b82541c09ea",
   "metadata": {},
   "outputs": [
    {
     "name": "stdout",
     "output_type": "stream",
     "text": [
      "[2, 3] eggs\n",
      "[] ham\n"
     ]
    }
   ],
   "source": [
    "# 함수 속에 어떤 부분에 기존 리스트를 공백 처리하는냐에 따라 결과값이 달라짐\n",
    "def spam(eggs): \n",
    "    eggs.append(1)\n",
    "    eggs.clear()\n",
    "    eggs = [2,3]\n",
    "    print(eggs, 'eggs')\n",
    "ham = [4]\n",
    "spam(ham)\n",
    "print(ham, 'ham')"
   ]
  },
  {
   "cell_type": "code",
   "execution_count": 70,
   "id": "606a6102-a993-4c97-a2f6-ccfabf737bf4",
   "metadata": {},
   "outputs": [
    {
     "name": "stdout",
     "output_type": "stream",
     "text": [
      "[] eggs\n",
      "[4, 1] ham\n"
     ]
    }
   ],
   "source": [
    "def spam(eggs): \n",
    "    eggs.append(1)\n",
    "    eggs = [2,3]\n",
    "    eggs.clear()\n",
    "    print(eggs, 'eggs')\n",
    "ham = [4]\n",
    "spam(ham)\n",
    "print(ham, 'ham')"
   ]
  },
  {
   "cell_type": "code",
   "execution_count": 71,
   "id": "1fefcca8-21a0-4355-889b-89403f47edb0",
   "metadata": {},
   "outputs": [
    {
     "name": "stdout",
     "output_type": "stream",
     "text": [
      "b\n"
     ]
    }
   ],
   "source": [
    "# None\n",
    "thing = None\n",
    "if thing:\n",
    "    print('a')\n",
    "else:\n",
    "    print('b')"
   ]
  },
  {
   "cell_type": "code",
   "execution_count": 72,
   "id": "c1e2f4e7-1ae1-4184-a1cc-b8dd4d0aa558",
   "metadata": {},
   "outputs": [
    {
     "name": "stdout",
     "output_type": "stream",
     "text": [
      "a\n"
     ]
    }
   ],
   "source": [
    "if thing is None:\n",
    "    print('a')\n",
    "else:\n",
    "    print('b')"
   ]
  },
  {
   "cell_type": "markdown",
   "id": "3be06b27-e1ec-43ce-87a9-abd425204e2b",
   "metadata": {},
   "source": [
    "#### 전역변수 vs 지역변수\n",
    "- 지역변수: 함수 내에서만 사용 가능\n",
    "- 전역변수: 프로그램 전체에서 사용 가능\n",
    "- 지역변수를 전역 변수로 만들기 위해서\n",
    "    - global을 사용"
   ]
  },
  {
   "cell_type": "code",
   "execution_count": 73,
   "id": "f7713abd-c5d4-4848-a323-ba07cee97669",
   "metadata": {},
   "outputs": [
    {
     "name": "stdout",
     "output_type": "stream",
     "text": [
      "uni\n",
      "LAMY\n"
     ]
    }
   ],
   "source": [
    "def fx():\n",
    "    pen = 'uni'\n",
    "    print(pen)\n",
    "pen = 'LAMY'\n",
    "fx() \n",
    "print(pen)"
   ]
  },
  {
   "cell_type": "code",
   "execution_count": 74,
   "id": "8afd4d01-b494-4996-9857-faafc6b82e41",
   "metadata": {},
   "outputs": [
    {
     "name": "stdout",
     "output_type": "stream",
     "text": [
      "uni\n",
      "uni\n"
     ]
    }
   ],
   "source": [
    "def fx():\n",
    "    \"\"\"\n",
    "    doc string: 함수에 대한 설명\n",
    "    매개변수에 대한 설명, 타입, 함수의 의도\n",
    "    \"\"\"\n",
    "    global pen\n",
    "    pen = 'uni'\n",
    "    print(pen)\n",
    "pen = 'LAMY'\n",
    "fx() \n",
    "print(pen)"
   ]
  },
  {
   "cell_type": "markdown",
   "id": "1077fb85-afe9-48dd-aa96-c41e07a43f9b",
   "metadata": {},
   "source": [
    "#### 독스트링"
   ]
  },
  {
   "cell_type": "code",
   "execution_count": 75,
   "id": "02172169-75aa-4a39-bb4d-832157408224",
   "metadata": {},
   "outputs": [
    {
     "name": "stdout",
     "output_type": "stream",
     "text": [
      "Help on function fx in module __main__:\n",
      "\n",
      "fx()\n",
      "    doc string: 함수에 대한 설명\n",
      "    매개변수에 대한 설명, 타입, 함수의 의도\n",
      "\n"
     ]
    }
   ],
   "source": [
    "# 방법1\n",
    "help(fx)"
   ]
  },
  {
   "cell_type": "code",
   "execution_count": 76,
   "id": "438127dd-25c9-4f2a-8abb-bb9f817ee643",
   "metadata": {},
   "outputs": [
    {
     "data": {
      "text/plain": [
       "'\\n    doc string: 함수에 대한 설명\\n    매개변수에 대한 설명, 타입, 함수의 의도\\n    '"
      ]
     },
     "execution_count": 76,
     "metadata": {},
     "output_type": "execute_result"
    }
   ],
   "source": [
    "# 방법2 - 언더바 2개씩\n",
    "fx.__doc__ "
   ]
  },
  {
   "cell_type": "markdown",
   "id": "55971dc0-e4b9-435d-9057-1e789ce5f29d",
   "metadata": {},
   "source": [
    "## text 정제하는 방법\n",
    "- 아직 미숙하여 교수님이 올려주신 방법을 따라하면서 암기"
   ]
  },
  {
   "cell_type": "code",
   "execution_count": 77,
   "id": "9de8937d-07dc-4a02-bbf8-04bf27cf839c",
   "metadata": {},
   "outputs": [],
   "source": [
    "import nltk\n",
    "import random\n",
    "import nltk\n",
    "\n",
    "brown = nltk.corpus.brown.raw()"
   ]
  },
  {
   "cell_type": "code",
   "execution_count": 78,
   "id": "968bd600-a0d1-4a57-aacb-472e47cdcc11",
   "metadata": {},
   "outputs": [],
   "source": [
    "brown_copy = brown\n",
    "brown = brown[:5000]"
   ]
  },
  {
   "cell_type": "code",
   "execution_count": 79,
   "id": "62313a34-f55b-473b-86c5-6da76af71494",
   "metadata": {},
   "outputs": [],
   "source": [
    "# 처리할 문장부호 변수화\n",
    "slash, hyphen, eol, apostrophe = '/', '-', './.' , \"'s\""
   ]
  },
  {
   "cell_type": "code",
   "execution_count": 81,
   "id": "94cfd06d-eeaf-4962-b102-307b437e5185",
   "metadata": {},
   "outputs": [
    {
     "data": {
      "text/plain": [
       "{\"''\", ',', '.', '``'}"
      ]
     },
     "execution_count": 81,
     "metadata": {},
     "output_type": "execute_result"
    }
   ],
   "source": [
    "user_punct = set([word for sent in brown.split()\n",
    "                  for word in sent.split(slash)\n",
    "                  if not sent[0].isalnum()])\n",
    "user_punct"
   ]
  },
  {
   "cell_type": "code",
   "execution_count": 85,
   "id": "ef12647b-0597-4682-972a-97613dcf0510",
   "metadata": {},
   "outputs": [
    {
     "name": "stdout",
     "output_type": "stream",
     "text": [
      "32\n"
     ]
    },
    {
     "data": {
      "text/plain": [
       "34"
      ]
     },
     "execution_count": 85,
     "metadata": {},
     "output_type": "execute_result"
    }
   ],
   "source": [
    "import string\n",
    "punctuations = list(string.punctuation)\n",
    "print(len(punctuations))\n",
    "\n",
    "punctuations.extend(list(user_punct))\n",
    "len(set(punctuations))"
   ]
  },
  {
   "cell_type": "code",
   "execution_count": 87,
   "id": "9d21ee45-f6b4-4740-bdf6-bf06a3e098be",
   "metadata": {},
   "outputs": [
    {
     "data": {
      "text/plain": [
       "[\"The/at Fulton/np-tl County/nn-tl Grand/jj-tl Jury/nn-tl said/vbd Friday/nr an/at investigation/nn of/in Atlanta's/np$ recent/jj primary/nn election/nn produced/vbd ``/`` no/at evidence/nn ''/'' that/cs any/dti irregularities/nns took/vbd place/nn\",\n",
       " \"The/at jury/nn further/rbr said/vbd in/in term-end/nn presentments/nns that/cs the/at City/nn-tl Executive/jj-tl Committee/nn-tl ,/, which/wdt had/hvd over-all/jj charge/nn of/in the/at election/nn ,/, ``/`` deserves/vbz the/at praise/nn and/cc thanks/nns of/in the/at City/nn-tl of/in-tl Atlanta/np-tl ''/'' for/in the/at manner/nn in/in which/wdt the/at election/nn was/bedz conducted/vbn\",\n",
       " \"The/at September-October/np term/nn jury/nn had/hvd been/ben charged/vbn by/in Fulton/np-tl Superior/jj-tl Court/nn-tl Judge/nn-tl Durwood/np Pye/np to/to investigate/vb reports/nns of/in possible/jj ``/`` irregularities/nns ''/'' in/in the/at hard-fought/jj primary/nn which/wdt was/bedz won/vbn by/in Mayor-nominate/nn-tl Ivan/np Allen/np Jr./np\"]"
      ]
     },
     "execution_count": 87,
     "metadata": {},
     "output_type": "execute_result"
    }
   ],
   "source": [
    "sentences = [sent.strip() for sent in brown.split(eol)]\n",
    "sentences[:3]"
   ]
  },
  {
   "cell_type": "code",
   "execution_count": 88,
   "id": "f1fc19da-4346-4b90-872d-5144a058cc98",
   "metadata": {},
   "outputs": [
    {
     "data": {
      "text/plain": [
       "['The',\n",
       " 'Fulton',\n",
       " 'County',\n",
       " 'Grand',\n",
       " 'Jury',\n",
       " 'said',\n",
       " 'Friday',\n",
       " 'an',\n",
       " 'investigation',\n",
       " 'of',\n",
       " \"Atlanta's\",\n",
       " 'recent',\n",
       " 'primary',\n",
       " 'election',\n",
       " 'produced',\n",
       " 'no',\n",
       " 'evidence',\n",
       " 'that',\n",
       " 'any',\n",
       " 'irregularities',\n",
       " 'took',\n",
       " 'place']"
      ]
     },
     "execution_count": 88,
     "metadata": {},
     "output_type": "execute_result"
    }
   ],
   "source": [
    "[w[:w.find(slash)] for w in sentences[0].split()\n",
    " if w[:w.find(slash)] not in punctuations and w]"
   ]
  },
  {
   "cell_type": "code",
   "execution_count": 113,
   "id": "34b93fe9-07b1-4e69-b9c3-651fd1fae96f",
   "metadata": {
    "collapsed": true,
    "jupyter": {
     "outputs_hidden": true
    },
    "tags": []
   },
   "outputs": [
    {
     "data": {
      "text/plain": [
       "[['The',\n",
       "  'Fulton',\n",
       "  'County',\n",
       "  'Grand',\n",
       "  'Jury',\n",
       "  'said',\n",
       "  'Friday',\n",
       "  'an',\n",
       "  'investigation',\n",
       "  'of',\n",
       "  \"Atlanta's\",\n",
       "  'recent',\n",
       "  'primary',\n",
       "  'election',\n",
       "  'produced',\n",
       "  'no',\n",
       "  'evidence',\n",
       "  'that',\n",
       "  'any',\n",
       "  'irregularities',\n",
       "  'took',\n",
       "  'place'],\n",
       " ['The',\n",
       "  'jury',\n",
       "  'further',\n",
       "  'said',\n",
       "  'in',\n",
       "  'term-end',\n",
       "  'presentments',\n",
       "  'that',\n",
       "  'the',\n",
       "  'City',\n",
       "  'Executive',\n",
       "  'Committee',\n",
       "  'which',\n",
       "  'had',\n",
       "  'over-all',\n",
       "  'charge',\n",
       "  'of',\n",
       "  'the',\n",
       "  'election',\n",
       "  'deserves',\n",
       "  'the',\n",
       "  'praise',\n",
       "  'and',\n",
       "  'thanks',\n",
       "  'of',\n",
       "  'the',\n",
       "  'City',\n",
       "  'of',\n",
       "  'Atlanta',\n",
       "  'for',\n",
       "  'the',\n",
       "  'manner',\n",
       "  'in',\n",
       "  'which',\n",
       "  'the',\n",
       "  'election',\n",
       "  'was',\n",
       "  'conducted']]"
      ]
     },
     "execution_count": 113,
     "metadata": {},
     "output_type": "execute_result"
    }
   ],
   "source": [
    "sent_tokens = [[w[:w.find(slash)] for w in sentence.split()\n",
    "                if w[:w.find(slash)] not in punctuations and w]\n",
    "               for sentence in sentences]\n",
    "sent_tokens[:2]"
   ]
  },
  {
   "cell_type": "code",
   "execution_count": 99,
   "id": "ddbd9e5e-bd32-456a-a5f0-c13b1fb8fadf",
   "metadata": {
    "tags": []
   },
   "outputs": [
    {
     "data": {
      "text/plain": [
       "['term-end',\n",
       " 'over-all',\n",
       " 'September-October',\n",
       " 'hard-fought',\n",
       " 'Mayor-nominate',\n",
       " 're-set']"
      ]
     },
     "execution_count": 99,
     "metadata": {},
     "output_type": "execute_result"
    }
   ],
   "source": [
    "[word for sent in sent_tokens for word in sent if hyphen in word]"
   ]
  },
  {
   "cell_type": "code",
   "execution_count": 97,
   "id": "10771d29-6d1f-4914-8642-1a6f3c92dbad",
   "metadata": {},
   "outputs": [
    {
     "data": {
      "text/plain": [
       "[\"Atlanta's\", \"Georgia's\", \"Georgia's\", \"Department's\", \"ordinary's\"]"
      ]
     },
     "execution_count": 97,
     "metadata": {},
     "output_type": "execute_result"
    }
   ],
   "source": [
    "[word for sent in sent_tokens for word in sent if apostrophe in word]"
   ]
  },
  {
   "cell_type": "code",
   "execution_count": 101,
   "id": "c276524c-9a8c-4236-a3d3-74d757861122",
   "metadata": {},
   "outputs": [],
   "source": [
    "# for loop 사용\n",
    "output = []\n",
    "for sentence in sent_tokens:\n",
    "    temp = []\n",
    "    for word in sentence:\n",
    "        # 문장부호 아닌지 다시 확인\n",
    "        if word not in punctuations and word:\n",
    "            if apostrophe in word:\n",
    "                index = word.find(apostrophe)\n",
    "                words = word[:index], word[index:]\n",
    "            else:\n",
    "                words = [word]\n",
    "            \n",
    "            for word in words:\n",
    "                if hyphen in word:\n",
    "                    words = word.split(hyphen)\n",
    "                else:\n",
    "                    words = [word]\n",
    "            temp.extend(words)\n",
    "        output.append(temp)\n"
   ]
  },
  {
   "cell_type": "code",
   "execution_count": 102,
   "id": "d66208e4-942b-4e54-81d8-3aa7408ecb5c",
   "metadata": {},
   "outputs": [
    {
     "name": "stdout",
     "output_type": "stream",
     "text": [
      "['The', 'City', 'Purchasing', 'Department', 'the', 'jury', 'said', 'is', 'lacking', 'in', 'experienced', 'clerical', 'personnel', 'as', 'a', 'result', 'of', 'city', 'personnel', 'policies']\n"
     ]
    }
   ],
   "source": [
    "random.shuffle(output)\n",
    "print(output[0])"
   ]
  },
  {
   "cell_type": "markdown",
   "id": "7cccbb1a-341f-43f9-99a0-91b59d3c9237",
   "metadata": {
    "tags": []
   },
   "source": [
    "## 함수로"
   ]
  },
  {
   "cell_type": "code",
   "execution_count": 107,
   "id": "cd2d59e4-f701-4710-8636-e53eeaae535a",
   "metadata": {},
   "outputs": [],
   "source": [
    "def clean_corpus(raw:str):\n",
    "    \"\"\"코퍼스 입력 받아서 문장 + 단어 토큰 리스트 반환\"\"\"\n",
    "    return [split_word(sent) for sent in split_sentence(raw) if sent]\n",
    "def split_sentence(text:str):\n",
    "    return [sent.strip() for sent in text.split(eol)]\n",
    "def split_word(sentence:str):\n",
    "    \"\"\"\n",
    "    입력: 문장\n",
    "    정제: 1) 단어 뒤에 품사 제거\n",
    "        2) 문장부호 제거\n",
    "        3) apostrophe 처리\n",
    "        4) hyphen 연결어 처리:\n",
    "    \"\"\"\n",
    "    output = []\n",
    "    for word in sentence.split():\n",
    "        index = find_punct(word, slash)\n",
    "        if has_punct(index):\n",
    "            word = word[:index]\n",
    "        \n",
    "        punctuations = add_punctuation(word)\n",
    "        if word not in punctuations:\n",
    "            index = find_punct(word, apostrophe)\n",
    "            if has_punct(index):\n",
    "                words = word[:index], word[index:]\n",
    "            else:\n",
    "                words = [word]\n",
    "            \n",
    "            index = find_punct(word, hyphen)\n",
    "            if has_punct(index):\n",
    "                words = word.split(hyphen)\n",
    "            output.extend(words)\n",
    "        return output\n",
    "def find_punct(word:str, punct=slash):\n",
    "    \"\"\"문장부호의 인덱스 반환\"\"\"\n",
    "    return word.find(punct)\n",
    "\n",
    "def has_punct(index:int):\n",
    "    \"\"\" 문장부호가 포함되었는지 여부 확인\"\"\"\n",
    "    if index == -1:\n",
    "        return False\n",
    "    else:\n",
    "        return True\n",
    "def add_punctuation(word:str):\n",
    "    \"\"\"기존 문장부호에 없는 요소 추가\"\"\"\n",
    "    punctuation = list(string.punctuation)\n",
    "    if not word.isalnum() and (word not in punctuation):\n",
    "        punctuation.append(word)\n",
    "    return punctuation"
   ]
  },
  {
   "cell_type": "code",
   "execution_count": 111,
   "id": "49a4e095-d80a-4e21-8198-29ab6af7c925",
   "metadata": {},
   "outputs": [],
   "source": [
    "output = clean_corpus(brown)"
   ]
  },
  {
   "cell_type": "code",
   "execution_count": 112,
   "id": "9de80c34-f0d8-41dd-8b9a-26ba15a33edc",
   "metadata": {},
   "outputs": [
    {
     "data": {
      "text/plain": [
       "[]"
      ]
     },
     "execution_count": 112,
     "metadata": {},
     "output_type": "execute_result"
    }
   ],
   "source": [
    "[word for sent in output for word in sent if not word.isalnum()]"
   ]
  }
 ],
 "metadata": {
  "kernelspec": {
   "display_name": "Python 3 (ipykernel)",
   "language": "python",
   "name": "python3"
  },
  "language_info": {
   "codemirror_mode": {
    "name": "ipython",
    "version": 3
   },
   "file_extension": ".py",
   "mimetype": "text/x-python",
   "name": "python",
   "nbconvert_exporter": "python",
   "pygments_lexer": "ipython3",
   "version": "3.9.7"
  }
 },
 "nbformat": 4,
 "nbformat_minor": 5
}
