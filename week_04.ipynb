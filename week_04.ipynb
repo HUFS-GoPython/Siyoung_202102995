{
 "cells": [
  {
   "cell_type": "markdown",
   "id": "a0e819a1-a8c4-45ed-81b3-4cbb65e34ed3",
   "metadata": {},
   "source": [
    "#### NLTK"
   ]
  },
  {
   "cell_type": "code",
   "execution_count": 73,
   "id": "ebc3e1d9-91b7-4e06-88a2-fa7e35e60372",
   "metadata": {},
   "outputs": [],
   "source": [
    "import nltk\n",
    "from nltk.book import *"
   ]
  },
  {
   "cell_type": "markdown",
   "id": "fa9911a9-af05-4c4e-b0bd-bb981f7bf34b",
   "metadata": {},
   "source": [
    "#### 함수 I\n",
    "- ' '.fx(<요소>)\n",
    "- count(): 텍스트에서 어떤 요소의 개수를 세는 \n",
    "- replace():A -> B\n",
    "- strip():불필요한 공백, 등등 원하는 요소 제거하는 역할\n",
    "- find(): 원하는 문자열 찾기\n",
    "- index(): 원하는 문자열의 인덱스 반환"
   ]
  },
  {
   "cell_type": "code",
   "execution_count": 74,
   "id": "990c2d7d-7c7e-41ad-8013-b1b5a58b62f0",
   "metadata": {},
   "outputs": [
    {
     "data": {
      "text/plain": [
       "3861"
      ]
     },
     "execution_count": 74,
     "metadata": {},
     "output_type": "execute_result"
    }
   ],
   "source": [
    "# count\n",
    "text2.count('the')"
   ]
  },
  {
   "cell_type": "code",
   "execution_count": 75,
   "id": "b7c8cffc-7869-40da-b8b7-49586dd401b5",
   "metadata": {},
   "outputs": [
    {
     "data": {
      "text/plain": [
       "2411"
      ]
     },
     "execution_count": 75,
     "metadata": {},
     "output_type": "execute_result"
    }
   ],
   "source": [
    "text3.count('the')"
   ]
  },
  {
   "cell_type": "code",
   "execution_count": 76,
   "id": "2c5bc55f-44af-437a-b34d-0f3898072e59",
   "metadata": {},
   "outputs": [
    {
     "data": {
      "text/plain": [
       "2684"
      ]
     },
     "execution_count": 76,
     "metadata": {},
     "output_type": "execute_result"
    }
   ],
   "source": [
    "text1.count(\"'\")"
   ]
  },
  {
   "cell_type": "code",
   "execution_count": 77,
   "id": "991737fa-927d-4d78-ab75-b39b05327273",
   "metadata": {},
   "outputs": [
    {
     "data": {
      "text/plain": [
       "596"
      ]
     },
     "execution_count": 77,
     "metadata": {},
     "output_type": "execute_result"
    }
   ],
   "source": [
    "text5.count(',')"
   ]
  },
  {
   "cell_type": "code",
   "execution_count": 78,
   "id": "e3aab12d-7a2a-4142-a8d4-c2b0da5c47a2",
   "metadata": {},
   "outputs": [
    {
     "data": {
      "text/plain": [
       "342"
      ]
     },
     "execution_count": 78,
     "metadata": {},
     "output_type": "execute_result"
    }
   ],
   "source": [
    "text5.count('!')"
   ]
  },
  {
   "cell_type": "code",
   "execution_count": 79,
   "id": "d16506e7-840f-42ea-8da0-98d3c44d21fb",
   "metadata": {},
   "outputs": [],
   "source": [
    "word = 'the new hometown'\n",
    "word = word.replace('t', 'T')"
   ]
  },
  {
   "cell_type": "code",
   "execution_count": 80,
   "id": "c9399b7c-2258-4058-b4aa-1d1c04dca4b1",
   "metadata": {},
   "outputs": [
    {
     "data": {
      "text/plain": [
       "'The new homeTown'"
      ]
     },
     "execution_count": 80,
     "metadata": {},
     "output_type": "execute_result"
    }
   ],
   "source": [
    "word"
   ]
  },
  {
   "cell_type": "code",
   "execution_count": 81,
   "id": "aef03a73-163f-4790-b4d7-1dc60391abe8",
   "metadata": {},
   "outputs": [
    {
     "data": {
      "text/plain": [
       "'word       '"
      ]
     },
     "execution_count": 81,
     "metadata": {},
     "output_type": "execute_result"
    }
   ],
   "source": [
    "#strip(), rstrip(), lstrip()\n",
    "word = '                word       '\n",
    "word.lstrip()"
   ]
  },
  {
   "cell_type": "code",
   "execution_count": 82,
   "id": "bd57206f-78c8-4465-9a87-b5bb1586073a",
   "metadata": {},
   "outputs": [
    {
     "data": {
      "text/plain": [
       "18"
      ]
     },
     "execution_count": 82,
     "metadata": {},
     "output_type": "execute_result"
    }
   ],
   "source": [
    "# find: 첫 번째 발견한 r의 인덱스(공백 포함)\n",
    "word.find('r')"
   ]
  },
  {
   "cell_type": "code",
   "execution_count": 83,
   "id": "d46897a9-90e8-4cd7-a107-5dcba8536ed0",
   "metadata": {},
   "outputs": [
    {
     "data": {
      "text/plain": [
       "18"
      ]
     },
     "execution_count": 83,
     "metadata": {},
     "output_type": "execute_result"
    }
   ],
   "source": [
    "word.index('r')"
   ]
  },
  {
   "cell_type": "code",
   "execution_count": 84,
   "id": "eeb80deb-e222-40f8-8a3e-5170e47909d8",
   "metadata": {},
   "outputs": [
    {
     "name": "stdout",
     "output_type": "stream",
     "text": [
      "18\n"
     ]
    }
   ],
   "source": [
    "# find는 rfind(), lfind() 가능 오른쪽부터 인지 왼쪽부터인지?\n",
    "print(word.rfind('r'))"
   ]
  },
  {
   "cell_type": "code",
   "execution_count": 85,
   "id": "8edf9727-b5cb-4dba-9a7f-349d9cf6235f",
   "metadata": {},
   "outputs": [
    {
     "data": {
      "text/plain": [
       "'word'"
      ]
     },
     "execution_count": 85,
     "metadata": {},
     "output_type": "execute_result"
    }
   ],
   "source": [
    "word.strip()"
   ]
  },
  {
   "cell_type": "code",
   "execution_count": 86,
   "id": "d2468289-ea01-418d-b628-f5ef6a4732dc",
   "metadata": {},
   "outputs": [
    {
     "data": {
      "text/plain": [
       "'                word'"
      ]
     },
     "execution_count": 86,
     "metadata": {},
     "output_type": "execute_result"
    }
   ],
   "source": [
    "word.rstrip()"
   ]
  },
  {
   "cell_type": "code",
   "execution_count": 87,
   "id": "5d6a41c5-5b0c-45eb-b31e-21d11030ed90",
   "metadata": {},
   "outputs": [
    {
     "data": {
      "text/plain": [
       "'Work'"
      ]
     },
     "execution_count": 87,
     "metadata": {},
     "output_type": "execute_result"
    }
   ],
   "source": [
    "word.lstrip().rstrip().replace('w','W').replace('d','k')"
   ]
  },
  {
   "cell_type": "code",
   "execution_count": 88,
   "id": "db1d505d-4ead-43fd-b346-e036dbe5173f",
   "metadata": {},
   "outputs": [
    {
     "data": {
      "text/plain": [
       "3"
      ]
     },
     "execution_count": 88,
     "metadata": {},
     "output_type": "execute_result"
    }
   ],
   "source": [
    "word2 = 'I have a apple'\n",
    "word2.find('a')"
   ]
  },
  {
   "cell_type": "code",
   "execution_count": 89,
   "id": "a0e7ec08-25a3-4c1a-b6d9-440c06f5725e",
   "metadata": {},
   "outputs": [
    {
     "data": {
      "text/plain": [
       "3"
      ]
     },
     "execution_count": 89,
     "metadata": {},
     "output_type": "execute_result"
    }
   ],
   "source": [
    "word2.count('a')"
   ]
  },
  {
   "cell_type": "code",
   "execution_count": 90,
   "id": "4725125f-852d-4ff3-82d2-7a0efdd38ea6",
   "metadata": {},
   "outputs": [
    {
     "data": {
      "text/plain": [
       "3"
      ]
     },
     "execution_count": 90,
     "metadata": {},
     "output_type": "execute_result"
    }
   ],
   "source": [
    "word2.index('a')"
   ]
  },
  {
   "cell_type": "code",
   "execution_count": 91,
   "id": "a6690508-c635-4b9e-9b15-da934acc7b83",
   "metadata": {},
   "outputs": [
    {
     "data": {
      "text/plain": [
       "-1"
      ]
     },
     "execution_count": 91,
     "metadata": {},
     "output_type": "execute_result"
    }
   ],
   "source": [
    "word2.find('z')"
   ]
  },
  {
   "cell_type": "code",
   "execution_count": 92,
   "id": "ad075ccf-b2cc-49df-b736-74f4f31493e9",
   "metadata": {},
   "outputs": [],
   "source": [
    "# word2.index('z') \n",
    "## index와 find의 차이점\n",
    "## index는 문장 내에 없으면 error\n",
    "## find는 문장 내에 있으면 -1 반환"
   ]
  },
  {
   "cell_type": "markdown",
   "id": "6554ef8f-71c8-4898-829b-26ac7f4cdfca",
   "metadata": {},
   "source": [
    "#### 함수 II\n",
    "- NLTK 전용\n",
    "- concordance(): 특정 스트링 이 어떤 문맥에서 쓰이는지\n",
    "- similar(): 주어진 스트링과 비슷한 문맥에서 쓰이는 단어들 보여줌\n",
    "- common_context(리스트): 주어진 스트링들(괄호 안에 리스트가 들어가야됨)이 공유하는 맥락\n",
    "- dispersion_plot(리스트): 주어진 스트링들(괄호 안에 리스트가 들어가야됨)이 텍스트의 어느 위치에 나오는지 이미지로 보여줌"
   ]
  },
  {
   "cell_type": "code",
   "execution_count": 93,
   "id": "95453259-785a-49bd-a988-4faf0b886ac3",
   "metadata": {},
   "outputs": [
    {
     "name": "stdout",
     "output_type": "stream",
     "text": [
      "Displaying 25 of 1226 matches:\n",
      "s , and to teach them by what name a whale - fish is to be called in our tongue\n",
      "t which is not true .\" -- HACKLUYT \" WHALE . ... Sw . and Dan . HVAL . This ani\n",
      "ulted .\" -- WEBSTER ' S DICTIONARY \" WHALE . ... It is more immediately from th\n",
      "ISH . WAL , DUTCH . HWAL , SWEDISH . WHALE , ICELANDIC . WHALE , ENGLISH . BALE\n",
      "HWAL , SWEDISH . WHALE , ICELANDIC . WHALE , ENGLISH . BALEINE , FRENCH . BALLE\n",
      "least , take the higgledy - piggledy whale statements , however authentic , in \n",
      " dreadful gulf of this monster ' s ( whale ' s ) mouth , are immediately lost a\n",
      " patient Job .\" -- RABELAIS . \" This whale ' s liver was two cartloads .\" -- ST\n",
      " Touching that monstrous bulk of the whale or ork we have received nothing cert\n",
      " of oil will be extracted out of one whale .\" -- IBID . \" HISTORY OF LIFE AND D\n",
      "ise .\" -- KING HENRY . \" Very like a whale .\" -- HAMLET . \" Which to secure , n\n",
      "restless paine , Like as the wounded whale to shore flies thro ' the maine .\" -\n",
      ". OF SPERMA CETI AND THE SPERMA CETI WHALE . VIDE HIS V . E . \" Like Spencer ' \n",
      "t had been a sprat in the mouth of a whale .\" -- PILGRIM ' S PROGRESS . \" That \n",
      "EN ' S ANNUS MIRABILIS . \" While the whale is floating at the stern of the ship\n",
      "e ship called The Jonas - in - the - Whale . ... Some say the whale can ' t ope\n",
      " in - the - Whale . ... Some say the whale can ' t open his mouth , but that is\n",
      " masts to see whether they can see a whale , for the first discoverer has a duc\n",
      " for his pains . ... I was told of a whale taken near Shetland , that had above\n",
      "oneers told me that he caught once a whale in Spitzbergen that was white all ov\n",
      "2 , one eighty feet in length of the whale - bone kind came in , which ( as I w\n",
      "n master and kill this Sperma - ceti whale , for I could never hear of any of t\n",
      " . 1729 . \"... and the breath of the whale is frequendy attended with such an i\n",
      "ed with hoops and armed with ribs of whale .\" -- RAPE OF THE LOCK . \" If we com\n",
      "contemptible in the comparison . The whale is doubtless the largest animal in c\n"
     ]
    }
   ],
   "source": [
    "text1.concordance('whale')"
   ]
  },
  {
   "cell_type": "code",
   "execution_count": 94,
   "id": "b78580df-d8a9-4662-8e58-8c36a778b3a5",
   "metadata": {},
   "outputs": [
    {
     "name": "stdout",
     "output_type": "stream",
     "text": [
      "ship boat sea time captain world man deck pequod other whales air\n",
      "water head crew line thing side way body\n"
     ]
    }
   ],
   "source": [
    "# similar 함수로 출력되는 값은 타입이 없다. 즉 어떠한 변수로 받아서 사용하는 것이 불가능하다.\n",
    "text1.similar('whale')"
   ]
  },
  {
   "cell_type": "code",
   "execution_count": 95,
   "id": "46c8cf4c-c382-4d9d-ad1e-094bef962e9a",
   "metadata": {},
   "outputs": [
    {
     "name": "stdout",
     "output_type": "stream",
     "text": [
      "am_glad a_pretty a_lucky is_pretty be_glad\n"
     ]
    }
   ],
   "source": [
    "text2.common_contexts(['monstrous', 'very'])"
   ]
  },
  {
   "cell_type": "code",
   "execution_count": 96,
   "id": "7d879954-7f0f-45f4-a173-eb0105098010",
   "metadata": {},
   "outputs": [
    {
     "name": "stdout",
     "output_type": "stream",
     "text": [
      "Requirement already satisfied: matplotlip in c:\\anaconda3\\lib\\site-packages (0.2)\n"
     ]
    },
    {
     "data": {
      "image/png": "[encoded data removed]",
      "text/plain": [
       "<Figure size 432x288 with 1 Axes>"
      ]
     },
     "metadata": {
      "needs_background": "light"
     },
     "output_type": "display_data"
    }
   ],
   "source": [
    "!pip install matplotlip\n",
    "text4.dispersion_plot(['citizen', 'democracy', 'America'])"
   ]
  },
  {
   "cell_type": "markdown",
   "id": "c78a5e9e-c3c5-472b-ab02-2b58778bea97",
   "metadata": {},
   "source": [
    "#### 리스트 & 리스트컴프리핸션\n",
    "- 프로그래밍에서 '배열'에 대항, 파이썬에서는 리스트라고 부른다.\n",
    "- 하나의 변수에 여러 값을 할당하는 자료형\n",
    "    - example = [1,2,3,4]\n",
    "- 대괄호를 사용한다.\n",
    "- 내부요소들의 자료형은 같을 필요 없다.\n",
    "    - example = [1, 'yes', True]\n",
    "- 순서가 있는 자료형 => 슬라이싱, 인덱싱\n",
    "- 빈 리스트 선언: set(), [ ]"
   ]
  },
  {
   "cell_type": "code",
   "execution_count": 97,
   "id": "f260b32b-d53a-4d59-ba6a-289dfd2072e4",
   "metadata": {},
   "outputs": [
    {
     "data": {
      "text/plain": [
       "[1]"
      ]
     },
     "execution_count": 97,
     "metadata": {},
     "output_type": "execute_result"
    }
   ],
   "source": [
    "num_list =[]\n",
    "num_list.append(1)\n",
    "num_list"
   ]
  },
  {
   "cell_type": "code",
   "execution_count": 98,
   "id": "bff290c4-55a6-4fdb-87d6-6208410c1079",
   "metadata": {},
   "outputs": [
    {
     "data": {
      "text/plain": [
       "'blue'"
      ]
     },
     "execution_count": 98,
     "metadata": {},
     "output_type": "execute_result"
    }
   ],
   "source": [
    "colors = ['blue', 'yellow', 'white']\n",
    "colors[0]"
   ]
  },
  {
   "cell_type": "code",
   "execution_count": 99,
   "id": "8e98ead2-750f-4d45-afe3-da8273701bbe",
   "metadata": {},
   "outputs": [
    {
     "data": {
      "text/plain": [
       "['blue', 'yellow']"
      ]
     },
     "execution_count": 99,
     "metadata": {},
     "output_type": "execute_result"
    }
   ],
   "source": [
    "colors[0:2]"
   ]
  },
  {
   "cell_type": "code",
   "execution_count": 100,
   "id": "5ce02720-915c-483f-90f1-daac27ef133a",
   "metadata": {},
   "outputs": [
    {
     "data": {
      "text/plain": [
       "['white', 'yellow', 'blue']"
      ]
     },
     "execution_count": 100,
     "metadata": {},
     "output_type": "execute_result"
    }
   ],
   "source": [
    "colors[::-1]"
   ]
  },
  {
   "cell_type": "markdown",
   "id": "69ab9786-0eef-481e-a6c6-827f51acbc16",
   "metadata": {
    "tags": []
   },
   "source": [
    "#### list comperhension\n",
    "- 포함형/지능형/축약형 리스트\n",
    "- 하나의 리스트에서 그걸 포함하여 다른 리스트를 만든다.\n",
    "- list + for loop\n",
    "- [A for A' in C]\n",
    "    - C에 있는 A'에서 A를 가져와라 => 리스트에 담아서 반환\n",
    "    - A : 내가 원하는 형태(리스트 속에 들어가는 출력값)\n",
    "    - A' : C의 형태(딕셔너리일 경우에는 두가지 변수를 넣어야 됨)\n",
    "    - C : 반복가능한 자료형 (리스트)\n",
    "- 조건 추가: [A for A' in C if <조건>]"
   ]
  },
  {
   "cell_type": "code",
   "execution_count": 101,
   "id": "4b1c277e-c770-4ace-9c8b-dbebc52e4b10",
   "metadata": {},
   "outputs": [
    {
     "data": {
      "text/plain": [
       "['[', 'y', 'k', 'y', 'n', 'e', '1', ']', 'Y', '.']"
      ]
     },
     "execution_count": 101,
     "metadata": {},
     "output_type": "execute_result"
    }
   ],
   "source": [
    "[word[-1] for word in text1.tokens[:10]]"
   ]
  },
  {
   "cell_type": "code",
   "execution_count": 102,
   "id": "2482d042-6dbb-49ba-846b-10e8063889b5",
   "metadata": {},
   "outputs": [
    {
     "data": {
      "text/plain": [
       "['b', 'y', 'w']"
      ]
     },
     "execution_count": 102,
     "metadata": {},
     "output_type": "execute_result"
    }
   ],
   "source": [
    "[color[0] for color in colors]"
   ]
  },
  {
   "cell_type": "code",
   "execution_count": 103,
   "id": "aa7c964a-1a79-4f4f-801d-42b2d984ce3a",
   "metadata": {},
   "outputs": [
    {
     "data": {
      "text/plain": [
       "['LU', 'EL', 'HI']"
      ]
     },
     "execution_count": 103,
     "metadata": {},
     "output_type": "execute_result"
    }
   ],
   "source": [
    "[color[1:3].upper() for color in colors]"
   ]
  },
  {
   "cell_type": "code",
   "execution_count": 104,
   "id": "1a710c94-bc31-4267-b182-1290a9291f6d",
   "metadata": {},
   "outputs": [
    {
     "data": {
      "text/plain": [
       "['LB', 'EY', 'HW']"
      ]
     },
     "execution_count": 104,
     "metadata": {},
     "output_type": "execute_result"
    }
   ],
   "source": [
    "[color[1::-1].upper() for color in colors]"
   ]
  },
  {
   "cell_type": "code",
   "execution_count": 105,
   "id": "e0a18f5a-b1d0-4742-8555-63cfe9f1d9cd",
   "metadata": {},
   "outputs": [
    {
     "data": {
      "text/plain": [
       "['.', '1', 'Y', '[', ']', 'e', 'k', 'n', 'y']"
      ]
     },
     "execution_count": 105,
     "metadata": {},
     "output_type": "execute_result"
    }
   ],
   "source": [
    "sorted(set([word[-1] for word in text1.tokens[:10]]))"
   ]
  },
  {
   "cell_type": "code",
   "execution_count": 106,
   "id": "8b5bfdc9-0e4e-4de2-bd28-ed67053881b9",
   "metadata": {},
   "outputs": [
    {
     "data": {
      "text/plain": [
       "['Y', 'e', 'k', 'n', 'y']"
      ]
     },
     "execution_count": 106,
     "metadata": {},
     "output_type": "execute_result"
    }
   ],
   "source": [
    "sorted(set([word[-1] for word in text1.tokens[:10] if word.isalpha()]))"
   ]
  },
  {
   "cell_type": "code",
   "execution_count": 107,
   "id": "755741e9-dd5a-4dab-8bfe-5a61f9c4e88f",
   "metadata": {},
   "outputs": [
    {
     "data": {
      "text/plain": [
       "['E', 'K', 'N', 'Y']"
      ]
     },
     "execution_count": 107,
     "metadata": {},
     "output_type": "execute_result"
    }
   ],
   "source": [
    "sorted(set([word[-1].upper() for word in text1.tokens[:10] if word.isalpha()]))"
   ]
  },
  {
   "cell_type": "code",
   "execution_count": 108,
   "id": "2866a149-0dcb-42cc-9616-1fa3b249cb74",
   "metadata": {},
   "outputs": [],
   "source": [
    "#1. text5에서 길이가 15 이상인 단어 추출하기"
   ]
  },
  {
   "cell_type": "code",
   "execution_count": 147,
   "id": "736ea392-fdc0-4578-b77c-b74d1fd2a6f9",
   "metadata": {
    "tags": []
   },
   "outputs": [
    {
     "data": {
      "text/plain": [
       "['iamahotniplickme',\n",
       " '!!!!!!!!!!!!!!!!',\n",
       " 'iamahotnipwithpics',\n",
       " 'iamahotnipwithhotnippics',\n",
       " '--------------------',\n",
       " '..............................',\n",
       " '!!!!!!!!!!!!!!!!',\n",
       " 'mikeeeeeeeeeeeeeeeeeeeeeeeeee',\n",
       " 'oooooooooooooonnnnnnnnnnnneeeeeeeeeeeeeeesssssssss',\n",
       " 'WEEEEEEEEEEEEEEEEEE']"
      ]
     },
     "execution_count": 147,
     "metadata": {},
     "output_type": "execute_result"
    }
   ],
   "source": [
    "[word for word in text5 if len(word) >= 15][:10]"
   ]
  },
  {
   "cell_type": "code",
   "execution_count": 110,
   "id": "975944a3-ab16-4b3d-b34a-32d21b0b63f0",
   "metadata": {},
   "outputs": [],
   "source": [
    "#2. text3에서 대문자인 단어를 소문자로 변환: isupper(), lower()"
   ]
  },
  {
   "cell_type": "code",
   "execution_count": 111,
   "id": "a31503ba-a06e-46f6-a5f4-379aeda7b625",
   "metadata": {
    "tags": []
   },
   "outputs": [
    {
     "data": {
      "text/plain": [
       "['i', 'lo', 'lord', 'g', 'o', 'a']"
      ]
     },
     "execution_count": 111,
     "metadata": {},
     "output_type": "execute_result"
    }
   ],
   "source": [
    "list(set([word.lower() for word in text3 if word.isupper()]))"
   ]
  },
  {
   "cell_type": "markdown",
   "id": "f170f90b-66b5-4a2f-b60a-1d51effe756c",
   "metadata": {},
   "source": [
    "#### cased, uncased\n",
    "- 변환: upper(), lower(), title(), swapcase()\n",
    "- 형태 체크: isupper(), islower(), istitle()\n",
    "    - endswith(<string>), startswith(): ~로 끝나는 것, ~로 시작하는 것\n",
    "    - isalpha(): 문자냐\n",
    "- 'string'.upper()\n",
    "- 'string'.endswith()"
   ]
  },
  {
   "cell_type": "code",
   "execution_count": 112,
   "id": "fb0a7528-6716-4757-b828-0ef78d5b770f",
   "metadata": {},
   "outputs": [],
   "source": [
    "# text1에서 'ableness'로 끝나는 단어 중복없이, 정렬해서\n",
    "a = sorted(set([word for word in text1 if word.endswith ('ableness')]))\n",
    "b = sorted([word for word in set(text1) if word.endswith ('ableness')])"
   ]
  },
  {
   "cell_type": "code",
   "execution_count": 113,
   "id": "9d915740-4fa9-4933-b7bc-f11b077d4b01",
   "metadata": {},
   "outputs": [
    {
     "name": "stdout",
     "output_type": "stream",
     "text": [
      "['comfortableness', 'honourableness', 'immutableness', 'indispensableness', 'indomitableness', 'intolerableness', 'palpableness', 'reasonableness', 'uncomfortableness']\n",
      "['comfortableness', 'honourableness', 'immutableness', 'indispensableness', 'indomitableness', 'intolerableness', 'palpableness', 'reasonableness', 'uncomfortableness']\n"
     ]
    }
   ],
   "source": [
    "print(a)\n",
    "print(b)"
   ]
  },
  {
   "cell_type": "code",
   "execution_count": 114,
   "id": "59a3b2ec-2813-40d3-a77e-59ad8d6e606c",
   "metadata": {},
   "outputs": [],
   "source": [
    "# text 4에서 'gnt'가 포함된 단어들을 소문자 리스트로 반환\n",
    "a = [word.lower() for word in set(text4) if 'gnt' in word]\n",
    "b = set([word.lower() for word in text4 if 'gnt' in word])"
   ]
  },
  {
   "cell_type": "code",
   "execution_count": 115,
   "id": "6d858144-e33e-475c-b9fa-ba231a1b8247",
   "metadata": {},
   "outputs": [
    {
     "name": "stdout",
     "output_type": "stream",
     "text": [
      "['sovereignty', 'sovereignties', 'sovereignty'] 3\n",
      "{'sovereignties', 'sovereignty'} 2\n"
     ]
    }
   ],
   "source": [
    "print(a, len(a))\n",
    "print(b, len(b))"
   ]
  },
  {
   "cell_type": "markdown",
   "id": "4c1c3a10-509b-4164-97b3-299e4831132b",
   "metadata": {},
   "source": [
    "#### NLTK\n",
    "- Frequency Distribution : 단어가 몇 번 출현했는지(빈도수)\n",
    "- 텍스트의 성질 알기 위해\n",
    "    - 단어 개수\n",
    "    - 단어 빈도수\n",
    "- FreqDist('text')"
   ]
  },
  {
   "cell_type": "code",
   "execution_count": 116,
   "id": "d4d113af-041f-4723-af23-75d15ceb34bb",
   "metadata": {},
   "outputs": [],
   "source": [
    "from nltk import FreqDist\n",
    "fdist = FreqDist(text2)"
   ]
  },
  {
   "cell_type": "code",
   "execution_count": 117,
   "id": "92f3e46e-c64f-4465-9c9c-799946bfce4a",
   "metadata": {},
   "outputs": [],
   "source": [
    "word2 = [w for w in text2 if w.isalpha()]"
   ]
  },
  {
   "cell_type": "code",
   "execution_count": 118,
   "id": "1863ad87-adaa-4473-97bc-94992ed6c219",
   "metadata": {
    "tags": []
   },
   "outputs": [
    {
     "data": {
      "text/plain": [
       "[('to', 4063),\n",
       " ('the', 3861),\n",
       " ('of', 3565),\n",
       " ('and', 3350),\n",
       " ('her', 2436),\n",
       " ('a', 2043),\n",
       " ('I', 2004),\n",
       " ('in', 1904),\n",
       " ('was', 1846),\n",
       " ('it', 1568),\n",
       " ('she', 1333),\n",
       " ('be', 1305),\n",
       " ('that', 1297),\n",
       " ('for', 1234),\n",
       " ('not', 1212),\n",
       " ('as', 1179),\n",
       " ('you', 1037),\n",
       " ('with', 971),\n",
       " ('had', 969),\n",
       " ('his', 941),\n",
       " ('he', 895),\n",
       " ('have', 807),\n",
       " ('at', 806),\n",
       " ('by', 737),\n",
       " ('is', 728),\n",
       " ('s', 700),\n",
       " ('Elinor', 684),\n",
       " ('on', 676),\n",
       " ('all', 642),\n",
       " ('him', 633)]"
      ]
     },
     "execution_count": 118,
     "metadata": {},
     "output_type": "execute_result"
    }
   ],
   "source": [
    "fdist2 = FreqDist(word2)\n",
    "fdist2.most_common(30)"
   ]
  },
  {
   "cell_type": "code",
   "execution_count": 119,
   "id": "09c8c708-8049-404c-85ca-5acab13f3d57",
   "metadata": {
    "tags": []
   },
   "outputs": [
    {
     "data": {
      "text/plain": [
       "[(',', 9397),\n",
       " ('to', 4063),\n",
       " ('.', 3975),\n",
       " ('the', 3861),\n",
       " ('of', 3565),\n",
       " ('and', 3350),\n",
       " ('her', 2436),\n",
       " ('a', 2043),\n",
       " ('I', 2004),\n",
       " ('in', 1904),\n",
       " ('was', 1846),\n",
       " ('it', 1568),\n",
       " ('\"', 1506),\n",
       " (';', 1419),\n",
       " ('she', 1333),\n",
       " ('be', 1305),\n",
       " ('that', 1297),\n",
       " ('for', 1234),\n",
       " ('not', 1212),\n",
       " ('as', 1179)]"
      ]
     },
     "execution_count": 119,
     "metadata": {},
     "output_type": "execute_result"
    }
   ],
   "source": [
    "fdist.most_common(20) #상위 가장 빈번한 것(개수)"
   ]
  },
  {
   "cell_type": "code",
   "execution_count": 120,
   "id": "75890565-71b7-44da-94a5-fa7b054ca886",
   "metadata": {},
   "outputs": [
    {
     "data": {
      "text/plain": [
       "(1297, 1297, 41, 47)"
      ]
     },
     "execution_count": 120,
     "metadata": {},
     "output_type": "execute_result"
    }
   ],
   "source": [
    "# 딕셔너리 형태\n",
    "fdist['that'] , text2.count('that'), fdist['That'], fdist['THAT']"
   ]
  },
  {
   "cell_type": "code",
   "execution_count": 121,
   "id": "e0b0ce50-1223-4621-84e4-1a62b962705d",
   "metadata": {},
   "outputs": [
    {
     "data": {
      "text/plain": [
       "0.009161157258292366"
      ]
     },
     "execution_count": 121,
     "metadata": {},
     "output_type": "execute_result"
    }
   ],
   "source": [
    "fdist.freq('that')"
   ]
  },
  {
   "cell_type": "code",
   "execution_count": 122,
   "id": "cdfe3dae-ebfa-4f45-a78c-cea05e2e052b",
   "metadata": {},
   "outputs": [
    {
     "data": {
      "image/png": "[encoded data removed]",
      "text/plain": [
       "<Figure size 432x288 with 1 Axes>"
      ]
     },
     "metadata": {
      "needs_background": "light"
     },
     "output_type": "display_data"
    },
    {
     "data": {
      "text/plain": [
       "<AxesSubplot:xlabel='Samples', ylabel='Cumulative Counts'>"
      ]
     },
     "execution_count": 122,
     "metadata": {},
     "output_type": "execute_result"
    }
   ],
   "source": [
    "fdist2.plot(10, cumulative = True)"
   ]
  },
  {
   "cell_type": "code",
   "execution_count": 142,
   "id": "be9db718-caf7-487a-8dfb-7b59ae0b3a6b",
   "metadata": {
    "tags": []
   },
   "outputs": [
    {
     "data": {
      "text/plain": [
       "['Sense',\n",
       " 'Sensibility',\n",
       " 'Jane',\n",
       " 'Austen',\n",
       " '1811',\n",
       " ']',\n",
       " 'generations',\n",
       " 'inheritor',\n",
       " 'bequeath',\n",
       " 'Gentleman']"
      ]
     },
     "execution_count": 142,
     "metadata": {},
     "output_type": "execute_result"
    }
   ],
   "source": [
    "# 가장 빈번하지 않은 => 1번 나타나는 단어\n",
    "fdist.hapaxes()[:10]"
   ]
  },
  {
   "cell_type": "code",
   "execution_count": 143,
   "id": "d2958ed6-70d8-418d-91d6-cdb047e6e014",
   "metadata": {
    "tags": []
   },
   "outputs": [
    {
     "data": {
      "text/plain": [
       "['Jane',\n",
       " 'Sense',\n",
       " 'Austen',\n",
       " 'bequeath',\n",
       " 'inheritor',\n",
       " 'Gentleman',\n",
       " 'Sensibility',\n",
       " 'generations']"
      ]
     },
     "execution_count": 143,
     "metadata": {},
     "output_type": "execute_result"
    }
   ],
   "source": [
    "# 알파벳만 담아보기\n",
    "sorted([string for string in set(fdist.hapaxes()[:10]) if string.isalpha()], key = len)"
   ]
  },
  {
   "cell_type": "code",
   "execution_count": 125,
   "id": "4a3b1e47-b096-491b-b88c-a525e6e039ce",
   "metadata": {
    "tags": []
   },
   "outputs": [
    {
     "name": "stdout",
     "output_type": "stream",
     "text": [
      "1385\n"
     ]
    },
    {
     "data": {
      "text/plain": [
       "0"
      ]
     },
     "execution_count": 125,
     "metadata": {},
     "output_type": "execute_result"
    }
   ],
   "source": [
    "# 대소문자 구분 없이 freqdist 만드려면? \n",
    "# 리스트 -> 리스트(리스트 컴프리핸션)\n",
    "# set을 사용하면 안된다. (set -> 중복 없앰 -> 빈도 수 == 1)\n",
    "# 왜냐하면 set을 하면 중복이 전부 사라지기 때문에 freqdist가 전부 1로 같아지게 된다.\n",
    "fdist3 = FreqDist([k.lower() for k in text2])\n",
    "print(fdist3['that'])\n",
    "fdist3['That']"
   ]
  },
  {
   "cell_type": "code",
   "execution_count": 146,
   "id": "b60090af-b88e-4431-b450-6828d785c454",
   "metadata": {
    "tags": []
   },
   "outputs": [
    {
     "data": {
      "text/plain": [
       "['and',\n",
       " 'by',\n",
       " 'The',\n",
       " 'of',\n",
       " 'had',\n",
       " 'in',\n",
       " '.',\n",
       " 'was',\n",
       " ',',\n",
       " 'and',\n",
       " 'was',\n",
       " 'at',\n",
       " ',',\n",
       " 'in',\n",
       " 'the',\n",
       " 'of',\n",
       " ',',\n",
       " ',',\n",
       " 'for',\n",
       " ',',\n",
       " 'had']"
      ]
     },
     "execution_count": 146,
     "metadata": {},
     "output_type": "execute_result"
    }
   ],
   "source": [
    "# text2에서 길이가 3자이하이고, 빈도수 5이상\n",
    "fdist4 = FreqDist(text4)\n",
    "[word2 for word2 in text2[:50] if len(word2) <= 3 and fdist4[word2] >= 5]"
   ]
  },
  {
   "cell_type": "code",
   "execution_count": 127,
   "id": "8ff1b1bb-3304-44ab-8845-a6ed49f7d813",
   "metadata": {},
   "outputs": [],
   "source": [
    "# 가능은 하지만 지나치게 비효율적\n",
    "# [word3 for word3 in text2 if len(word3) <= 3 and text2.count(word3) >= 5] "
   ]
  },
  {
   "cell_type": "code",
   "execution_count": 128,
   "id": "ae7daf4f-9640-48a4-a3f2-e9b82cdf12df",
   "metadata": {
    "tags": []
   },
   "outputs": [
    {
     "name": "stdout",
     "output_type": "stream",
     "text": [
      "['A', 'Ah', 'All', 'An', 'And', 'Are', 'As', 'At', 'Ay', 'Aye', 'But', 'By', 'CAN', 'Can', 'DID', 'DO', 'Did', 'Do', 'Don', 'For', 'God', 'HE', 'HER', 'HIM', 'HIS', 'Had', 'Has', 'He', 'Her', 'His']\n"
     ]
    }
   ],
   "source": [
    "print(sorted([word4 for (word4,count4) in FreqDist(text2).items()\\\n",
    " if (len(word4) <= 3) and (count4 >= 5) and word4.isalpha()])[:30])"
   ]
  },
  {
   "cell_type": "markdown",
   "id": "54444efc-7897-4ece-a27e-dcf5ef2ab382",
   "metadata": {},
   "source": [
    "#### 리스트 <-> 스트링\n",
    "- split(): string.split(separator) ----------> 스트링에서 리스트로\n",
    "    - default = ''\n",
    "- join():sperator.join(string) --------------> 리스트에서 스트링으로"
   ]
  },
  {
   "cell_type": "code",
   "execution_count": 148,
   "id": "e9ae15f4-5c56-4275-ae12-e81aaf593199",
   "metadata": {},
   "outputs": [
    {
     "data": {
      "text/plain": [
       "['I', 'have', 'an', 'apple']"
      ]
     },
     "execution_count": 148,
     "metadata": {},
     "output_type": "execute_result"
    }
   ],
   "source": [
    "sent = 'I have an apple'\n",
    "# ['I', 'have', 'a', 'car'] # tokens\n",
    "sent.split()"
   ]
  },
  {
   "cell_type": "code",
   "execution_count": 149,
   "id": "c8574cb1-0099-40a8-aaa6-a0cc4b36262d",
   "metadata": {},
   "outputs": [
    {
     "data": {
      "text/plain": [
       "['I', ' have', ' an', ' apple']"
      ]
     },
     "execution_count": 149,
     "metadata": {},
     "output_type": "execute_result"
    }
   ],
   "source": [
    "sent2 = 'I, have, an, apple'\n",
    "sent2.split(',')"
   ]
  },
  {
   "cell_type": "code",
   "execution_count": 150,
   "id": "1e626104-481b-4b4e-8380-3b2547dbfe95",
   "metadata": {},
   "outputs": [
    {
     "data": {
      "text/plain": [
       "['I', 'have', 'an', 'apple']"
      ]
     },
     "execution_count": 150,
     "metadata": {},
     "output_type": "execute_result"
    }
   ],
   "source": [
    "# 사이에 추가된 공백을 없애는 방법 ==> 리스트로\n",
    "[w.strip() for w in sent2.split(',')]"
   ]
  },
  {
   "cell_type": "code",
   "execution_count": 156,
   "id": "b1dbff5f-29f4-4a96-9e13-6e929914e575",
   "metadata": {},
   "outputs": [
    {
     "data": {
      "text/plain": [
       "['I', 'have', 'an', 'apple']"
      ]
     },
     "execution_count": 156,
     "metadata": {},
     "output_type": "execute_result"
    }
   ],
   "source": [
    "sent_tokens = [w.strip() for w in sent2.split(',')]\n",
    "sent_tokens"
   ]
  },
  {
   "cell_type": "code",
   "execution_count": 157,
   "id": "8e32d96e-819c-4bc1-a4f5-7cdf3d41eee9",
   "metadata": {},
   "outputs": [
    {
     "data": {
      "text/plain": [
       "'I have an apple'"
      ]
     },
     "execution_count": 157,
     "metadata": {},
     "output_type": "execute_result"
    }
   ],
   "source": [
    "' '.join(sent_tokens)"
   ]
  },
  {
   "cell_type": "markdown",
   "id": "9e5ef7e7-4833-4cc7-b11e-8b1dca9c633a",
   "metadata": {},
   "source": [
    "#### 반복문 맛보기\n",
    "- 자료구조를 순회할 때 사용\n",
    "- 시작조건, 종료조건, 수행명령으로 구성\n",
    "- for 변수 in <반복 범위>:\n",
    "<들여쓰기> <수행명령>\n",
    "- range(start,end,step):숫자 순회할 때\n",
    "    - 0부터 시작\n",
    "    - 인테스랑 다른 점: 인덱스([1:2:1]), range(1,2,1)"
   ]
  },
  {
   "cell_type": "code",
   "execution_count": 158,
   "id": "52fdcd44-5ba4-4a44-b0f3-14013fd9b13d",
   "metadata": {},
   "outputs": [
    {
     "data": {
      "text/plain": [
       "['I', 'have', 'an', 'apple']"
      ]
     },
     "execution_count": 158,
     "metadata": {},
     "output_type": "execute_result"
    }
   ],
   "source": [
    "[w for w in sent_tokens]"
   ]
  },
  {
   "cell_type": "code",
   "execution_count": 159,
   "id": "a5498285-a930-42c6-8b70-c8c3fefdc87c",
   "metadata": {},
   "outputs": [
    {
     "name": "stdout",
     "output_type": "stream",
     "text": [
      "I\n",
      "have\n",
      "an\n",
      "apple\n"
     ]
    }
   ],
   "source": [
    "for word in sent_tokens:\n",
    "    print(word)"
   ]
  },
  {
   "cell_type": "code",
   "execution_count": 160,
   "id": "6979dec0-49c6-4eb8-bf05-ba9878c43398",
   "metadata": {},
   "outputs": [
    {
     "name": "stdout",
     "output_type": "stream",
     "text": [
      "0\n",
      "1\n",
      "2\n",
      "3\n",
      "4\n",
      "5\n",
      "6\n",
      "7\n",
      "8\n",
      "9\n"
     ]
    }
   ],
   "source": [
    "# 1 - 10 출력\n",
    "for i in range(10):\n",
    "    print(i)"
   ]
  },
  {
   "cell_type": "code",
   "execution_count": 161,
   "id": "38635d1d-cbc7-4d35-a4ad-98564d603434",
   "metadata": {},
   "outputs": [
    {
     "name": "stdout",
     "output_type": "stream",
     "text": [
      "1\n",
      "4\n",
      "7\n"
     ]
    }
   ],
   "source": [
    "for i in range(1,10,3):\n",
    "    print(i)"
   ]
  },
  {
   "cell_type": "markdown",
   "id": "e1a10e46-3193-4ea7-b664-c2d33d8ad266",
   "metadata": {},
   "source": [
    "### Ex\n",
    "- 1. text6에서 길이가 4자 이하인 알파벳 중 ie를 포함하는 단어를 단어 개수로 출력하시오.\n",
    "    - 예: [1, 3, 4, 3]\n",
    "- 2. text2에서 ch로 끝나는 단어를 출력하는데 \n",
    "    - 중복은 없고\n",
    "    - 첫 글자와 ch 남기고 가운데는 모두 -으로 가려라.\n",
    "        예: much -> m-ch\n",
    "        - ch로 시작하면 바꾸면 안됨\n",
    "    - 정렬:\n",
    "        - 문자 길이로 정렬하기"
   ]
  },
  {
   "cell_type": "code",
   "execution_count": 162,
   "id": "05ece566-d31b-4371-9a60-83e96c5bea0d",
   "metadata": {},
   "outputs": [
    {
     "name": "stdout",
     "output_type": "stream",
     "text": [
      "[3, 3, 3, 3, 3, 3, 4, 3, 3, 3, 3, 3, 4, 4, 4, 4, 3, 3, 3, 3, 3, 4, 4]\n"
     ]
    }
   ],
   "source": [
    "word = [len(word) for word in text6 if len(word) <= 4 and 'ie' in word]\n",
    "print(word)"
   ]
  },
  {
   "cell_type": "code",
   "execution_count": 163,
   "id": "d847e9f7-6342-4924-ab2d-c732ef81f4b4",
   "metadata": {},
   "outputs": [
    {
     "name": "stdout",
     "output_type": "stream",
     "text": [
      "['rich', 'much', 'each', 'Each', 'Such', 'inch', 'such', 'Much', 'bitch', 'fetch', 'watch', 'catch', 'Which', 'which', 'coach', 'pitch', 'touch', 'reach', 'teach', 'March', 'match', 'speech', 'sketch', 'branch', 'breach', 'enrich', 'search', 'attach', 'church', 'scratch', 'stomach', 'stretch', 'approach', 'reproach', 'despatch', 'dispatch']\n"
     ]
    }
   ],
   "source": [
    "word = sorted([word for word in set(text2) if word.endswith('ch')], key=len)\n",
    "print(word)"
   ]
  },
  {
   "cell_type": "code",
   "execution_count": 164,
   "id": "1cc1a118-bc03-4b29-8855-741b0538bd39",
   "metadata": {},
   "outputs": [
    {
     "name": "stdout",
     "output_type": "stream",
     "text": [
      "['r-ch', 'm-ch', 'e-ch', 'E-ch', 'S-ch', 'i-ch', 's-ch', 'M-ch', 'b-ch', 'f-ch', 'w-ch', 'c-ch', 'W-ch', 'w-ch', 'c-ch', 'p-ch', 't-ch', 'r-ch', 't-ch', 'M-ch', 'm-ch', 's-ch', 's-ch', 'b-ch', 'b-ch', 'e-ch', 's-ch', 'a-ch', 's-ch', 's-ch', 's-ch', 'a-ch', 'r-ch', 'd-ch', 'd-ch', 'church']\n"
     ]
    }
   ],
   "source": [
    "new_word = []\n",
    "for w in word:\n",
    "    if w.startswith('ch'):\n",
    "        new_word.append(w)\n",
    "    else:\n",
    "        list_w = list(w)\n",
    "        list_w[1:-2] = '-'\n",
    "        w = \"\".join(list_w)\n",
    "        new_word.append(w)\n",
    "print(sorted((new_word), key=len))"
   ]
  }
 ],
 "metadata": {
  "kernelspec": {
   "display_name": "Python 3 (ipykernel)",
   "language": "python",
   "name": "python3"
  },
  "language_info": {
   "codemirror_mode": {
    "name": "ipython",
    "version": 3
   },
   "file_extension": ".py",
   "mimetype": "text/x-python",
   "name": "python",
   "nbconvert_exporter": "python",
   "pygments_lexer": "ipython3",
   "version": "3.9.7"
  }
 },
 "nbformat": 4,
 "nbformat_minor": 5
}
