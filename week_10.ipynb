{
 "cells": [
  {
   "cell_type": "markdown",
   "id": "a04928cd-93bc-4039-80d2-5240f00b10b6",
   "metadata": {},
   "source": [
    "#### defaultdict -> project, task1과 관련\n",
    "- 값이 없으면 0으로 설정될 수 있게 해주는 딕셔너리\n",
    "- defaultdict(list) # []"
   ]
  },
  {
   "cell_type": "code",
   "execution_count": 79,
   "id": "824b9dc6-eff5-40f5-b534-590b8c4d4c0f",
   "metadata": {},
   "outputs": [
    {
     "data": {
      "text/plain": [
       "{'h': 1, 'e': 1, 'l': 3, 'o': 2, 'w': 1, 'r': 1, 'd': 1}"
      ]
     },
     "execution_count": 79,
     "metadata": {},
     "output_type": "execute_result"
    }
   ],
   "source": [
    "from collections import defaultdict\n",
    "letter = 'hello world'\n",
    "empty = {}\n",
    "for ch in letter:\n",
    "    if ch.isalpha():\n",
    "        empty.setdefault(ch,0)\n",
    "        empty[ch] += 1\n",
    "empty"
   ]
  },
  {
   "cell_type": "code",
   "execution_count": 80,
   "id": "4085d9ce-40c0-4591-bad2-21491b6d84bf",
   "metadata": {},
   "outputs": [
    {
     "data": {
      "text/plain": [
       "defaultdict(int, {'h': 1, 'e': 1, 'l': 3, 'o': 2, 'w': 1, 'r': 1, 'd': 1})"
      ]
     },
     "execution_count": 80,
     "metadata": {},
     "output_type": "execute_result"
    }
   ],
   "source": [
    "empty2 = defaultdict(int)\n",
    "for ch in letter:\n",
    "    if ch.isalpha():\n",
    "        empty2[ch] += 1\n",
    "empty2"
   ]
  },
  {
   "cell_type": "markdown",
   "id": "26bdf7b2-3c71-4b57-a1e9-61ad234be15b",
   "metadata": {},
   "source": [
    "## Object & Class\n",
    "- 객체? 실체적인 모든 물건, 개념\n",
    "- 속성, 행동을 가지는 개념\n",
    "- 자동차\n",
    "    - 속성: 엔진, 브랜드, 가격, 색상, 이름 ... => 변수\n",
    "    - 행동: 나가다, 정지하다, 좌회전, 우회전... => 매서드(함수)"
   ]
  },
  {
   "cell_type": "markdown",
   "id": "58b85be4-d5be-43ea-9a79-de7b2ec48cb7",
   "metadata": {},
   "source": [
    "### 클래스\n",
    "- 객체가 가져야 할 기본 정보를 담은 코드\n",
    "- 설계도, 틀 , 프레임워크\n",
    "- 붕어빵의 틀\n",
    "- 붕어빵 == 인스턴스\n",
    "- 'class Car:' \n",
    "    - 클래스명은 카멜표기법을 쓴다.(대문자를 사용)"
   ]
  },
  {
   "cell_type": "code",
   "execution_count": 81,
   "id": "810901f1-905f-4b5b-9413-51c45dae3d0a",
   "metadata": {},
   "outputs": [
    {
     "data": {
      "text/plain": [
       "<__main__.Game at 0x207357e7940>"
      ]
     },
     "execution_count": 81,
     "metadata": {},
     "output_type": "execute_result"
    }
   ],
   "source": [
    "# 정의\n",
    "class Game:\n",
    "    pass\n",
    "\n",
    "# 선언(괄호 꼭 쓸것)\n",
    "game1 = Game()\n",
    "game1"
   ]
  },
  {
   "cell_type": "code",
   "execution_count": 82,
   "id": "89840562-9ea7-4aa9-b077-65775f5e2abd",
   "metadata": {},
   "outputs": [
    {
     "data": {
      "text/plain": [
       "<__main__.Game at 0x207357e7370>"
      ]
     },
     "execution_count": 82,
     "metadata": {},
     "output_type": "execute_result"
    }
   ],
   "source": [
    "game2 = Game()\n",
    "game2"
   ]
  },
  {
   "cell_type": "code",
   "execution_count": 83,
   "id": "4ed44455-a8af-4775-8da9-adb95c115d62",
   "metadata": {},
   "outputs": [
    {
     "data": {
      "text/plain": [
       "__main__.Game"
      ]
     },
     "execution_count": 83,
     "metadata": {},
     "output_type": "execute_result"
    }
   ],
   "source": [
    "type(game1)"
   ]
  },
  {
   "cell_type": "code",
   "execution_count": 84,
   "id": "f0a098bb-f859-4152-914e-e00617d5fce6",
   "metadata": {},
   "outputs": [],
   "source": [
    "game1.title = 'LOL'\n",
    "game2.title = 'Battle Ground'"
   ]
  },
  {
   "cell_type": "code",
   "execution_count": 85,
   "id": "61bf393a-3ad4-40da-8745-d5420717cce3",
   "metadata": {},
   "outputs": [
    {
     "name": "stdout",
     "output_type": "stream",
     "text": [
      "LOL\n",
      "Battle Ground\n"
     ]
    }
   ],
   "source": [
    "for game in [game1, game2]:\n",
    "    print(game.title)"
   ]
  },
  {
   "cell_type": "code",
   "execution_count": 86,
   "id": "9e1b1444-5d54-4638-9364-6bf8a5b834aa",
   "metadata": {},
   "outputs": [],
   "source": [
    "game3 = Game()"
   ]
  },
  {
   "cell_type": "code",
   "execution_count": 87,
   "id": "e7d4a32f-ef7c-491d-9dec-f641e9218d0a",
   "metadata": {},
   "outputs": [],
   "source": [
    "game1.title = 'LOL'\n",
    "game2.title = 'Battle Ground'\n",
    "game3.title = 'Starcraft'"
   ]
  },
  {
   "cell_type": "code",
   "execution_count": 88,
   "id": "1eebd5c1-5654-46dd-bb4c-ff26e6073756",
   "metadata": {},
   "outputs": [
    {
     "data": {
      "text/plain": [
       "'Starcraft'"
      ]
     },
     "execution_count": 88,
     "metadata": {},
     "output_type": "execute_result"
    }
   ],
   "source": [
    "game3.title"
   ]
  },
  {
   "cell_type": "code",
   "execution_count": 89,
   "id": "c4895d35-9d4e-4c02-8b3b-c848044c7234",
   "metadata": {},
   "outputs": [
    {
     "name": "stdout",
     "output_type": "stream",
     "text": [
      "LOL\n",
      "Battle Ground\n",
      "Starcraft\n"
     ]
    }
   ],
   "source": [
    "for game in [game1, game2, game3]:\n",
    "    print(game.title)"
   ]
  },
  {
   "cell_type": "code",
   "execution_count": 90,
   "id": "71b1603a-d66a-4924-8f88-52ef7cf1fd85",
   "metadata": {},
   "outputs": [],
   "source": [
    "class Game:\n",
    "    company = 'blizzard'\n",
    "game4 = Game()"
   ]
  },
  {
   "cell_type": "code",
   "execution_count": 91,
   "id": "ba667b5b-dfe4-4a7c-85b9-44d7949c903e",
   "metadata": {},
   "outputs": [
    {
     "data": {
      "text/plain": [
       "'blizzard'"
      ]
     },
     "execution_count": 91,
     "metadata": {},
     "output_type": "execute_result"
    }
   ],
   "source": [
    "game4.company"
   ]
  },
  {
   "cell_type": "code",
   "execution_count": 92,
   "id": "191e4f48-84c6-4bbc-a78c-e0c87e1f8d1e",
   "metadata": {},
   "outputs": [],
   "source": [
    "# 다양한 속성을 원한다 -> def __init__():"
   ]
  },
  {
   "cell_type": "code",
   "execution_count": 93,
   "id": "f4c44093-2368-412e-b12c-390fe46d9a69",
   "metadata": {},
   "outputs": [],
   "source": [
    "# self를 써줘야 함- 굉장히 중요!!\n",
    "class Game:\n",
    "    def __init__(self, title): # 속성을 초기화하는 함수 (self == my_car)\n",
    "        self.title = title # self == instance"
   ]
  },
  {
   "cell_type": "code",
   "execution_count": 94,
   "id": "ef189fcd-6b76-49b0-9687-bf7ddabad29c",
   "metadata": {},
   "outputs": [
    {
     "data": {
      "text/plain": [
       "'Maple story'"
      ]
     },
     "execution_count": 94,
     "metadata": {},
     "output_type": "execute_result"
    }
   ],
   "source": [
    "game5 = Game(title = 'Maple story')\n",
    "game5.title"
   ]
  },
  {
   "cell_type": "code",
   "execution_count": 95,
   "id": "6e707c46-6e16-406d-980d-e767223ea74d",
   "metadata": {},
   "outputs": [
    {
     "data": {
      "text/plain": [
       "'LostArk'"
      ]
     },
     "execution_count": 95,
     "metadata": {},
     "output_type": "execute_result"
    }
   ],
   "source": [
    "my_game = Game(title = 'LostArk')\n",
    "my_game.title"
   ]
  },
  {
   "cell_type": "code",
   "execution_count": 96,
   "id": "b8fc35ef-c2f2-409b-a2d4-24b07f27533e",
   "metadata": {},
   "outputs": [],
   "source": [
    "# company, style 속성 초기화하기\n",
    "# instance 만들기"
   ]
  },
  {
   "cell_type": "code",
   "execution_count": 97,
   "id": "e4d7546e-0982-4c20-9b75-b64cc0e60be2",
   "metadata": {},
   "outputs": [],
   "source": [
    "# company, style 속성 초기화하기\n",
    "# instance 만들기\n",
    "class Game():\n",
    "    def __init__(self, title, company, style):\n",
    "        # self.<변수> = 어떤 객체가 만들어지더라도 가져갈 변수명\n",
    "        # 변수 = 객체 생성 시 설정되는 이름(처음 들어오는 값)\n",
    "        self.title = title\n",
    "        self.company = company\n",
    "        self.style = style"
   ]
  },
  {
   "cell_type": "code",
   "execution_count": 98,
   "id": "4ce88019-35c2-4a45-af2d-cf60a1b8bc3e",
   "metadata": {},
   "outputs": [
    {
     "data": {
      "text/plain": [
       "'D&F'"
      ]
     },
     "execution_count": 98,
     "metadata": {},
     "output_type": "execute_result"
    }
   ],
   "source": [
    "game6 = Game('D&F', 'Nexon', 'RPG')\n",
    "game6.title"
   ]
  },
  {
   "cell_type": "code",
   "execution_count": 99,
   "id": "c5873916-7da7-4cbf-883e-639d2a03d779",
   "metadata": {},
   "outputs": [
    {
     "data": {
      "text/plain": [
       "'Nexon'"
      ]
     },
     "execution_count": 99,
     "metadata": {},
     "output_type": "execute_result"
    }
   ],
   "source": [
    "game6.company"
   ]
  },
  {
   "cell_type": "code",
   "execution_count": 100,
   "id": "35b50ae2-d934-43e2-8b8d-74f48e9fa8a2",
   "metadata": {},
   "outputs": [
    {
     "data": {
      "text/plain": [
       "'RPG'"
      ]
     },
     "execution_count": 100,
     "metadata": {},
     "output_type": "execute_result"
    }
   ],
   "source": [
    "game6.style"
   ]
  },
  {
   "cell_type": "code",
   "execution_count": 101,
   "id": "dd4449ef-68f8-4d5a-8bdc-559501f24fed",
   "metadata": {},
   "outputs": [],
   "source": [
    "class Game():\n",
    "    def __init__(self, title, company, style):\n",
    "        self.title = title\n",
    "        self.company = company\n",
    "        self.style = style\n",
    "# action 정의하기\n",
    "    def play(self):\n",
    "        print(f'나는 지금 {self.title}을 하고 있다.')\n",
    "    def stop(self):\n",
    "        print(f'나는 방금 {self.title}을 종료했다.')\n",
    "    def change_style(self, style):\n",
    "        self.style = style"
   ]
  },
  {
   "cell_type": "code",
   "execution_count": 102,
   "id": "c5f57dee-5cf2-4ffa-b518-a69be4e04979",
   "metadata": {},
   "outputs": [],
   "source": [
    "my_game = Game('LostArk', 'smilegate', 'RPG')"
   ]
  },
  {
   "cell_type": "code",
   "execution_count": 103,
   "id": "930daaf3-644c-44fb-b0d5-23d281974f54",
   "metadata": {},
   "outputs": [
    {
     "data": {
      "text/plain": [
       "'LostArk'"
      ]
     },
     "execution_count": 103,
     "metadata": {},
     "output_type": "execute_result"
    }
   ],
   "source": [
    "my_game.title"
   ]
  },
  {
   "cell_type": "code",
   "execution_count": 104,
   "id": "c7255920-e1f8-4b9c-8a75-42ed067e336e",
   "metadata": {},
   "outputs": [
    {
     "data": {
      "text/plain": [
       "'smilegate'"
      ]
     },
     "execution_count": 104,
     "metadata": {},
     "output_type": "execute_result"
    }
   ],
   "source": [
    "my_game.company"
   ]
  },
  {
   "cell_type": "code",
   "execution_count": 105,
   "id": "c924c879-6179-4e89-a463-8a0672db90f5",
   "metadata": {},
   "outputs": [
    {
     "data": {
      "text/plain": [
       "'RPG'"
      ]
     },
     "execution_count": 105,
     "metadata": {},
     "output_type": "execute_result"
    }
   ],
   "source": [
    "my_game.style"
   ]
  },
  {
   "cell_type": "code",
   "execution_count": 106,
   "id": "5e752274-a151-44fc-9c3a-13d92f9c9c51",
   "metadata": {},
   "outputs": [],
   "source": [
    "my_game.title = 'Maple story'"
   ]
  },
  {
   "cell_type": "code",
   "execution_count": 107,
   "id": "f1095235-2c4d-4732-b2ec-ac742085bdee",
   "metadata": {},
   "outputs": [],
   "source": [
    "my_game.company = 'Nexon'"
   ]
  },
  {
   "cell_type": "code",
   "execution_count": 108,
   "id": "cff0b8d1-5d28-4d67-b1b6-05c875a356c3",
   "metadata": {},
   "outputs": [
    {
     "data": {
      "text/plain": [
       "'Maple story'"
      ]
     },
     "execution_count": 108,
     "metadata": {},
     "output_type": "execute_result"
    }
   ],
   "source": [
    "my_game.title"
   ]
  },
  {
   "cell_type": "code",
   "execution_count": 109,
   "id": "81a63fac-0a57-41c6-8deb-af5a78bc14a8",
   "metadata": {},
   "outputs": [
    {
     "data": {
      "text/plain": [
       "'Nexon'"
      ]
     },
     "execution_count": 109,
     "metadata": {},
     "output_type": "execute_result"
    }
   ],
   "source": [
    "my_game.company"
   ]
  },
  {
   "cell_type": "code",
   "execution_count": 110,
   "id": "33e03ff2-3720-416b-80d5-cc61e028cff5",
   "metadata": {},
   "outputs": [
    {
     "name": "stdout",
     "output_type": "stream",
     "text": [
      "나는 지금 Maple story을 하고 있다.\n"
     ]
    }
   ],
   "source": [
    "my_game.play()"
   ]
  },
  {
   "cell_type": "code",
   "execution_count": 111,
   "id": "a15634a6-3382-44b0-af24-68dfd0b6a75e",
   "metadata": {},
   "outputs": [
    {
     "name": "stdout",
     "output_type": "stream",
     "text": [
      "나는 방금 Maple story을 종료했다.\n"
     ]
    }
   ],
   "source": [
    "my_game.stop()"
   ]
  },
  {
   "cell_type": "code",
   "execution_count": 112,
   "id": "d13d4b1b-c3a4-4f66-be2d-2bb8cf77f274",
   "metadata": {},
   "outputs": [],
   "source": [
    "my_game.change_style('AOS')"
   ]
  },
  {
   "cell_type": "code",
   "execution_count": 113,
   "id": "b66a4509-5230-44bb-9a65-c8a455a4b5e6",
   "metadata": {},
   "outputs": [
    {
     "data": {
      "text/plain": [
       "'AOS'"
      ]
     },
     "execution_count": 113,
     "metadata": {},
     "output_type": "execute_result"
    }
   ],
   "source": [
    "my_game.style"
   ]
  },
  {
   "cell_type": "code",
   "execution_count": 114,
   "id": "ddbd38d2-fc80-4561-a321-d6a09baaae51",
   "metadata": {},
   "outputs": [],
   "source": [
    "class Game():\n",
    "    def __init__(self, title, company = None, style = 'RPG'):\n",
    "        # 특정한 값을 default로 지정하고 싶을 때에는 함수에서 처럼 매개변수에 default 값을 지정한다.\n",
    "        # 특정한 매개변수가 없어도 괜찮은 경우에는 'None'을 사용한다.\n",
    "        self.title = title\n",
    "        self.company = company\n",
    "        self.style = style\n",
    "# action 정의하기\n",
    "    def play(self):\n",
    "        print(f'나는 지금 {self.title}을 하고 있다.')\n",
    "    def stop(self):\n",
    "        print(f'나는 방금 {self.title}을 종료했다.')\n",
    "    def change_style(self, style):\n",
    "        self.style = style"
   ]
  },
  {
   "cell_type": "code",
   "execution_count": 115,
   "id": "292d3ce5-6807-45f0-a53f-de6d7eaeb578",
   "metadata": {},
   "outputs": [],
   "source": [
    "new_game = Game('Football Management')"
   ]
  },
  {
   "cell_type": "code",
   "execution_count": 116,
   "id": "7e9ffc7d-f91e-4bdd-a24f-c8ec5cf2abc1",
   "metadata": {},
   "outputs": [],
   "source": [
    "new_game.company\n",
    "# company가 None이기 때문에 출력이 안됨"
   ]
  },
  {
   "cell_type": "code",
   "execution_count": 117,
   "id": "9ba2397f-6c05-4983-8b31-e452820d3b01",
   "metadata": {},
   "outputs": [
    {
     "data": {
      "text/plain": [
       "'RPG'"
      ]
     },
     "execution_count": 117,
     "metadata": {},
     "output_type": "execute_result"
    }
   ],
   "source": [
    "# style을 RPG로 고정했기 때문에 매개변수를 입력하지 않으면 RPG가 출력됨\n",
    "new_game.style"
   ]
  },
  {
   "cell_type": "markdown",
   "id": "cbdb6299-d133-4a5e-94ba-7ff6ca593984",
   "metadata": {},
   "source": [
    "### getter, setter\n",
    "- 캡슐화, 정보 은닉\n",
    "- 클래스 외부에서 변수 접근을 용이하지 못하게 하는 것\n",
    "- public -> private"
   ]
  },
  {
   "cell_type": "code",
   "execution_count": 118,
   "id": "5ac19b3d-85c2-4ccb-9af9-07fc4cfaaa6f",
   "metadata": {},
   "outputs": [],
   "source": [
    "class Car:\n",
    "    color = 'Black'"
   ]
  },
  {
   "cell_type": "code",
   "execution_count": 119,
   "id": "f1367b79-4e91-43c2-abcc-e06ec03304d2",
   "metadata": {},
   "outputs": [
    {
     "data": {
      "text/plain": [
       "'Black'"
      ]
     },
     "execution_count": 119,
     "metadata": {},
     "output_type": "execute_result"
    }
   ],
   "source": [
    "sorento = Car()\n",
    "sorento.color"
   ]
  },
  {
   "cell_type": "code",
   "execution_count": 120,
   "id": "1c41837a-6067-4402-9599-808bf6c14fba",
   "metadata": {},
   "outputs": [],
   "source": [
    "# 1. 변수명에 접근하는 함수와 변수명을 변경하는 함수를 따로 사용\n",
    "class Car():\n",
    "    def __init__(self, input_brand):\n",
    "        self.brand = input_brand\n",
    "    \n",
    "    # 변수명에 접근\n",
    "    def get_brand(self):\n",
    "        return self.brand\n",
    "    # 변수명을 변경\n",
    "    def set_brand(self, input_brand):\n",
    "        self.brand = input_brand"
   ]
  },
  {
   "cell_type": "code",
   "execution_count": 121,
   "id": "7efeb53e-9814-4977-bde7-bc7871c01b8e",
   "metadata": {},
   "outputs": [
    {
     "data": {
      "text/plain": [
       "'hyundai'"
      ]
     },
     "execution_count": 121,
     "metadata": {},
     "output_type": "execute_result"
    }
   ],
   "source": [
    "new_car = Car('hyundai')\n",
    "new_car.brand"
   ]
  },
  {
   "cell_type": "code",
   "execution_count": 122,
   "id": "a13d3828-6171-4d69-b7d0-49e97df196fd",
   "metadata": {},
   "outputs": [
    {
     "data": {
      "text/plain": [
       "'hyundai'"
      ]
     },
     "execution_count": 122,
     "metadata": {},
     "output_type": "execute_result"
    }
   ],
   "source": [
    "new_car.get_brand()"
   ]
  },
  {
   "cell_type": "code",
   "execution_count": 123,
   "id": "18cde926-d9c7-4209-a97d-36334c5e4914",
   "metadata": {},
   "outputs": [
    {
     "data": {
      "text/plain": [
       "'Tesla'"
      ]
     },
     "execution_count": 123,
     "metadata": {},
     "output_type": "execute_result"
    }
   ],
   "source": [
    "new_car.set_brand('Tesla')\n",
    "new_car.brand"
   ]
  },
  {
   "cell_type": "code",
   "execution_count": 124,
   "id": "6fba3b27-bcaf-44fc-a103-d564a145f4c0",
   "metadata": {},
   "outputs": [],
   "source": [
    "Car.brand = 'kia'"
   ]
  },
  {
   "cell_type": "code",
   "execution_count": 125,
   "id": "2b5280d1-7510-4b17-b4b8-6d6845431164",
   "metadata": {},
   "outputs": [
    {
     "data": {
      "text/plain": [
       "'ford'"
      ]
     },
     "execution_count": 125,
     "metadata": {},
     "output_type": "execute_result"
    }
   ],
   "source": [
    "your_car = Car('ford')\n",
    "your_car.brand"
   ]
  },
  {
   "cell_type": "code",
   "execution_count": 126,
   "id": "ec0df1fa-8068-452a-9f71-5fbd06a29bd9",
   "metadata": {},
   "outputs": [],
   "source": [
    "# 2. hidden을 사용하는 방법\n",
    "class Car:\n",
    "    def __init__(self, input_brand):\n",
    "        self.hidden_brand = input_brand\n",
    "    def get_brand(self):\n",
    "        return self.hidden_brand\n",
    "    def set_brand(self, input_brand):\n",
    "        self.hidden_brand = input_brand\n",
    "    brand = property(get_brand, set_brand) # 함수를 좀더 용의하게 사용"
   ]
  },
  {
   "cell_type": "code",
   "execution_count": 127,
   "id": "191b9a16-bf46-40b0-8394-16387ecdc633",
   "metadata": {},
   "outputs": [],
   "source": [
    "new_car.brand = 'BMW'"
   ]
  },
  {
   "cell_type": "code",
   "execution_count": 128,
   "id": "3967b1fa-5724-484b-bc67-5059cbeaace2",
   "metadata": {},
   "outputs": [],
   "source": [
    "new_car.hidden_brand = 'audi'"
   ]
  },
  {
   "cell_type": "code",
   "execution_count": 129,
   "id": "69af1e2b-9c25-426c-97bf-6f2beaffe846",
   "metadata": {},
   "outputs": [
    {
     "data": {
      "text/plain": [
       "'BMW'"
      ]
     },
     "execution_count": 129,
     "metadata": {},
     "output_type": "execute_result"
    }
   ],
   "source": [
    "new_car.brand"
   ]
  },
  {
   "cell_type": "code",
   "execution_count": 130,
   "id": "37a13823-5a64-4bc3-b025-f09593cd4a8c",
   "metadata": {},
   "outputs": [
    {
     "data": {
      "text/plain": [
       "'audi'"
      ]
     },
     "execution_count": 130,
     "metadata": {},
     "output_type": "execute_result"
    }
   ],
   "source": [
    "new_car.hidden_brand"
   ]
  },
  {
   "cell_type": "code",
   "execution_count": 131,
   "id": "5fb24015-244a-41b9-be81-e9b500aa7c1e",
   "metadata": {},
   "outputs": [],
   "source": [
    "Car.brand = 'kia'"
   ]
  },
  {
   "cell_type": "code",
   "execution_count": 132,
   "id": "c461e135-ea06-4b55-9785-8e4f73621282",
   "metadata": {},
   "outputs": [
    {
     "data": {
      "text/plain": [
       "'kia'"
      ]
     },
     "execution_count": 132,
     "metadata": {},
     "output_type": "execute_result"
    }
   ],
   "source": [
    "Car.brand"
   ]
  },
  {
   "cell_type": "code",
   "execution_count": 133,
   "id": "48bac650-cbd4-487c-96b5-c52fc4e8b2fd",
   "metadata": {},
   "outputs": [
    {
     "data": {
      "text/plain": [
       "'BMW'"
      ]
     },
     "execution_count": 133,
     "metadata": {},
     "output_type": "execute_result"
    }
   ],
   "source": [
    "new_car.brand"
   ]
  },
  {
   "cell_type": "code",
   "execution_count": 134,
   "id": "dc670c63-8590-4e87-9475-9021c5b905a4",
   "metadata": {},
   "outputs": [
    {
     "data": {
      "text/plain": [
       "'audi'"
      ]
     },
     "execution_count": 134,
     "metadata": {},
     "output_type": "execute_result"
    }
   ],
   "source": [
    "new_car.hidden_brand"
   ]
  },
  {
   "cell_type": "code",
   "execution_count": 135,
   "id": "9c2b4ef8-0845-4dd6-9c25-c21809e0d17c",
   "metadata": {},
   "outputs": [],
   "source": [
    "# 3. decorator(@)를 사용하는 방법\n",
    "class Car:\n",
    "    def __init__(self, input_brand):\n",
    "        self.hidden_brand = input_brand\n",
    "    @property\n",
    "    def brand(self):\n",
    "        return self.hidden_brand\n",
    "    @brand.setter\n",
    "    def brand(self, input_brand):\n",
    "        self.hidden_brand = input_brand"
   ]
  },
  {
   "cell_type": "code",
   "execution_count": 136,
   "id": "f35267cc-1598-46a5-885e-e8b2c739e3c7",
   "metadata": {},
   "outputs": [],
   "source": [
    "# 4. hidden 대신에 __를 사용하는 방법\n",
    "class Car:\n",
    "    def __init__(self, input_brand):\n",
    "        self.__brand = input_brand\n",
    "    \n",
    "    @property\n",
    "    def brand(self):\n",
    "        return self.__brand\n",
    "    \n",
    "    @brand.setter\n",
    "    def brand(self, input_brand):\n",
    "        self.__brand = input_brand"
   ]
  },
  {
   "cell_type": "code",
   "execution_count": 137,
   "id": "0fd03c54-7a94-4ee4-8ff8-cb6a29dd5cba",
   "metadata": {},
   "outputs": [
    {
     "ename": "AttributeError",
     "evalue": "'Car' object has no attribute '__brand'",
     "output_type": "error",
     "traceback": [
      "\u001b[1;31m---------------------------------------------------------------------------\u001b[0m",
      "\u001b[1;31mAttributeError\u001b[0m                            Traceback (most recent call last)",
      "\u001b[1;32m~\\AppData\\Local\\Temp/ipykernel_31612/1118945640.py\u001b[0m in \u001b[0;36m<module>\u001b[1;34m\u001b[0m\n\u001b[0;32m      1\u001b[0m \u001b[0mcar\u001b[0m \u001b[1;33m=\u001b[0m \u001b[0mCar\u001b[0m\u001b[1;33m(\u001b[0m\u001b[1;34m'Tesla'\u001b[0m\u001b[1;33m)\u001b[0m\u001b[1;33m\u001b[0m\u001b[1;33m\u001b[0m\u001b[0m\n\u001b[1;32m----> 2\u001b[1;33m \u001b[0mcar\u001b[0m\u001b[1;33m.\u001b[0m\u001b[0m__brand\u001b[0m\u001b[1;33m\u001b[0m\u001b[1;33m\u001b[0m\u001b[0m\n\u001b[0m",
      "\u001b[1;31mAttributeError\u001b[0m: 'Car' object has no attribute '__brand'"
     ]
    }
   ],
   "source": [
    "car = Car('Tesla')\n",
    "car.__brand"
   ]
  },
  {
   "cell_type": "code",
   "execution_count": 138,
   "id": "383dc030-90e4-4c8c-987f-4ec94c48efb4",
   "metadata": {},
   "outputs": [
    {
     "data": {
      "text/plain": [
       "'Tesla'"
      ]
     },
     "execution_count": 138,
     "metadata": {},
     "output_type": "execute_result"
    }
   ],
   "source": [
    "car.brand"
   ]
  },
  {
   "cell_type": "code",
   "execution_count": 139,
   "id": "0ae10666-187e-401b-aed5-b42da3a9cc64",
   "metadata": {},
   "outputs": [
    {
     "data": {
      "text/plain": [
       "'audi'"
      ]
     },
     "execution_count": 139,
     "metadata": {},
     "output_type": "execute_result"
    }
   ],
   "source": [
    "car.brand = 'audi'\n",
    "car.brand"
   ]
  },
  {
   "cell_type": "markdown",
   "id": "7c614bda-fdc3-4230-a51c-752c8110e7c0",
   "metadata": {
    "tags": []
   },
   "source": [
    "### 실습 ---> 다음주 수업 후/ 다음주 복습 노트에 추가\n",
    "- 객체: 메모장(노트),              메모\n",
    "- 변수: 제목, 페이지번호, 메모     글귀\n",
    "- 메서드:추가, 삭제, 페이지번호    쓰기, 지우기\n",
    "\n",
    "- getter, setter 메모장 제목에 설정하기\n",
    "- '메모' 객체에 글귀를 추가한다\n",
    "- '메모장' 객체에 메모 추가\n",
    "- 페이지번호가 늘어난다.\n",
    "- 메모를 삭제하면 페이지번호가 줄어들고\n",
    "- 페이지가 300을 넘으면 메모 추가 못하게 막기\n",
    "- 페이지번호로 메모 찾기"
   ]
  }
 ],
 "metadata": {
  "kernelspec": {
   "display_name": "Python 3 (ipykernel)",
   "language": "python",
   "name": "python3"
  },
  "language_info": {
   "codemirror_mode": {
    "name": "ipython",
    "version": 3
   },
   "file_extension": ".py",
   "mimetype": "text/x-python",
   "name": "python",
   "nbconvert_exporter": "python",
   "pygments_lexer": "ipython3",
   "version": "3.9.7"
  }
 },
 "nbformat": 4,
 "nbformat_minor": 5
}
